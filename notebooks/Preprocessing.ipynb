{
 "cells": [
  {
   "cell_type": "markdown",
   "metadata": {},
   "source": [
    "# PRE-PROCESSING"
   ]
  },
  {
   "cell_type": "markdown",
   "metadata": {},
   "source": [
    "## 1. Import Libraries"
   ]
  },
  {
   "cell_type": "code",
   "execution_count": 214,
   "metadata": {},
   "outputs": [],
   "source": [
    "import numpy as np\n",
    "import pandas as pd\n",
    "import matplotlib.pyplot as plt\n",
    "import seaborn as sns \n",
    "import calendar as cal\n",
    "import logging\n",
    "import matplotlib.pyplot as plt\n",
    "import seaborn as sns \n",
    "import calendar as cal\n",
    "import os\n",
    "\n",
    "# Suppress warnings\n",
    "import warnings\n",
    "warnings.filterwarnings(\"ignore\")\n",
    "\n",
    "# Define standard logging configuration\n",
    "logging.basicConfig(\n",
    "    level=logging.INFO,\n",
    "    filename='../logs/onlineretail.log')"
   ]
  },
  {
   "cell_type": "markdown",
   "metadata": {},
   "source": [
    "## 2. Load File"
   ]
  },
  {
   "cell_type": "code",
   "execution_count": 215,
   "metadata": {},
   "outputs": [],
   "source": [
    "try:\n",
    "    df = pd.read_csv('../data/interim/online_retail_EDA.csv', parse_dates=['InvoiceDate'])\n",
    "    df_eda = df.copy()\n",
    "    df.head()\n",
    "    \n",
    "except OSError as e:\n",
    "    logging.error(e)"
   ]
  },
  {
   "cell_type": "markdown",
   "metadata": {},
   "source": [
    "## 3. Load Global Function"
   ]
  },
  {
   "cell_type": "code",
   "execution_count": 216,
   "metadata": {},
   "outputs": [],
   "source": [
    "ChangeLogs = {}\n",
    "def log_changes(num, desc):\n",
    "    '''Custom function to update ChangeLogs{} dictionary with the number of changed records and the description of the changes.\n",
    "    Input:\n",
    "        num - number of changed records to track\n",
    "        desc - free text description of the changes\n",
    "    Return: None\n",
    "    '''\n",
    "    idx = len(ChangeLogs)\n",
    "    ChangeLogs[idx] = {'Number': num, 'Description': desc}"
   ]
  },
  {
   "cell_type": "markdown",
   "metadata": {},
   "source": [
    "## 4. Pre-process Data"
   ]
  },
  {
   "cell_type": "code",
   "execution_count": 217,
   "metadata": {},
   "outputs": [
    {
     "data": {
      "text/html": [
       "<div>\n",
       "<style scoped>\n",
       "    .dataframe tbody tr th:only-of-type {\n",
       "        vertical-align: middle;\n",
       "    }\n",
       "\n",
       "    .dataframe tbody tr th {\n",
       "        vertical-align: top;\n",
       "    }\n",
       "\n",
       "    .dataframe thead th {\n",
       "        text-align: right;\n",
       "    }\n",
       "</style>\n",
       "<table border=\"1\" class=\"dataframe\">\n",
       "  <thead>\n",
       "    <tr style=\"text-align: right;\">\n",
       "      <th></th>\n",
       "      <th>Invoice</th>\n",
       "      <th>StockCode</th>\n",
       "      <th>Description</th>\n",
       "      <th>Quantity</th>\n",
       "      <th>InvoiceDate</th>\n",
       "      <th>Price</th>\n",
       "      <th>CustomerID</th>\n",
       "      <th>Country</th>\n",
       "      <th>Month</th>\n",
       "      <th>Sales</th>\n",
       "    </tr>\n",
       "  </thead>\n",
       "  <tbody>\n",
       "    <tr>\n",
       "      <th>0</th>\n",
       "      <td>539993</td>\n",
       "      <td>22386</td>\n",
       "      <td>JUMBO BAG PINK POLKADOT</td>\n",
       "      <td>10</td>\n",
       "      <td>2011-01-04</td>\n",
       "      <td>1.95</td>\n",
       "      <td>13313</td>\n",
       "      <td>United Kingdom</td>\n",
       "      <td>1</td>\n",
       "      <td>19.5</td>\n",
       "    </tr>\n",
       "    <tr>\n",
       "      <th>1</th>\n",
       "      <td>539993</td>\n",
       "      <td>21499</td>\n",
       "      <td>BLUE POLKADOT WRAP</td>\n",
       "      <td>25</td>\n",
       "      <td>2011-01-04</td>\n",
       "      <td>0.42</td>\n",
       "      <td>13313</td>\n",
       "      <td>United Kingdom</td>\n",
       "      <td>1</td>\n",
       "      <td>10.5</td>\n",
       "    </tr>\n",
       "    <tr>\n",
       "      <th>2</th>\n",
       "      <td>539993</td>\n",
       "      <td>21498</td>\n",
       "      <td>RED RETROSPOT WRAP</td>\n",
       "      <td>25</td>\n",
       "      <td>2011-01-04</td>\n",
       "      <td>0.42</td>\n",
       "      <td>13313</td>\n",
       "      <td>United Kingdom</td>\n",
       "      <td>1</td>\n",
       "      <td>10.5</td>\n",
       "    </tr>\n",
       "    <tr>\n",
       "      <th>3</th>\n",
       "      <td>539993</td>\n",
       "      <td>22379</td>\n",
       "      <td>RECYCLING BAG RETROSPOT</td>\n",
       "      <td>5</td>\n",
       "      <td>2011-01-04</td>\n",
       "      <td>2.10</td>\n",
       "      <td>13313</td>\n",
       "      <td>United Kingdom</td>\n",
       "      <td>1</td>\n",
       "      <td>10.5</td>\n",
       "    </tr>\n",
       "    <tr>\n",
       "      <th>4</th>\n",
       "      <td>539993</td>\n",
       "      <td>20718</td>\n",
       "      <td>RED RETROSPOT SHOPPER BAG</td>\n",
       "      <td>10</td>\n",
       "      <td>2011-01-04</td>\n",
       "      <td>1.25</td>\n",
       "      <td>13313</td>\n",
       "      <td>United Kingdom</td>\n",
       "      <td>1</td>\n",
       "      <td>12.5</td>\n",
       "    </tr>\n",
       "  </tbody>\n",
       "</table>\n",
       "</div>"
      ],
      "text/plain": [
       "   Invoice StockCode                Description  Quantity InvoiceDate  Price  \\\n",
       "0   539993     22386    JUMBO BAG PINK POLKADOT        10  2011-01-04   1.95   \n",
       "1   539993     21499         BLUE POLKADOT WRAP        25  2011-01-04   0.42   \n",
       "2   539993     21498        RED RETROSPOT WRAP         25  2011-01-04   0.42   \n",
       "3   539993     22379   RECYCLING BAG RETROSPOT          5  2011-01-04   2.10   \n",
       "4   539993     20718  RED RETROSPOT SHOPPER BAG        10  2011-01-04   1.25   \n",
       "\n",
       "   CustomerID         Country  Month  Sales  \n",
       "0       13313  United Kingdom      1   19.5  \n",
       "1       13313  United Kingdom      1   10.5  \n",
       "2       13313  United Kingdom      1   10.5  \n",
       "3       13313  United Kingdom      1   10.5  \n",
       "4       13313  United Kingdom      1   12.5  "
      ]
     },
     "metadata": {},
     "output_type": "display_data"
    }
   ],
   "source": [
    "display(df.head())\n",
    "\n",
    "log_changes(df.shape[0], 'Row count before Pre-processing step')"
   ]
  },
  {
   "cell_type": "markdown",
   "metadata": {},
   "source": [
    "## 4.1 Transform features: Recency, Frequency, Monetary"
   ]
  },
  {
   "cell_type": "markdown",
   "metadata": {},
   "source": [
    "Create a new Recency column and calculate the date difference."
   ]
  },
  {
   "cell_type": "markdown",
   "metadata": {},
   "source": [
    "Since the focus of this project is on clustering, only the non-outliers will be processed by the model. \n",
    "It is necessary to perform separate analysis on outliers as they represent extreme behaviours by the customers, such as very big spending and very frequent purchases."
   ]
  },
  {
   "cell_type": "markdown",
   "metadata": {},
   "source": [
    "The columns of interest are recency, frequency, and monetary, so all other columnns the dataset are be dropped. "
   ]
  },
  {
   "cell_type": "code",
   "execution_count": 218,
   "metadata": {},
   "outputs": [],
   "source": [
    "recent_invdt = df['InvoiceDate'].max() #Ideally, should be the latest day of invoice (near today's date)\n",
    "\n",
    "df_percust = df.groupby('CustomerID', as_index=False) \\\n",
    "    .agg( \n",
    "        LastPurchaseDate = ('InvoiceDate', 'max'),\n",
    "        Frequency = ('Invoice', 'nunique'),\n",
    "        Monetary = ('Sales', 'sum'))\n",
    "\n",
    "df_percust['Recency'] = (recent_invdt - df_percust['LastPurchaseDate']).dt.days\n",
    "df_percust.head()\n",
    "\n",
    "log_changes(df_percust.shape[0], 'RFM records per customer')"
   ]
  },
  {
   "cell_type": "markdown",
   "metadata": {},
   "source": [
    "## 4.2 Plot distribution of Recency, Frequency, and Monetary per Customer"
   ]
  },
  {
   "cell_type": "code",
   "execution_count": 219,
   "metadata": {},
   "outputs": [
    {
     "data": {
      "image/png": "[encoded data removed]",
      "text/plain": [
       "<Figure size 600x300 with 3 Axes>"
      ]
     },
     "metadata": {},
     "output_type": "display_data"
    }
   ],
   "source": [
    "sns.set(font_scale=0.7, style='dark')\n",
    "fig, ax= plt.subplots(1,3, figsize=(6,3))\n",
    "\n",
    "#Recency\n",
    "sns.histplot(df_percust.Recency, bins=10, color='darkseagreen', ax=ax[0])\n",
    "# ax[0].grid(False)\n",
    "ax[0].set_xlabel('Recency (Days)')\n",
    "ax[0].set_yscale('log')\n",
    "ax[0].set_title('Recency Distribution')\n",
    "\n",
    "#Frequency\n",
    "sns.histplot(df_percust.Frequency, bins=10, color='salmon', ax=ax[1])\n",
    "# ax[1].hist(df_percust.Frequency, bins=3, color='orange')\n",
    "ax[1].set_xlabel('Frequency')\n",
    "ax[1].set_title('Frequency Distribution')\n",
    "ax[1].set_yscale('log')\n",
    "\n",
    "#Monetary\n",
    "sns.histplot(df_percust.Monetary, bins=10, color='skyblue', ax=ax[2])\n",
    "ax[2].set_xlabel('Monetary (Sterling)')\n",
    "ax[2].tick_params(axis='x', labelrotation=90)\n",
    "ax[2].set_title('Monetary Distribution')\n",
    "ax[2].set_yscale('log')\n",
    "\n",
    "\n",
    "plt.tight_layout(pad=0.5)\n",
    "plt.show()"
   ]
  },
  {
   "cell_type": "code",
   "execution_count": 220,
   "metadata": {},
   "outputs": [
    {
     "data": {
      "image/png": "[encoded data removed]",
      "text/plain": [
       "<Figure size 600x300 with 3 Axes>"
      ]
     },
     "metadata": {},
     "output_type": "display_data"
    }
   ],
   "source": [
    "sns.set(font_scale=0.7, style='darkgrid')\n",
    "fig, ax= plt.subplots(1,3, figsize=(6,3))\n",
    "\n",
    "#Recency\n",
    "sns.boxplot(data=df_percust.Recency, color='darkseagreen', ax=ax[0], width=0.5)\n",
    "ax[0].set_title('Recency Boxplot')\n",
    "\n",
    "#Frequency\n",
    "sns.boxplot(data=df_percust.Frequency, color='salmon', ax=ax[1], width=0.5)\n",
    "ax[1].set_title('Frequency Boxplot')\n",
    "\n",
    "#Monetary\n",
    "sns.boxplot(data=df_percust.Monetary, color='skyblue', ax=ax[2], width=0.5)\n",
    "ax[2].set_title('Monetary Boxplot')\n",
    "ax[2].set_yscale('log')\n",
    "\n",
    "plt.tight_layout(pad=1)\n",
    "plt.show()"
   ]
  },
  {
   "cell_type": "markdown",
   "metadata": {},
   "source": [
    "There are many outliers as can be seen from the R/F/M boxplots. \\\n",
    "Since the focus of this project is on clustering, only the non-outliers will be processed by the model. \n",
    "\n",
    "It is emparative to analyze the outliers as they represent extreme behaviours by the customers, such as high spending and very frequent purchases; therefore, that step will be performed after the modeling."
   ]
  },
  {
   "cell_type": "markdown",
   "metadata": {},
   "source": [
    "## 4.3 Outlier detection and handling "
   ]
  },
  {
   "cell_type": "markdown",
   "metadata": {},
   "source": [
    "Separate outliers (big spenders and frequent spenders) from the rest of the data "
   ]
  },
  {
   "cell_type": "code",
   "execution_count": 221,
   "metadata": {},
   "outputs": [
    {
     "name": "stdout",
     "output_type": "stream",
     "text": [
      "Monetary outliers:  402\n",
      "Frequency outliers:  412\n"
     ]
    }
   ],
   "source": [
    "#Create a function for extracting outliers\n",
    "def outliers(p_df, col):\n",
    "    '''Function for computing outliers. \n",
    "    Input: (1)Dataframe, (2)column name.\n",
    "    Return: rows of outliers in a dataframe'''\n",
    "\n",
    "    q1 = p_df[col].quantile(0.25)\n",
    "    q3 = p_df[col].quantile(0.75)\n",
    "    iqr = q3 - q1\n",
    "    outlier = p_df[( p_df[col] > (q3 + 1.5*iqr)) | (p_df[col] < (q1 - 1.5*iqr)) ]\n",
    "    return outlier\n",
    "\n",
    "#Big spenders: Monetaty outliers\n",
    "df_m_outliers = outliers(df_percust, 'Monetary')\n",
    "\n",
    "#Frequent buyers: Frequency outliers\n",
    "df_f_outliers = outliers(df_percust, 'Frequency')\n",
    "\n",
    "print('Monetary outliers: ', df_m_outliers.shape[0])\n",
    "print('Frequency outliers: ', df_f_outliers.shape[0])\n",
    "\n",
    "log_changes(df_m_outliers.shape[0], 'Monetary outliers')\n",
    "log_changes(df_f_outliers.shape[0], 'Frequency outliers')"
   ]
  },
  {
   "cell_type": "code",
   "execution_count": 222,
   "metadata": {},
   "outputs": [],
   "source": [
    "# Save to file for further analysis\n",
    "\n",
    "pp_path = '../data/processed/'\n",
    "m_ol_fname = 'online_retail_m_outliers.csv'\n",
    "f_ol_fname = 'online_retail_f_outliers.csv'\n",
    "\n",
    "m_ol_file = os.path.join(pp_path, m_ol_fname)\n",
    "f_ol_file = os.path.join(pp_path, f_ol_fname)\n",
    "\n",
    "df_m_outliers.to_csv(m_ol_file, index=False)\n",
    "df_f_outliers.to_csv(f_ol_file, index=False)"
   ]
  },
  {
   "cell_type": "code",
   "execution_count": 223,
   "metadata": {},
   "outputs": [],
   "source": [
    "# ##Try\n",
    "# df_m_outliers"
   ]
  },
  {
   "cell_type": "markdown",
   "metadata": {},
   "source": [
    "Subset the non-outliers for subsequent processing."
   ]
  },
  {
   "cell_type": "code",
   "execution_count": 224,
   "metadata": {},
   "outputs": [
    {
     "name": "stdout",
     "output_type": "stream",
     "text": [
      "No. of NON-outlier records:  3817 from 4219 or 90.47 %\n"
     ]
    }
   ],
   "source": [
    "df = df_percust[ (~df_percust.index.isin(df_m_outliers.index)) &  (~df_percust.index.isin(df_m_outliers.index)) ]\n",
    "print(f'No. of NON-outlier records:  {df.shape[0]} from {df_percust.shape[0]} or {round(df.shape[0]*100/df_percust.shape[0],2)} %' )\n",
    "\n",
    "log_changes(df.shape[0], 'Non-outliers in RFM records for modeling')"
   ]
  },
  {
   "cell_type": "code",
   "execution_count": 225,
   "metadata": {},
   "outputs": [],
   "source": [
    "# #Try\n",
    "# df"
   ]
  },
  {
   "cell_type": "markdown",
   "metadata": {},
   "source": [
    "Plot non-outliers based on Recency, Frequency, and Monetary"
   ]
  },
  {
   "cell_type": "code",
   "execution_count": 226,
   "metadata": {},
   "outputs": [
    {
     "data": {
      "image/png": "[encoded data removed]",
      "text/plain": [
       "<Figure size 600x300 with 3 Axes>"
      ]
     },
     "metadata": {},
     "output_type": "display_data"
    }
   ],
   "source": [
    "sns.set(font_scale=0.7, style='darkgrid')\n",
    "fig, ax = plt.subplots(1,3, figsize=(6,3))\n",
    "\n",
    "sns.boxplot(data=df.Recency, color='darkseagreen', ax=ax[0], width=0.5)\n",
    "ax[0].set_title('Recency Boxplot')\n",
    "\n",
    "sns.boxplot(data=df.Frequency, color='salmon', ax=ax[1], width=0.5)\n",
    "ax[1].set_title('Frequency Boxplot')\n",
    "\n",
    "sns.boxplot(data=df.Monetary, color='skyblue', ax=ax[2], width=0.5)\n",
    "ax[2].set_title('Monetary Boxplot')\n",
    "plt.yscale('log')\n",
    "\n",
    "plt.tight_layout(pad=1)\n",
    "plt.show()"
   ]
  },
  {
   "cell_type": "markdown",
   "metadata": {},
   "source": [
    "## 4.4 Scaling"
   ]
  },
  {
   "cell_type": "markdown",
   "metadata": {},
   "source": [
    "Prepare data for scaling. The columns of interest are Recency, Frequency, and Monetary.\\\n",
    "The other columns will be set as indices and will be re-appended to the scaled columns."
   ]
  },
  {
   "cell_type": "code",
   "execution_count": 227,
   "metadata": {},
   "outputs": [
    {
     "data": {
      "text/html": [
       "<div>\n",
       "<style scoped>\n",
       "    .dataframe tbody tr th:only-of-type {\n",
       "        vertical-align: middle;\n",
       "    }\n",
       "\n",
       "    .dataframe tbody tr th {\n",
       "        vertical-align: top;\n",
       "    }\n",
       "\n",
       "    .dataframe thead th {\n",
       "        text-align: right;\n",
       "    }\n",
       "</style>\n",
       "<table border=\"1\" class=\"dataframe\">\n",
       "  <thead>\n",
       "    <tr style=\"text-align: right;\">\n",
       "      <th></th>\n",
       "      <th></th>\n",
       "      <th>Frequency</th>\n",
       "      <th>Monetary</th>\n",
       "      <th>Recency</th>\n",
       "    </tr>\n",
       "    <tr>\n",
       "      <th>CustomerID</th>\n",
       "      <th>LastPurchaseDate</th>\n",
       "      <th></th>\n",
       "      <th></th>\n",
       "      <th></th>\n",
       "    </tr>\n",
       "  </thead>\n",
       "  <tbody>\n",
       "    <tr>\n",
       "      <th>12348</th>\n",
       "      <th>2011-09-25</th>\n",
       "      <td>3</td>\n",
       "      <td>904.44</td>\n",
       "      <td>75</td>\n",
       "    </tr>\n",
       "    <tr>\n",
       "      <th>12349</th>\n",
       "      <th>2011-11-21</th>\n",
       "      <td>1</td>\n",
       "      <td>1757.55</td>\n",
       "      <td>18</td>\n",
       "    </tr>\n",
       "    <tr>\n",
       "      <th>12350</th>\n",
       "      <th>2011-02-02</th>\n",
       "      <td>1</td>\n",
       "      <td>334.40</td>\n",
       "      <td>310</td>\n",
       "    </tr>\n",
       "    <tr>\n",
       "      <th>12352</th>\n",
       "      <th>2011-11-03</th>\n",
       "      <td>8</td>\n",
       "      <td>2506.04</td>\n",
       "      <td>36</td>\n",
       "    </tr>\n",
       "    <tr>\n",
       "      <th>12353</th>\n",
       "      <th>2011-05-19</th>\n",
       "      <td>1</td>\n",
       "      <td>89.00</td>\n",
       "      <td>204</td>\n",
       "    </tr>\n",
       "    <tr>\n",
       "      <th>...</th>\n",
       "      <th>...</th>\n",
       "      <td>...</td>\n",
       "      <td>...</td>\n",
       "      <td>...</td>\n",
       "    </tr>\n",
       "    <tr>\n",
       "      <th>18280</th>\n",
       "      <th>2011-03-07</th>\n",
       "      <td>1</td>\n",
       "      <td>180.60</td>\n",
       "      <td>277</td>\n",
       "    </tr>\n",
       "    <tr>\n",
       "      <th>18281</th>\n",
       "      <th>2011-06-12</th>\n",
       "      <td>1</td>\n",
       "      <td>80.82</td>\n",
       "      <td>180</td>\n",
       "    </tr>\n",
       "    <tr>\n",
       "      <th>18282</th>\n",
       "      <th>2011-12-02</th>\n",
       "      <td>2</td>\n",
       "      <td>178.05</td>\n",
       "      <td>7</td>\n",
       "    </tr>\n",
       "    <tr>\n",
       "      <th>18283</th>\n",
       "      <th>2011-12-06</th>\n",
       "      <td>16</td>\n",
       "      <td>2045.53</td>\n",
       "      <td>3</td>\n",
       "    </tr>\n",
       "    <tr>\n",
       "      <th>18287</th>\n",
       "      <th>2011-10-28</th>\n",
       "      <td>3</td>\n",
       "      <td>1837.28</td>\n",
       "      <td>42</td>\n",
       "    </tr>\n",
       "  </tbody>\n",
       "</table>\n",
       "<p>3817 rows × 3 columns</p>\n",
       "</div>"
      ],
      "text/plain": [
       "                             Frequency  Monetary  Recency\n",
       "CustomerID LastPurchaseDate                              \n",
       "12348      2011-09-25                3    904.44       75\n",
       "12349      2011-11-21                1   1757.55       18\n",
       "12350      2011-02-02                1    334.40      310\n",
       "12352      2011-11-03                8   2506.04       36\n",
       "12353      2011-05-19                1     89.00      204\n",
       "...                                ...       ...      ...\n",
       "18280      2011-03-07                1    180.60      277\n",
       "18281      2011-06-12                1     80.82      180\n",
       "18282      2011-12-02                2    178.05        7\n",
       "18283      2011-12-06               16   2045.53        3\n",
       "18287      2011-10-28                3   1837.28       42\n",
       "\n",
       "[3817 rows x 3 columns]"
      ]
     },
     "execution_count": 227,
     "metadata": {},
     "output_type": "execute_result"
    }
   ],
   "source": [
    "df = df.set_index(['CustomerID', 'LastPurchaseDate'])\n",
    "\n",
    "# Back up the RFM indices and columns\n",
    "rfm_idx = df.index\n",
    "rfm_cols = df.columns\n",
    "\n",
    "df"
   ]
  },
  {
   "cell_type": "markdown",
   "metadata": {},
   "source": [
    "Scale/Standardize the data"
   ]
  },
  {
   "cell_type": "code",
   "execution_count": 228,
   "metadata": {},
   "outputs": [],
   "source": [
    "from sklearn.preprocessing import StandardScaler\n",
    "\n",
    "scaler = StandardScaler()\n",
    "rfm_scaled = scaler.fit_transform(df)"
   ]
  },
  {
   "cell_type": "code",
   "execution_count": 229,
   "metadata": {},
   "outputs": [],
   "source": [
    "# Rebuild the scaled dataframe\n",
    "\n",
    "df_scaled = pd.DataFrame(rfm_scaled, columns=rfm_cols, index=rfm_idx)\n",
    "\n",
    "# Log the changes\n",
    "log_changes(df_scaled.shape[0], 'Scaled RFM records for modeling')"
   ]
  },
  {
   "cell_type": "code",
   "execution_count": 230,
   "metadata": {},
   "outputs": [
    {
     "name": "stdout",
     "output_type": "stream",
     "text": [
      "Frequency    4.560728e-17\n",
      "Monetary    -1.861521e-17\n",
      "Recency     -2.792282e-17\n",
      "dtype: float64\n",
      "\n",
      " Frequency    1.0\n",
      "Monetary     1.0\n",
      "Recency      1.0\n",
      "dtype: float64\n"
     ]
    }
   ],
   "source": [
    "# Check if normalized. Mean ~ 0 and Standard Deviation ~ 1.\n",
    "print(df_scaled.mean())\n",
    "print('\\n', df_scaled.std(ddof=0))"
   ]
  },
  {
   "cell_type": "markdown",
   "metadata": {},
   "source": [
    "Visualize the distribution after standardization"
   ]
  },
  {
   "cell_type": "code",
   "execution_count": 231,
   "metadata": {},
   "outputs": [
    {
     "data": {
      "image/png": "[encoded data removed]",
      "text/plain": [
       "<Figure size 600x300 with 3 Axes>"
      ]
     },
     "metadata": {},
     "output_type": "display_data"
    }
   ],
   "source": [
    "sns.set(font_scale=0.7, style='darkgrid')\n",
    "fig, axes = plt.subplots(nrows=1,ncols=3, figsize=(6,3), squeeze=False)\n",
    "\n",
    "for idx, col in enumerate(rfm_cols):\n",
    "\n",
    "    axes[0][idx].hist(df_scaled[col], bins=8, color='steelblue')\n",
    "    axes[0][idx].set_xlabel(col + ' Value')\n",
    "    axes[0][idx].set_ylabel('Count')\n",
    "    axes[0][idx].set_yscale('log')\n",
    "    # plt.axvline(df_rfm_col[col].mean(), size)\n",
    "    axes[0][idx].set_title('Scaled ' + col + ' Distribution')\n",
    "\n",
    "plt.tight_layout()\n",
    "plt.show()    "
   ]
  },
  {
   "cell_type": "markdown",
   "metadata": {},
   "source": [
    "### 4.5 Show Changes and Save File "
   ]
  },
  {
   "cell_type": "code",
   "execution_count": 232,
   "metadata": {},
   "outputs": [
    {
     "data": {
      "text/html": [
       "<div>\n",
       "<style scoped>\n",
       "    .dataframe tbody tr th:only-of-type {\n",
       "        vertical-align: middle;\n",
       "    }\n",
       "\n",
       "    .dataframe tbody tr th {\n",
       "        vertical-align: top;\n",
       "    }\n",
       "\n",
       "    .dataframe thead th {\n",
       "        text-align: right;\n",
       "    }\n",
       "</style>\n",
       "<table border=\"1\" class=\"dataframe\">\n",
       "  <thead>\n",
       "    <tr style=\"text-align: right;\">\n",
       "      <th></th>\n",
       "      <th>Number</th>\n",
       "      <th>Description</th>\n",
       "    </tr>\n",
       "  </thead>\n",
       "  <tbody>\n",
       "    <tr>\n",
       "      <th>0</th>\n",
       "      <td>367023</td>\n",
       "      <td>Row count before Pre-processing step</td>\n",
       "    </tr>\n",
       "    <tr>\n",
       "      <th>1</th>\n",
       "      <td>4219</td>\n",
       "      <td>RFM records per customer</td>\n",
       "    </tr>\n",
       "    <tr>\n",
       "      <th>2</th>\n",
       "      <td>402</td>\n",
       "      <td>Monetary outliers</td>\n",
       "    </tr>\n",
       "    <tr>\n",
       "      <th>3</th>\n",
       "      <td>412</td>\n",
       "      <td>Frequency outliers</td>\n",
       "    </tr>\n",
       "    <tr>\n",
       "      <th>4</th>\n",
       "      <td>3817</td>\n",
       "      <td>Non-outliers in RFM records for modeling</td>\n",
       "    </tr>\n",
       "    <tr>\n",
       "      <th>5</th>\n",
       "      <td>3817</td>\n",
       "      <td>Scaled RFM records for modeling</td>\n",
       "    </tr>\n",
       "  </tbody>\n",
       "</table>\n",
       "</div>"
      ],
      "text/plain": [
       "   Number                               Description\n",
       "0  367023      Row count before Pre-processing step\n",
       "1    4219                  RFM records per customer\n",
       "2     402                         Monetary outliers\n",
       "3     412                        Frequency outliers\n",
       "4    3817  Non-outliers in RFM records for modeling\n",
       "5    3817           Scaled RFM records for modeling"
      ]
     },
     "execution_count": 232,
     "metadata": {},
     "output_type": "execute_result"
    }
   ],
   "source": [
    "df_logs = pd.DataFrame(ChangeLogs).T\n",
    "df_logs"
   ]
  },
  {
   "cell_type": "code",
   "execution_count": 233,
   "metadata": {},
   "outputs": [],
   "source": [
    "# Save Changes to .csv file\n",
    "preplog_fname = 'prep_log.csv'\n",
    "preplog_path = '../logs/'\n",
    "preplog_file = os.path.join(preplog_path, preplog_fname) \n",
    "df_logs.to_csv(preplog_file, index=False)"
   ]
  },
  {
   "cell_type": "code",
   "execution_count": 234,
   "metadata": {},
   "outputs": [],
   "source": [
    "# Save processed files to .csv\n",
    "\n",
    "pp_path = '../data/processed'\n",
    "\n",
    "unscaled_fname = 'online_retail_unscaled.csv'\n",
    "scaled_fname = 'online_retail_scaled.csv'\n",
    "\n",
    "unscaled_file = os.path.join(pp_path, unscaled_fname)\n",
    "scaled_file = os.path.join(pp_path, scaled_fname)\n",
    "\n",
    "df.to_csv(unscaled_file)\n",
    "df_scaled.to_csv(scaled_file)"
   ]
  }
 ],
 "metadata": {
  "kernelspec": {
   "display_name": "ds-retail-env",
   "language": "python",
   "name": "python3"
  },
  "language_info": {
   "codemirror_mode": {
    "name": "ipython",
    "version": 3
   },
   "file_extension": ".py",
   "mimetype": "text/x-python",
   "name": "python",
   "nbconvert_exporter": "python",
   "pygments_lexer": "ipython3",
   "version": "3.12.7"
  }
 },
 "nbformat": 4,
 "nbformat_minor": 2
}
