{
 "cells": [
  {
   "cell_type": "markdown",
   "metadata": {},
   "source": [
    "# EXPLORATORY DATA ANALYSIS "
   ]
  },
  {
   "cell_type": "markdown",
   "metadata": {},
   "source": [
    "## 1. Load Libraries"
   ]
  },
  {
   "cell_type": "code",
   "execution_count": 64,
   "metadata": {},
   "outputs": [],
   "source": [
    "import numpy as np\n",
    "import pandas as pd\n",
    "import matplotlib.pyplot as plt\n",
    "import seaborn as sns \n",
    "import calendar as cal\n",
    "import logging\n",
    "import matplotlib.pyplot as plt\n",
    "import seaborn as sns \n",
    "import calendar as cal\n",
    "\n",
    "# Suppress warnings\n",
    "import warnings\n",
    "warnings.filterwarnings(\"ignore\")\n",
    "\n",
    "# Define standard logging configuration\n",
    "logging.basicConfig(\n",
    "    level=logging.INFO,\n",
    "    filename='../logs/onlineretail.log')"
   ]
  },
  {
   "cell_type": "markdown",
   "metadata": {},
   "source": [
    "## 2. Load File"
   ]
  },
  {
   "cell_type": "code",
   "execution_count": 65,
   "metadata": {},
   "outputs": [],
   "source": [
    "df = pd.read_csv('../data/interim/online_retail_cleaned.csv')"
   ]
  },
  {
   "cell_type": "markdown",
   "metadata": {},
   "source": [
    "## 3. Define Global Functions"
   ]
  },
  {
   "cell_type": "code",
   "execution_count": 66,
   "metadata": {},
   "outputs": [],
   "source": [
    "ChangeLogs = {}\n",
    "def log_changes(num, desc):\n",
    "    '''Custom function to update ChangeLogs{} dictionary with the number of changed records and the description of the changes.\n",
    "    Input:\n",
    "        num - number of changed records to track\n",
    "        desc - free text description of the changes\n",
    "    Return: None\n",
    "    '''\n",
    "    idx = len(ChangeLogs)\n",
    "    ChangeLogs[idx] = {'Number': num, 'Description': desc}"
   ]
  },
  {
   "cell_type": "markdown",
   "metadata": {},
   "source": [
    "## 4. Explore Data"
   ]
  },
  {
   "cell_type": "code",
   "execution_count": 67,
   "metadata": {},
   "outputs": [
    {
     "data": {
      "text/html": [
       "<div>\n",
       "<style scoped>\n",
       "    .dataframe tbody tr th:only-of-type {\n",
       "        vertical-align: middle;\n",
       "    }\n",
       "\n",
       "    .dataframe tbody tr th {\n",
       "        vertical-align: top;\n",
       "    }\n",
       "\n",
       "    .dataframe thead th {\n",
       "        text-align: right;\n",
       "    }\n",
       "</style>\n",
       "<table border=\"1\" class=\"dataframe\">\n",
       "  <thead>\n",
       "    <tr style=\"text-align: right;\">\n",
       "      <th></th>\n",
       "      <th>Invoice</th>\n",
       "      <th>StockCode</th>\n",
       "      <th>Description</th>\n",
       "      <th>Quantity</th>\n",
       "      <th>InvoiceDate</th>\n",
       "      <th>Price</th>\n",
       "      <th>CustomerID</th>\n",
       "      <th>Country</th>\n",
       "      <th>Month</th>\n",
       "    </tr>\n",
       "  </thead>\n",
       "  <tbody>\n",
       "    <tr>\n",
       "      <th>0</th>\n",
       "      <td>536365</td>\n",
       "      <td>85123A</td>\n",
       "      <td>WHITE HANGING HEART T-LIGHT HOLDER</td>\n",
       "      <td>6</td>\n",
       "      <td>2010-12-01 08:26:00</td>\n",
       "      <td>2.55</td>\n",
       "      <td>17850</td>\n",
       "      <td>United Kingdom</td>\n",
       "      <td>12</td>\n",
       "    </tr>\n",
       "    <tr>\n",
       "      <th>1</th>\n",
       "      <td>536365</td>\n",
       "      <td>71053</td>\n",
       "      <td>WHITE METAL LANTERN</td>\n",
       "      <td>6</td>\n",
       "      <td>2010-12-01 08:26:00</td>\n",
       "      <td>3.39</td>\n",
       "      <td>17850</td>\n",
       "      <td>United Kingdom</td>\n",
       "      <td>12</td>\n",
       "    </tr>\n",
       "    <tr>\n",
       "      <th>2</th>\n",
       "      <td>536365</td>\n",
       "      <td>84406B</td>\n",
       "      <td>CREAM CUPID HEARTS COAT HANGER</td>\n",
       "      <td>8</td>\n",
       "      <td>2010-12-01 08:26:00</td>\n",
       "      <td>2.75</td>\n",
       "      <td>17850</td>\n",
       "      <td>United Kingdom</td>\n",
       "      <td>12</td>\n",
       "    </tr>\n",
       "    <tr>\n",
       "      <th>3</th>\n",
       "      <td>536365</td>\n",
       "      <td>84029G</td>\n",
       "      <td>KNITTED UNION FLAG HOT WATER BOTTLE</td>\n",
       "      <td>6</td>\n",
       "      <td>2010-12-01 08:26:00</td>\n",
       "      <td>3.39</td>\n",
       "      <td>17850</td>\n",
       "      <td>United Kingdom</td>\n",
       "      <td>12</td>\n",
       "    </tr>\n",
       "    <tr>\n",
       "      <th>4</th>\n",
       "      <td>536365</td>\n",
       "      <td>84029E</td>\n",
       "      <td>RED WOOLLY HOTTIE WHITE HEART.</td>\n",
       "      <td>6</td>\n",
       "      <td>2010-12-01 08:26:00</td>\n",
       "      <td>3.39</td>\n",
       "      <td>17850</td>\n",
       "      <td>United Kingdom</td>\n",
       "      <td>12</td>\n",
       "    </tr>\n",
       "  </tbody>\n",
       "</table>\n",
       "</div>"
      ],
      "text/plain": [
       "   Invoice StockCode                          Description  Quantity  \\\n",
       "0   536365    85123A   WHITE HANGING HEART T-LIGHT HOLDER         6   \n",
       "1   536365     71053                  WHITE METAL LANTERN         6   \n",
       "2   536365    84406B       CREAM CUPID HEARTS COAT HANGER         8   \n",
       "3   536365    84029G  KNITTED UNION FLAG HOT WATER BOTTLE         6   \n",
       "4   536365    84029E       RED WOOLLY HOTTIE WHITE HEART.         6   \n",
       "\n",
       "           InvoiceDate  Price  CustomerID         Country  Month  \n",
       "0  2010-12-01 08:26:00   2.55       17850  United Kingdom     12  \n",
       "1  2010-12-01 08:26:00   3.39       17850  United Kingdom     12  \n",
       "2  2010-12-01 08:26:00   2.75       17850  United Kingdom     12  \n",
       "3  2010-12-01 08:26:00   3.39       17850  United Kingdom     12  \n",
       "4  2010-12-01 08:26:00   3.39       17850  United Kingdom     12  "
      ]
     },
     "metadata": {},
     "output_type": "display_data"
    }
   ],
   "source": [
    "display(df.head())\n",
    "\n",
    "log_changes(df.shape[0], 'Row count before EDA process')"
   ]
  },
  {
   "cell_type": "code",
   "execution_count": 68,
   "metadata": {},
   "outputs": [
    {
     "name": "stdout",
     "output_type": "stream",
     "text": [
      "<class 'pandas.core.frame.DataFrame'>\n",
      "RangeIndex: 392733 entries, 0 to 392732\n",
      "Data columns (total 9 columns):\n",
      " #   Column       Non-Null Count   Dtype  \n",
      "---  ------       --------------   -----  \n",
      " 0   Invoice      392733 non-null  int64  \n",
      " 1   StockCode    392733 non-null  object \n",
      " 2   Description  392733 non-null  object \n",
      " 3   Quantity     392733 non-null  int64  \n",
      " 4   InvoiceDate  392733 non-null  object \n",
      " 5   Price        392733 non-null  float64\n",
      " 6   CustomerID   392733 non-null  int64  \n",
      " 7   Country      392733 non-null  object \n",
      " 8   Month        392733 non-null  int64  \n",
      "dtypes: float64(1), int64(4), object(4)\n",
      "memory usage: 27.0+ MB\n"
     ]
    }
   ],
   "source": [
    "df.info()"
   ]
  },
  {
   "cell_type": "markdown",
   "metadata": {},
   "source": [
    "**Dealing with Price**"
   ]
  },
  {
   "cell_type": "code",
   "execution_count": 69,
   "metadata": {},
   "outputs": [
    {
     "data": {
      "text/html": [
       "<div>\n",
       "<style scoped>\n",
       "    .dataframe tbody tr th:only-of-type {\n",
       "        vertical-align: middle;\n",
       "    }\n",
       "\n",
       "    .dataframe tbody tr th {\n",
       "        vertical-align: top;\n",
       "    }\n",
       "\n",
       "    .dataframe thead th {\n",
       "        text-align: right;\n",
       "    }\n",
       "</style>\n",
       "<table border=\"1\" class=\"dataframe\">\n",
       "  <thead>\n",
       "    <tr style=\"text-align: right;\">\n",
       "      <th></th>\n",
       "      <th>Invoice</th>\n",
       "      <th>Quantity</th>\n",
       "      <th>Price</th>\n",
       "      <th>CustomerID</th>\n",
       "      <th>Month</th>\n",
       "    </tr>\n",
       "  </thead>\n",
       "  <tbody>\n",
       "    <tr>\n",
       "      <th>count</th>\n",
       "      <td>392733.000000</td>\n",
       "      <td>392733.000000</td>\n",
       "      <td>392733.000000</td>\n",
       "      <td>392733.000000</td>\n",
       "      <td>392733.000000</td>\n",
       "    </tr>\n",
       "    <tr>\n",
       "      <th>mean</th>\n",
       "      <td>560591.125897</td>\n",
       "      <td>13.153687</td>\n",
       "      <td>3.125633</td>\n",
       "      <td>15287.728182</td>\n",
       "      <td>7.601946</td>\n",
       "    </tr>\n",
       "    <tr>\n",
       "      <th>std</th>\n",
       "      <td>13087.142969</td>\n",
       "      <td>181.588189</td>\n",
       "      <td>22.240710</td>\n",
       "      <td>1713.570644</td>\n",
       "      <td>3.415026</td>\n",
       "    </tr>\n",
       "    <tr>\n",
       "      <th>min</th>\n",
       "      <td>536365.000000</td>\n",
       "      <td>1.000000</td>\n",
       "      <td>0.000000</td>\n",
       "      <td>12346.000000</td>\n",
       "      <td>1.000000</td>\n",
       "    </tr>\n",
       "    <tr>\n",
       "      <th>25%</th>\n",
       "      <td>549234.000000</td>\n",
       "      <td>2.000000</td>\n",
       "      <td>1.250000</td>\n",
       "      <td>13955.000000</td>\n",
       "      <td>5.000000</td>\n",
       "    </tr>\n",
       "    <tr>\n",
       "      <th>50%</th>\n",
       "      <td>561874.000000</td>\n",
       "      <td>6.000000</td>\n",
       "      <td>1.950000</td>\n",
       "      <td>15150.000000</td>\n",
       "      <td>8.000000</td>\n",
       "    </tr>\n",
       "    <tr>\n",
       "      <th>75%</th>\n",
       "      <td>572061.000000</td>\n",
       "      <td>12.000000</td>\n",
       "      <td>3.750000</td>\n",
       "      <td>16791.000000</td>\n",
       "      <td>11.000000</td>\n",
       "    </tr>\n",
       "    <tr>\n",
       "      <th>max</th>\n",
       "      <td>581587.000000</td>\n",
       "      <td>80995.000000</td>\n",
       "      <td>8142.750000</td>\n",
       "      <td>18287.000000</td>\n",
       "      <td>12.000000</td>\n",
       "    </tr>\n",
       "  </tbody>\n",
       "</table>\n",
       "</div>"
      ],
      "text/plain": [
       "             Invoice       Quantity          Price     CustomerID  \\\n",
       "count  392733.000000  392733.000000  392733.000000  392733.000000   \n",
       "mean   560591.125897      13.153687       3.125633   15287.728182   \n",
       "std     13087.142969     181.588189      22.240710    1713.570644   \n",
       "min    536365.000000       1.000000       0.000000   12346.000000   \n",
       "25%    549234.000000       2.000000       1.250000   13955.000000   \n",
       "50%    561874.000000       6.000000       1.950000   15150.000000   \n",
       "75%    572061.000000      12.000000       3.750000   16791.000000   \n",
       "max    581587.000000   80995.000000    8142.750000   18287.000000   \n",
       "\n",
       "               Month  \n",
       "count  392733.000000  \n",
       "mean        7.601946  \n",
       "std         3.415026  \n",
       "min         1.000000  \n",
       "25%         5.000000  \n",
       "50%         8.000000  \n",
       "75%        11.000000  \n",
       "max        12.000000  "
      ]
     },
     "metadata": {},
     "output_type": "display_data"
    },
    {
     "name": "stdout",
     "output_type": "stream",
     "text": [
      "0 price in the dataset:  40\n"
     ]
    }
   ],
   "source": [
    "display(df.describe())\n",
    "\n",
    "rec_init = df.shape[0]\n",
    "print('0 price in the dataset: ',  np.sum(df.Price <= 0))\n"
   ]
  },
  {
   "cell_type": "markdown",
   "metadata": {},
   "source": [
    "Minimum in price is 0, and there's 40 records of it.\\\n",
    "Remove the rows from the dataset as it will impact the monetary component in the analysis."
   ]
  },
  {
   "cell_type": "code",
   "execution_count": 70,
   "metadata": {},
   "outputs": [
    {
     "name": "stdout",
     "output_type": "stream",
     "text": [
      "0 price in the dataset after changes:  0\n"
     ]
    },
    {
     "data": {
      "text/plain": [
       "count    392693.000000\n",
       "mean          3.125952\n",
       "std          22.241820\n",
       "min           0.001000\n",
       "25%           1.250000\n",
       "50%           1.950000\n",
       "75%           3.750000\n",
       "max        8142.750000\n",
       "Name: Price, dtype: float64"
      ]
     },
     "execution_count": 70,
     "metadata": {},
     "output_type": "execute_result"
    }
   ],
   "source": [
    "df = df.query('Price > 0')\n",
    "\n",
    "print('0 price in the dataset after changes: ',  np.sum(df.Price <= 0))\n",
    "log_changes(-(rec_init - df.shape[0]), 'Records with 0 price dropped')\n",
    "\n",
    "df['Price'].describe()"
   ]
  },
  {
   "cell_type": "markdown",
   "metadata": {},
   "source": [
    "**Inspect Invoice Date**"
   ]
  },
  {
   "cell_type": "markdown",
   "metadata": {},
   "source": [
    "Transform InvoiceDate column type and check the range "
   ]
  },
  {
   "cell_type": "code",
   "execution_count": 71,
   "metadata": {},
   "outputs": [
    {
     "name": "stdout",
     "output_type": "stream",
     "text": [
      "2010-12-01 :: 2011-12-09\n"
     ]
    }
   ],
   "source": [
    "df['InvoiceDate'] = pd.to_datetime(df['InvoiceDate']).dt.date\n",
    "df['InvoiceDate'] = pd.to_datetime(df['InvoiceDate']).dt.normalize()\n",
    "\n",
    "print(min(df['InvoiceDate'].dt.date), '::', max(df['InvoiceDate'].dt.date))"
   ]
  },
  {
   "cell_type": "markdown",
   "metadata": {},
   "source": [
    "Filter dataset to only include dates later than 2011-01-01"
   ]
  },
  {
   "cell_type": "code",
   "execution_count": 72,
   "metadata": {},
   "outputs": [],
   "source": [
    "rec_init = df.shape[0]\n",
    "df  = df[df['InvoiceDate'] >= '2011-01-01']\n",
    "\n",
    "\n",
    "log_changes( -(rec_init - df.shape[0]), 'Out of date range records dropped')"
   ]
  },
  {
   "cell_type": "markdown",
   "metadata": {},
   "source": [
    "**Create Sales column**"
   ]
  },
  {
   "cell_type": "code",
   "execution_count": 73,
   "metadata": {},
   "outputs": [
    {
     "data": {
      "text/html": [
       "<div>\n",
       "<style scoped>\n",
       "    .dataframe tbody tr th:only-of-type {\n",
       "        vertical-align: middle;\n",
       "    }\n",
       "\n",
       "    .dataframe tbody tr th {\n",
       "        vertical-align: top;\n",
       "    }\n",
       "\n",
       "    .dataframe thead th {\n",
       "        text-align: right;\n",
       "    }\n",
       "</style>\n",
       "<table border=\"1\" class=\"dataframe\">\n",
       "  <thead>\n",
       "    <tr style=\"text-align: right;\">\n",
       "      <th></th>\n",
       "      <th>Invoice</th>\n",
       "      <th>StockCode</th>\n",
       "      <th>Description</th>\n",
       "      <th>Quantity</th>\n",
       "      <th>InvoiceDate</th>\n",
       "      <th>Price</th>\n",
       "      <th>CustomerID</th>\n",
       "      <th>Country</th>\n",
       "      <th>Month</th>\n",
       "      <th>Sales</th>\n",
       "    </tr>\n",
       "  </thead>\n",
       "  <tbody>\n",
       "    <tr>\n",
       "      <th>25673</th>\n",
       "      <td>539993</td>\n",
       "      <td>22386</td>\n",
       "      <td>JUMBO BAG PINK POLKADOT</td>\n",
       "      <td>10</td>\n",
       "      <td>2011-01-04</td>\n",
       "      <td>1.95</td>\n",
       "      <td>13313</td>\n",
       "      <td>United Kingdom</td>\n",
       "      <td>1</td>\n",
       "      <td>19.5</td>\n",
       "    </tr>\n",
       "    <tr>\n",
       "      <th>25674</th>\n",
       "      <td>539993</td>\n",
       "      <td>21499</td>\n",
       "      <td>BLUE POLKADOT WRAP</td>\n",
       "      <td>25</td>\n",
       "      <td>2011-01-04</td>\n",
       "      <td>0.42</td>\n",
       "      <td>13313</td>\n",
       "      <td>United Kingdom</td>\n",
       "      <td>1</td>\n",
       "      <td>10.5</td>\n",
       "    </tr>\n",
       "    <tr>\n",
       "      <th>25675</th>\n",
       "      <td>539993</td>\n",
       "      <td>21498</td>\n",
       "      <td>RED RETROSPOT WRAP</td>\n",
       "      <td>25</td>\n",
       "      <td>2011-01-04</td>\n",
       "      <td>0.42</td>\n",
       "      <td>13313</td>\n",
       "      <td>United Kingdom</td>\n",
       "      <td>1</td>\n",
       "      <td>10.5</td>\n",
       "    </tr>\n",
       "    <tr>\n",
       "      <th>25676</th>\n",
       "      <td>539993</td>\n",
       "      <td>22379</td>\n",
       "      <td>RECYCLING BAG RETROSPOT</td>\n",
       "      <td>5</td>\n",
       "      <td>2011-01-04</td>\n",
       "      <td>2.10</td>\n",
       "      <td>13313</td>\n",
       "      <td>United Kingdom</td>\n",
       "      <td>1</td>\n",
       "      <td>10.5</td>\n",
       "    </tr>\n",
       "    <tr>\n",
       "      <th>25677</th>\n",
       "      <td>539993</td>\n",
       "      <td>20718</td>\n",
       "      <td>RED RETROSPOT SHOPPER BAG</td>\n",
       "      <td>10</td>\n",
       "      <td>2011-01-04</td>\n",
       "      <td>1.25</td>\n",
       "      <td>13313</td>\n",
       "      <td>United Kingdom</td>\n",
       "      <td>1</td>\n",
       "      <td>12.5</td>\n",
       "    </tr>\n",
       "  </tbody>\n",
       "</table>\n",
       "</div>"
      ],
      "text/plain": [
       "       Invoice StockCode                Description  Quantity InvoiceDate  \\\n",
       "25673   539993     22386    JUMBO BAG PINK POLKADOT        10  2011-01-04   \n",
       "25674   539993     21499         BLUE POLKADOT WRAP        25  2011-01-04   \n",
       "25675   539993     21498        RED RETROSPOT WRAP         25  2011-01-04   \n",
       "25676   539993     22379   RECYCLING BAG RETROSPOT          5  2011-01-04   \n",
       "25677   539993     20718  RED RETROSPOT SHOPPER BAG        10  2011-01-04   \n",
       "\n",
       "       Price  CustomerID         Country  Month  Sales  \n",
       "25673   1.95       13313  United Kingdom      1   19.5  \n",
       "25674   0.42       13313  United Kingdom      1   10.5  \n",
       "25675   0.42       13313  United Kingdom      1   10.5  \n",
       "25676   2.10       13313  United Kingdom      1   10.5  \n",
       "25677   1.25       13313  United Kingdom      1   12.5  "
      ]
     },
     "execution_count": 73,
     "metadata": {},
     "output_type": "execute_result"
    }
   ],
   "source": [
    "#Create Sales column (Useful for RFM Analysis later)\n",
    "df['Sales'] = df.Quantity * df.Price\n",
    "df.head()"
   ]
  },
  {
   "cell_type": "code",
   "execution_count": 74,
   "metadata": {},
   "outputs": [
    {
     "data": {
      "text/plain": [
       "(367023, 10)"
      ]
     },
     "execution_count": 74,
     "metadata": {},
     "output_type": "execute_result"
    }
   ],
   "source": [
    "df.shape"
   ]
  },
  {
   "cell_type": "markdown",
   "metadata": {},
   "source": [
    "### 4.1 Summary Statistics"
   ]
  },
  {
   "cell_type": "code",
   "execution_count": 75,
   "metadata": {},
   "outputs": [
    {
     "data": {
      "text/html": [
       "<div>\n",
       "<style scoped>\n",
       "    .dataframe tbody tr th:only-of-type {\n",
       "        vertical-align: middle;\n",
       "    }\n",
       "\n",
       "    .dataframe tbody tr th {\n",
       "        vertical-align: top;\n",
       "    }\n",
       "\n",
       "    .dataframe thead th {\n",
       "        text-align: right;\n",
       "    }\n",
       "</style>\n",
       "<table border=\"1\" class=\"dataframe\">\n",
       "  <thead>\n",
       "    <tr style=\"text-align: right;\">\n",
       "      <th></th>\n",
       "      <th>Invoice</th>\n",
       "      <th>StockCode</th>\n",
       "      <th>Description</th>\n",
       "      <th>Quantity</th>\n",
       "      <th>InvoiceDate</th>\n",
       "      <th>Price</th>\n",
       "      <th>CustomerID</th>\n",
       "      <th>Country</th>\n",
       "      <th>Month</th>\n",
       "      <th>Sales</th>\n",
       "    </tr>\n",
       "  </thead>\n",
       "  <tbody>\n",
       "    <tr>\n",
       "      <th>count</th>\n",
       "      <td>367023.000000</td>\n",
       "      <td>367023</td>\n",
       "      <td>367023</td>\n",
       "      <td>367023.000000</td>\n",
       "      <td>367023</td>\n",
       "      <td>367023.000000</td>\n",
       "      <td>367023.000000</td>\n",
       "      <td>367023</td>\n",
       "      <td>367023.000000</td>\n",
       "      <td>367023.000000</td>\n",
       "    </tr>\n",
       "    <tr>\n",
       "      <th>unique</th>\n",
       "      <td>NaN</td>\n",
       "      <td>3596</td>\n",
       "      <td>3784</td>\n",
       "      <td>NaN</td>\n",
       "      <td>NaN</td>\n",
       "      <td>NaN</td>\n",
       "      <td>NaN</td>\n",
       "      <td>36</td>\n",
       "      <td>NaN</td>\n",
       "      <td>NaN</td>\n",
       "    </tr>\n",
       "    <tr>\n",
       "      <th>top</th>\n",
       "      <td>NaN</td>\n",
       "      <td>85123A</td>\n",
       "      <td>WHITE HANGING HEART T-LIGHT HOLDER</td>\n",
       "      <td>NaN</td>\n",
       "      <td>NaN</td>\n",
       "      <td>NaN</td>\n",
       "      <td>NaN</td>\n",
       "      <td>United Kingdom</td>\n",
       "      <td>NaN</td>\n",
       "      <td>NaN</td>\n",
       "    </tr>\n",
       "    <tr>\n",
       "      <th>freq</th>\n",
       "      <td>NaN</td>\n",
       "      <td>1816</td>\n",
       "      <td>1809</td>\n",
       "      <td>NaN</td>\n",
       "      <td>NaN</td>\n",
       "      <td>NaN</td>\n",
       "      <td>NaN</td>\n",
       "      <td>325745</td>\n",
       "      <td>NaN</td>\n",
       "      <td>NaN</td>\n",
       "    </tr>\n",
       "    <tr>\n",
       "      <th>mean</th>\n",
       "      <td>562169.933830</td>\n",
       "      <td>NaN</td>\n",
       "      <td>NaN</td>\n",
       "      <td>13.189786</td>\n",
       "      <td>2011-07-25 03:02:48.816668416</td>\n",
       "      <td>3.124763</td>\n",
       "      <td>15271.672315</td>\n",
       "      <td>NaN</td>\n",
       "      <td>7.294273</td>\n",
       "      <td>22.660172</td>\n",
       "    </tr>\n",
       "    <tr>\n",
       "      <th>min</th>\n",
       "      <td>539993.000000</td>\n",
       "      <td>NaN</td>\n",
       "      <td>NaN</td>\n",
       "      <td>1.000000</td>\n",
       "      <td>2011-01-04 00:00:00</td>\n",
       "      <td>0.001000</td>\n",
       "      <td>12346.000000</td>\n",
       "      <td>NaN</td>\n",
       "      <td>1.000000</td>\n",
       "      <td>0.001000</td>\n",
       "    </tr>\n",
       "    <tr>\n",
       "      <th>25%</th>\n",
       "      <td>551776.000000</td>\n",
       "      <td>NaN</td>\n",
       "      <td>NaN</td>\n",
       "      <td>2.000000</td>\n",
       "      <td>2011-05-04 00:00:00</td>\n",
       "      <td>1.250000</td>\n",
       "      <td>13924.000000</td>\n",
       "      <td>NaN</td>\n",
       "      <td>5.000000</td>\n",
       "      <td>4.950000</td>\n",
       "    </tr>\n",
       "    <tr>\n",
       "      <th>50%</th>\n",
       "      <td>563246.000000</td>\n",
       "      <td>NaN</td>\n",
       "      <td>NaN</td>\n",
       "      <td>6.000000</td>\n",
       "      <td>2011-08-15 00:00:00</td>\n",
       "      <td>1.850000</td>\n",
       "      <td>15116.000000</td>\n",
       "      <td>NaN</td>\n",
       "      <td>8.000000</td>\n",
       "      <td>12.480000</td>\n",
       "    </tr>\n",
       "    <tr>\n",
       "      <th>75%</th>\n",
       "      <td>572652.000000</td>\n",
       "      <td>NaN</td>\n",
       "      <td>NaN</td>\n",
       "      <td>12.000000</td>\n",
       "      <td>2011-10-25 00:00:00</td>\n",
       "      <td>3.750000</td>\n",
       "      <td>16771.000000</td>\n",
       "      <td>NaN</td>\n",
       "      <td>10.000000</td>\n",
       "      <td>19.800000</td>\n",
       "    </tr>\n",
       "    <tr>\n",
       "      <th>max</th>\n",
       "      <td>581587.000000</td>\n",
       "      <td>NaN</td>\n",
       "      <td>NaN</td>\n",
       "      <td>80995.000000</td>\n",
       "      <td>2011-12-09 00:00:00</td>\n",
       "      <td>8142.750000</td>\n",
       "      <td>18287.000000</td>\n",
       "      <td>NaN</td>\n",
       "      <td>12.000000</td>\n",
       "      <td>168469.600000</td>\n",
       "    </tr>\n",
       "    <tr>\n",
       "      <th>std</th>\n",
       "      <td>12043.303294</td>\n",
       "      <td>NaN</td>\n",
       "      <td>NaN</td>\n",
       "      <td>186.294811</td>\n",
       "      <td>NaN</td>\n",
       "      <td>22.964369</td>\n",
       "      <td>1710.305357</td>\n",
       "      <td>NaN</td>\n",
       "      <td>3.321220</td>\n",
       "      <td>321.143989</td>\n",
       "    </tr>\n",
       "  </tbody>\n",
       "</table>\n",
       "</div>"
      ],
      "text/plain": [
       "              Invoice StockCode                         Description  \\\n",
       "count   367023.000000    367023                              367023   \n",
       "unique            NaN      3596                                3784   \n",
       "top               NaN    85123A  WHITE HANGING HEART T-LIGHT HOLDER   \n",
       "freq              NaN      1816                                1809   \n",
       "mean    562169.933830       NaN                                 NaN   \n",
       "min     539993.000000       NaN                                 NaN   \n",
       "25%     551776.000000       NaN                                 NaN   \n",
       "50%     563246.000000       NaN                                 NaN   \n",
       "75%     572652.000000       NaN                                 NaN   \n",
       "max     581587.000000       NaN                                 NaN   \n",
       "std      12043.303294       NaN                                 NaN   \n",
       "\n",
       "             Quantity                    InvoiceDate          Price  \\\n",
       "count   367023.000000                         367023  367023.000000   \n",
       "unique            NaN                            NaN            NaN   \n",
       "top               NaN                            NaN            NaN   \n",
       "freq              NaN                            NaN            NaN   \n",
       "mean        13.189786  2011-07-25 03:02:48.816668416       3.124763   \n",
       "min          1.000000            2011-01-04 00:00:00       0.001000   \n",
       "25%          2.000000            2011-05-04 00:00:00       1.250000   \n",
       "50%          6.000000            2011-08-15 00:00:00       1.850000   \n",
       "75%         12.000000            2011-10-25 00:00:00       3.750000   \n",
       "max      80995.000000            2011-12-09 00:00:00    8142.750000   \n",
       "std        186.294811                            NaN      22.964369   \n",
       "\n",
       "           CustomerID         Country          Month          Sales  \n",
       "count   367023.000000          367023  367023.000000  367023.000000  \n",
       "unique            NaN              36            NaN            NaN  \n",
       "top               NaN  United Kingdom            NaN            NaN  \n",
       "freq              NaN          325745            NaN            NaN  \n",
       "mean     15271.672315             NaN       7.294273      22.660172  \n",
       "min      12346.000000             NaN       1.000000       0.001000  \n",
       "25%      13924.000000             NaN       5.000000       4.950000  \n",
       "50%      15116.000000             NaN       8.000000      12.480000  \n",
       "75%      16771.000000             NaN      10.000000      19.800000  \n",
       "max      18287.000000             NaN      12.000000  168469.600000  \n",
       "std       1710.305357             NaN       3.321220     321.143989  "
      ]
     },
     "execution_count": 75,
     "metadata": {},
     "output_type": "execute_result"
    }
   ],
   "source": [
    "df.describe( include='all')"
   ]
  },
  {
   "cell_type": "code",
   "execution_count": 76,
   "metadata": {},
   "outputs": [
    {
     "data": {
      "text/plain": [
       "count    367023.000000\n",
       "mean         22.660172\n",
       "std         321.143989\n",
       "min           0.001000\n",
       "25%           4.950000\n",
       "50%          12.480000\n",
       "75%          19.800000\n",
       "max      168469.600000\n",
       "Name: Sales, dtype: float64"
      ]
     },
     "execution_count": 76,
     "metadata": {},
     "output_type": "execute_result"
    }
   ],
   "source": [
    "#Summary statistics for Sales Column\n",
    "df.Sales.describe()"
   ]
  },
  {
   "cell_type": "markdown",
   "metadata": {},
   "source": [
    "**Evaluate Categorical Variables**"
   ]
  },
  {
   "cell_type": "code",
   "execution_count": 77,
   "metadata": {},
   "outputs": [
    {
     "name": "stdout",
     "output_type": "stream",
     "text": [
      "Unique Invoices:  17132\n",
      "Unique Countries:  36\n",
      "Unique StockCodes:  3596\n",
      "Unique Customer IDs:  4219\n"
     ]
    }
   ],
   "source": [
    "#Evaluate categorical variables\n",
    "\n",
    "print('Unique Invoices: ', df.Invoice.nunique())\n",
    "print('Unique Countries: ', df.Country.nunique())\n",
    "print('Unique StockCodes: ', df.StockCode.nunique())\n",
    "print('Unique Customer IDs: ', df.CustomerID.nunique())"
   ]
  },
  {
   "cell_type": "markdown",
   "metadata": {},
   "source": [
    "**Extract Monthly Data**"
   ]
  },
  {
   "cell_type": "markdown",
   "metadata": {},
   "source": [
    "Monthly Sales"
   ]
  },
  {
   "cell_type": "code",
   "execution_count": 78,
   "metadata": {},
   "outputs": [
    {
     "data": {
      "text/html": [
       "<div>\n",
       "<style scoped>\n",
       "    .dataframe tbody tr th:only-of-type {\n",
       "        vertical-align: middle;\n",
       "    }\n",
       "\n",
       "    .dataframe tbody tr th {\n",
       "        vertical-align: top;\n",
       "    }\n",
       "\n",
       "    .dataframe thead th {\n",
       "        text-align: right;\n",
       "    }\n",
       "</style>\n",
       "<table border=\"1\" class=\"dataframe\">\n",
       "  <thead>\n",
       "    <tr style=\"text-align: right;\">\n",
       "      <th></th>\n",
       "      <th>Month</th>\n",
       "      <th>mean</th>\n",
       "      <th>median</th>\n",
       "      <th>sum</th>\n",
       "    </tr>\n",
       "  </thead>\n",
       "  <tbody>\n",
       "    <tr>\n",
       "      <th>0</th>\n",
       "      <td>1</td>\n",
       "      <td>27.067911</td>\n",
       "      <td>12.60</td>\n",
       "      <td>568101.310</td>\n",
       "    </tr>\n",
       "    <tr>\n",
       "      <th>1</th>\n",
       "      <td>2</td>\n",
       "      <td>22.637010</td>\n",
       "      <td>13.20</td>\n",
       "      <td>446084.920</td>\n",
       "    </tr>\n",
       "    <tr>\n",
       "      <th>2</th>\n",
       "      <td>3</td>\n",
       "      <td>22.109481</td>\n",
       "      <td>12.75</td>\n",
       "      <td>594081.760</td>\n",
       "    </tr>\n",
       "    <tr>\n",
       "      <th>3</th>\n",
       "      <td>4</td>\n",
       "      <td>20.878809</td>\n",
       "      <td>12.75</td>\n",
       "      <td>468374.331</td>\n",
       "    </tr>\n",
       "    <tr>\n",
       "      <th>4</th>\n",
       "      <td>5</td>\n",
       "      <td>24.128349</td>\n",
       "      <td>15.00</td>\n",
       "      <td>677355.150</td>\n",
       "    </tr>\n",
       "    <tr>\n",
       "      <th>5</th>\n",
       "      <td>6</td>\n",
       "      <td>24.513335</td>\n",
       "      <td>12.60</td>\n",
       "      <td>660046.050</td>\n",
       "    </tr>\n",
       "    <tr>\n",
       "      <th>6</th>\n",
       "      <td>7</td>\n",
       "      <td>22.534345</td>\n",
       "      <td>12.50</td>\n",
       "      <td>598962.901</td>\n",
       "    </tr>\n",
       "    <tr>\n",
       "      <th>7</th>\n",
       "      <td>8</td>\n",
       "      <td>24.040726</td>\n",
       "      <td>13.91</td>\n",
       "      <td>644051.040</td>\n",
       "    </tr>\n",
       "    <tr>\n",
       "      <th>8</th>\n",
       "      <td>9</td>\n",
       "      <td>23.965570</td>\n",
       "      <td>13.52</td>\n",
       "      <td>950690.202</td>\n",
       "    </tr>\n",
       "    <tr>\n",
       "      <th>9</th>\n",
       "      <td>10</td>\n",
       "      <td>21.225226</td>\n",
       "      <td>10.50</td>\n",
       "      <td>1035642.450</td>\n",
       "    </tr>\n",
       "    <tr>\n",
       "      <th>10</th>\n",
       "      <td>11</td>\n",
       "      <td>18.303660</td>\n",
       "      <td>9.90</td>\n",
       "      <td>1156205.610</td>\n",
       "    </tr>\n",
       "    <tr>\n",
       "      <th>11</th>\n",
       "      <td>12</td>\n",
       "      <td>30.375782</td>\n",
       "      <td>9.95</td>\n",
       "      <td>517208.440</td>\n",
       "    </tr>\n",
       "  </tbody>\n",
       "</table>\n",
       "</div>"
      ],
      "text/plain": [
       "    Month       mean  median          sum\n",
       "0       1  27.067911   12.60   568101.310\n",
       "1       2  22.637010   13.20   446084.920\n",
       "2       3  22.109481   12.75   594081.760\n",
       "3       4  20.878809   12.75   468374.331\n",
       "4       5  24.128349   15.00   677355.150\n",
       "5       6  24.513335   12.60   660046.050\n",
       "6       7  22.534345   12.50   598962.901\n",
       "7       8  24.040726   13.91   644051.040\n",
       "8       9  23.965570   13.52   950690.202\n",
       "9      10  21.225226   10.50  1035642.450\n",
       "10     11  18.303660    9.90  1156205.610\n",
       "11     12  30.375782    9.95   517208.440"
      ]
     },
     "execution_count": 78,
     "metadata": {},
     "output_type": "execute_result"
    }
   ],
   "source": [
    "ms = df.groupby('Month')['Sales'].agg(['mean', 'median', 'sum']).reset_index()\n",
    "ms"
   ]
  },
  {
   "cell_type": "code",
   "execution_count": 79,
   "metadata": {},
   "outputs": [
    {
     "data": {
      "text/html": [
       "<div>\n",
       "<style scoped>\n",
       "    .dataframe tbody tr th:only-of-type {\n",
       "        vertical-align: middle;\n",
       "    }\n",
       "\n",
       "    .dataframe tbody tr th {\n",
       "        vertical-align: top;\n",
       "    }\n",
       "\n",
       "    .dataframe thead th {\n",
       "        text-align: right;\n",
       "    }\n",
       "</style>\n",
       "<table border=\"1\" class=\"dataframe\">\n",
       "  <thead>\n",
       "    <tr style=\"text-align: right;\">\n",
       "      <th></th>\n",
       "      <th>Month</th>\n",
       "      <th>Quantity</th>\n",
       "    </tr>\n",
       "  </thead>\n",
       "  <tbody>\n",
       "    <tr>\n",
       "      <th>0</th>\n",
       "      <td>1</td>\n",
       "      <td>348473</td>\n",
       "    </tr>\n",
       "    <tr>\n",
       "      <th>1</th>\n",
       "      <td>2</td>\n",
       "      <td>265027</td>\n",
       "    </tr>\n",
       "    <tr>\n",
       "      <th>2</th>\n",
       "      <td>3</td>\n",
       "      <td>347582</td>\n",
       "    </tr>\n",
       "    <tr>\n",
       "      <th>3</th>\n",
       "      <td>4</td>\n",
       "      <td>291366</td>\n",
       "    </tr>\n",
       "    <tr>\n",
       "      <th>4</th>\n",
       "      <td>5</td>\n",
       "      <td>372864</td>\n",
       "    </tr>\n",
       "    <tr>\n",
       "      <th>5</th>\n",
       "      <td>6</td>\n",
       "      <td>363014</td>\n",
       "    </tr>\n",
       "    <tr>\n",
       "      <th>6</th>\n",
       "      <td>7</td>\n",
       "      <td>367360</td>\n",
       "    </tr>\n",
       "    <tr>\n",
       "      <th>7</th>\n",
       "      <td>8</td>\n",
       "      <td>397373</td>\n",
       "    </tr>\n",
       "    <tr>\n",
       "      <th>8</th>\n",
       "      <td>9</td>\n",
       "      <td>543652</td>\n",
       "    </tr>\n",
       "    <tr>\n",
       "      <th>9</th>\n",
       "      <td>10</td>\n",
       "      <td>591543</td>\n",
       "    </tr>\n",
       "    <tr>\n",
       "      <th>10</th>\n",
       "      <td>11</td>\n",
       "      <td>665923</td>\n",
       "    </tr>\n",
       "    <tr>\n",
       "      <th>11</th>\n",
       "      <td>12</td>\n",
       "      <td>286778</td>\n",
       "    </tr>\n",
       "  </tbody>\n",
       "</table>\n",
       "</div>"
      ],
      "text/plain": [
       "    Month  Quantity\n",
       "0       1    348473\n",
       "1       2    265027\n",
       "2       3    347582\n",
       "3       4    291366\n",
       "4       5    372864\n",
       "5       6    363014\n",
       "6       7    367360\n",
       "7       8    397373\n",
       "8       9    543652\n",
       "9      10    591543\n",
       "10     11    665923\n",
       "11     12    286778"
      ]
     },
     "execution_count": 79,
     "metadata": {},
     "output_type": "execute_result"
    }
   ],
   "source": [
    "# mq - monthly quantities\n",
    "mq = df.groupby('Month')['Quantity'].agg('sum').reset_index()\n",
    "mq"
   ]
  },
  {
   "cell_type": "markdown",
   "metadata": {},
   "source": [
    "**Visualize monthly sales and sold items**"
   ]
  },
  {
   "cell_type": "code",
   "execution_count": 80,
   "metadata": {},
   "outputs": [
    {
     "data": {
      "image/png": "[encoded data removed]",
      "text/plain": [
       "<Figure size 800x500 with 2 Axes>"
      ]
     },
     "metadata": {},
     "output_type": "display_data"
    }
   ],
   "source": [
    "sns.set_style('dark')\n",
    "plt.figure(figsize=(8,5))\n",
    "\n",
    "# Primary axis for items sold monthly\n",
    "ax = sns.barplot(data=mq, x=mq.Month, y=mq.Quantity)\n",
    "ax.set_title('Monthly Sales and Items Sold (FY2011)')\n",
    "ax.set_xticklabels([cal.month_name[i] for i in np.arange(1,13, 1)], rotation=45, size=10)\n",
    "ax.set_xlabel('')\n",
    "ax.set_ylabel('Items Sold')\n",
    "\n",
    "# Secondayy axis for month-on-month sales\n",
    "tx = ax.twinx()\n",
    "tx.plot(ms['sum'], label='Monthly Sales', color='orange', marker='s',)\n",
    "plt.legend()\n",
    "plt.tight_layout()\n",
    "plt.show()"
   ]
  },
  {
   "cell_type": "markdown",
   "metadata": {},
   "source": [
    "Investigate the steep decline in sales for the month of December, which is unusual for the amount of Sales during this time of the year."
   ]
  },
  {
   "cell_type": "code",
   "execution_count": 81,
   "metadata": {},
   "outputs": [
    {
     "name": "stdout",
     "output_type": "stream",
     "text": [
      "0.12 :: 168469.6\n"
     ]
    }
   ],
   "source": [
    "# Display range of sales values\n",
    "print(df[df.Month==12].Sales.min(), '::', df[df.Month==12].Sales.max())"
   ]
  },
  {
   "cell_type": "code",
   "execution_count": 82,
   "metadata": {},
   "outputs": [
    {
     "data": {
      "image/png": "[encoded data removed]",
      "text/plain": [
       "<Figure size 300x500 with 1 Axes>"
      ]
     },
     "metadata": {},
     "output_type": "display_data"
    }
   ],
   "source": [
    "sns.set_style('darkgrid')\n",
    "plt.figure(figsize=(3,5))\n",
    "sns.boxplot(df[df.Month == 12]['Sales'], width=0.5)\n",
    "plt.axhline(df[df.Month == 12]['Sales'].mean(), label='Mean:' + str(round(df[df.Month == 12]['Sales'].mean(),2)), linestyle=':', color='red')\n",
    "plt.title('December Sales Distribution')\n",
    "plt.legend(fontsize=7)\n",
    "plt.yscale('log')\n",
    "plt.show()"
   ]
  },
  {
   "cell_type": "code",
   "execution_count": 83,
   "metadata": {},
   "outputs": [
    {
     "data": {
      "image/png": "[encoded data removed]",
      "text/plain": [
       "<Figure size 500x300 with 1 Axes>"
      ]
     },
     "metadata": {},
     "output_type": "display_data"
    }
   ],
   "source": [
    "sns.set(font_scale=0.7, style='darkgrid')\n",
    "plt.figure(figsize=(5,3))\n",
    "sns.histplot(data=df[df.Month==12].Sales, bins=100)\n",
    "plt.yscale('log')\n",
    "plt.axvline(df[df.Month == 12]['Sales'].mean(), label='Mean:' + str(round(df[df.Month == 12]['Sales'].mean(),2)), linestyle=':', color='red')\n",
    "plt.title('December Sales Distribution')\n",
    "plt.legend()\n",
    "plt.tight_layout()\n",
    "plt.show()"
   ]
  },
  {
   "cell_type": "code",
   "execution_count": 84,
   "metadata": {},
   "outputs": [
    {
     "name": "stdout",
     "output_type": "stream",
     "text": [
      "No. of transaction (December):  17027\n",
      "No. of transactions for the year:  367023\n",
      "% of December Transactions:  4.64 %\n"
     ]
    }
   ],
   "source": [
    "print('No. of transaction (December): ', df.query('Month == 12').shape[0])\n",
    "print('No. of transactions for the year: ', df.shape[0] )\n",
    "print('% of December Transactions: ', round(len(df.query('Month == 12')) * 100 / len(df), 2), '%')"
   ]
  },
  {
   "cell_type": "markdown",
   "metadata": {},
   "source": [
    "December transactions account for less than 5% of the whole year. Check daily transactions for this month."
   ]
  },
  {
   "cell_type": "code",
   "execution_count": 85,
   "metadata": {},
   "outputs": [
    {
     "data": {
      "text/plain": [
       "Month  InvoiceDate\n",
       "12     1              2120\n",
       "       2              1939\n",
       "       4              1885\n",
       "       5              3335\n",
       "       6              2503\n",
       "       7              2135\n",
       "       8              2499\n",
       "       9               611\n",
       "Name: Invoice, dtype: int64"
      ]
     },
     "execution_count": 85,
     "metadata": {},
     "output_type": "execute_result"
    }
   ],
   "source": [
    "df.query('Month == 12').groupby([(df.Month), (df.InvoiceDate.dt.day)])['Invoice'].count()"
   ]
  },
  {
   "cell_type": "code",
   "execution_count": 86,
   "metadata": {},
   "outputs": [
    {
     "name": "stdout",
     "output_type": "stream",
     "text": [
      "Latest December Transaction:  2011-12-09\n"
     ]
    }
   ],
   "source": [
    "# Confirm the last transaction date in December. \n",
    "print('Latest December Transaction: ', df.query('Month == 12')['InvoiceDate'].dt.date.max() )"
   ]
  },
  {
   "cell_type": "markdown",
   "metadata": {},
   "source": [
    "The transactions in the dataset appear incomplete as it did not capture the whole transactions for the month of December 2011 (Last invoice date: Dec. 9)"
   ]
  },
  {
   "cell_type": "code",
   "execution_count": 87,
   "metadata": {},
   "outputs": [],
   "source": [
    "# Display shape of new df after all changes prior to EDA\n",
    "df.shape\n",
    "log_changes(df.shape[0], 'Rows after EDA process')"
   ]
  },
  {
   "cell_type": "markdown",
   "metadata": {},
   "source": [
    "## 5. Show Changes and Save EDA Output"
   ]
  },
  {
   "cell_type": "code",
   "execution_count": null,
   "metadata": {},
   "outputs": [
    {
     "data": {
      "text/html": [
       "<div>\n",
       "<style scoped>\n",
       "    .dataframe tbody tr th:only-of-type {\n",
       "        vertical-align: middle;\n",
       "    }\n",
       "\n",
       "    .dataframe tbody tr th {\n",
       "        vertical-align: top;\n",
       "    }\n",
       "\n",
       "    .dataframe thead th {\n",
       "        text-align: right;\n",
       "    }\n",
       "</style>\n",
       "<table border=\"1\" class=\"dataframe\">\n",
       "  <thead>\n",
       "    <tr style=\"text-align: right;\">\n",
       "      <th></th>\n",
       "      <th>Number</th>\n",
       "      <th>Description</th>\n",
       "    </tr>\n",
       "  </thead>\n",
       "  <tbody>\n",
       "    <tr>\n",
       "      <th>0</th>\n",
       "      <td>392733</td>\n",
       "      <td>Row count before EDA process</td>\n",
       "    </tr>\n",
       "    <tr>\n",
       "      <th>1</th>\n",
       "      <td>-40</td>\n",
       "      <td>Records with 0 price dropped</td>\n",
       "    </tr>\n",
       "    <tr>\n",
       "      <th>2</th>\n",
       "      <td>-25670</td>\n",
       "      <td>Out of date range records dropped</td>\n",
       "    </tr>\n",
       "    <tr>\n",
       "      <th>3</th>\n",
       "      <td>367023</td>\n",
       "      <td>Rows after EDA process</td>\n",
       "    </tr>\n",
       "  </tbody>\n",
       "</table>\n",
       "</div>"
      ],
      "text/plain": [
       "   Number                        Description\n",
       "0  392733       Row count before EDA process\n",
       "1     -40       Records with 0 price dropped\n",
       "2  -25670  Out of date range records dropped\n",
       "3  367023             Rows after EDA process"
      ]
     },
     "execution_count": 88,
     "metadata": {},
     "output_type": "execute_result"
    }
   ],
   "source": [
    "df_logs = pd.DataFrame(ChangeLogs).T\n",
    "df_logs"
   ]
  },
  {
   "cell_type": "code",
   "execution_count": 89,
   "metadata": {},
   "outputs": [],
   "source": [
    "df.to_csv(\"../data/interim/online_retail_EDA.csv\",  index=False)"
   ]
  }
 ],
 "metadata": {
  "kernelspec": {
   "display_name": "ds-retail-env",
   "language": "python",
   "name": "python3"
  },
  "language_info": {
   "codemirror_mode": {
    "name": "ipython",
    "version": 3
   },
   "file_extension": ".py",
   "mimetype": "text/x-python",
   "name": "python",
   "nbconvert_exporter": "python",
   "pygments_lexer": "ipython3",
   "version": "3.12.7"
  }
 },
 "nbformat": 4,
 "nbformat_minor": 2
}
