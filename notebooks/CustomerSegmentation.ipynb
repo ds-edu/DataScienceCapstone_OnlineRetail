{
 "cells": [
  {
   "cell_type": "markdown",
   "metadata": {},
   "source": [
    "<h1 style='text-align:center'><b> CUSTOMER SEGMENTATION FOR A UK-BASED ONLINE RETAIL </b></h1>"
   ]
  },
  {
   "cell_type": "markdown",
   "metadata": {},
   "source": [
    "# 1. INTRODUCTION"
   ]
  },
  {
   "cell_type": "markdown",
   "metadata": {},
   "source": [
    "This notebook focuses on customer segmentation and sales transaction analysis for a UK-based e-commerce retail company. The analysis will concentrate on three key customer features: Recency, Frequency, and Monetary value.\n",
    "\n",
    "The analysis aims to uncover valuable insights into customer behavior and transform the transactional data into a customer-centric dataset through feature engineering and clustering that will effectively aid in segmenting customers, enabling the business to determine appropriate marketing strategies and enhance the customer experience. Additionally, this analysis has the potential to significantly boost product sales, offering a promising outlook for the future.\n",
    "\n",
    "Data Source: <a href= 'https://archive.ics.uci.edu/dataset/502/online+retail+ii'>UCI Machine Learning Repository | Online Retail II </a>\n",
    "\n",
    "*This e-commerce dataset, made available by the UCI Machine Learning Repository, contains transactions made by approximately 4,300 customers from 2010-2011."
   ]
  },
  {
   "cell_type": "markdown",
   "metadata": {},
   "source": [
    "# 2. DATA WRANGLING"
   ]
  },
  {
   "cell_type": "markdown",
   "metadata": {},
   "source": [
    "## 2.1 Import Libraries"
   ]
  },
  {
   "cell_type": "code",
   "execution_count": 1,
   "metadata": {},
   "outputs": [],
   "source": [
    "import numpy as np\n",
    "import pandas as pd\n",
    "import os\n",
    "import re\n",
    "import logging\n",
    "\n",
    "# Suppress warnings\n",
    "import warnings\n",
    "warnings.filterwarnings(\"ignore\")\n",
    "\n",
    "# Define standard logging configuration\n",
    "logging.basicConfig(\n",
    "    level=logging.ERROR,\n",
    "    filename='../logs/onlineretail.log')"
   ]
  },
  {
   "cell_type": "code",
   "execution_count": 2,
   "metadata": {},
   "outputs": [],
   "source": [
    "#%conda install openpyxl"
   ]
  },
  {
   "cell_type": "markdown",
   "metadata": {},
   "source": [
    "## 2.2 Import Data"
   ]
  },
  {
   "cell_type": "code",
   "execution_count": 3,
   "metadata": {},
   "outputs": [],
   "source": [
    "try:\n",
    "    df = pd.read_excel('../data/raw/online_retail_II.xlsx', sheet_name = 'Year 2010-2011')\n",
    "    df.head()\n",
    "\n",
    "except OSError as e:\n",
    "\n",
    "    logging.error(e)"
   ]
  },
  {
   "cell_type": "markdown",
   "metadata": {},
   "source": [
    "## 2.3 Define global functions"
   ]
  },
  {
   "cell_type": "markdown",
   "metadata": {},
   "source": [
    "Define a custom logging function to track changes to the dataset that will be displayed prior to modeling."
   ]
  },
  {
   "cell_type": "code",
   "execution_count": 4,
   "metadata": {},
   "outputs": [],
   "source": [
    "ChangeLogs = {}\n",
    "def log_changes(num, desc):\n",
    "    '''Custom function to update ChangeLogs{} dictionary with the number of changed records and the description of the changes.\n",
    "    Input:\n",
    "        num - number of changed records to track\n",
    "        desc - free text description of the changes\n",
    "    Return: None\n",
    "    '''\n",
    "    idx = len(ChangeLogs)\n",
    "    ChangeLogs[idx] = {'Number': num, 'Description': desc}"
   ]
  },
  {
   "cell_type": "markdown",
   "metadata": {},
   "source": [
    "## 2.4 Data Wrangling: Validation and Transformation"
   ]
  },
  {
   "cell_type": "markdown",
   "metadata": {},
   "source": [
    "### 2.4.1 Inspect/Resolve columns"
   ]
  },
  {
   "cell_type": "code",
   "execution_count": 5,
   "metadata": {},
   "outputs": [
    {
     "data": {
      "text/plain": [
       "Index(['Invoice', 'StockCode', 'Description', 'Quantity', 'InvoiceDate',\n",
       "       'Price', 'Customer ID', 'Country'],\n",
       "      dtype='object')"
      ]
     },
     "execution_count": 5,
     "metadata": {},
     "output_type": "execute_result"
    }
   ],
   "source": [
    "df.columns"
   ]
  },
  {
   "cell_type": "code",
   "execution_count": 6,
   "metadata": {},
   "outputs": [
    {
     "data": {
      "text/plain": [
       "Index(['Invoice', 'StockCode', 'Description', 'Quantity', 'InvoiceDate',\n",
       "       'Price', 'CustomerID', 'Country'],\n",
       "      dtype='object')"
      ]
     },
     "execution_count": 6,
     "metadata": {},
     "output_type": "execute_result"
    }
   ],
   "source": [
    "df.rename(columns = {'Customer ID':'CustomerID'}, inplace=True)\n",
    "df.columns"
   ]
  },
  {
   "cell_type": "code",
   "execution_count": 7,
   "metadata": {},
   "outputs": [],
   "source": [
    "rec_init = df.shape[0]\n",
    "\n",
    "# Update Changes logs\n",
    "log_changes(rec_init, 'Initial number of records')"
   ]
  },
  {
   "cell_type": "markdown",
   "metadata": {},
   "source": [
    "### 2.4.2 Inspect/Resolve inconsistencies in values"
   ]
  },
  {
   "cell_type": "code",
   "execution_count": 8,
   "metadata": {},
   "outputs": [
    {
     "data": {
      "text/html": [
       "<div>\n",
       "<style scoped>\n",
       "    .dataframe tbody tr th:only-of-type {\n",
       "        vertical-align: middle;\n",
       "    }\n",
       "\n",
       "    .dataframe tbody tr th {\n",
       "        vertical-align: top;\n",
       "    }\n",
       "\n",
       "    .dataframe thead th {\n",
       "        text-align: right;\n",
       "    }\n",
       "</style>\n",
       "<table border=\"1\" class=\"dataframe\">\n",
       "  <thead>\n",
       "    <tr style=\"text-align: right;\">\n",
       "      <th></th>\n",
       "      <th>Quantity</th>\n",
       "      <th>InvoiceDate</th>\n",
       "      <th>Price</th>\n",
       "      <th>CustomerID</th>\n",
       "    </tr>\n",
       "  </thead>\n",
       "  <tbody>\n",
       "    <tr>\n",
       "      <th>count</th>\n",
       "      <td>541910.000000</td>\n",
       "      <td>541910</td>\n",
       "      <td>541910.000000</td>\n",
       "      <td>406830.000000</td>\n",
       "    </tr>\n",
       "    <tr>\n",
       "      <th>mean</th>\n",
       "      <td>9.552234</td>\n",
       "      <td>2011-07-04 13:35:22.342307584</td>\n",
       "      <td>4.611138</td>\n",
       "      <td>15287.684160</td>\n",
       "    </tr>\n",
       "    <tr>\n",
       "      <th>min</th>\n",
       "      <td>-80995.000000</td>\n",
       "      <td>2010-12-01 08:26:00</td>\n",
       "      <td>-11062.060000</td>\n",
       "      <td>12346.000000</td>\n",
       "    </tr>\n",
       "    <tr>\n",
       "      <th>25%</th>\n",
       "      <td>1.000000</td>\n",
       "      <td>2011-03-28 11:34:00</td>\n",
       "      <td>1.250000</td>\n",
       "      <td>13953.000000</td>\n",
       "    </tr>\n",
       "    <tr>\n",
       "      <th>50%</th>\n",
       "      <td>3.000000</td>\n",
       "      <td>2011-07-19 17:17:00</td>\n",
       "      <td>2.080000</td>\n",
       "      <td>15152.000000</td>\n",
       "    </tr>\n",
       "    <tr>\n",
       "      <th>75%</th>\n",
       "      <td>10.000000</td>\n",
       "      <td>2011-10-19 11:27:00</td>\n",
       "      <td>4.130000</td>\n",
       "      <td>16791.000000</td>\n",
       "    </tr>\n",
       "    <tr>\n",
       "      <th>max</th>\n",
       "      <td>80995.000000</td>\n",
       "      <td>2011-12-09 12:50:00</td>\n",
       "      <td>38970.000000</td>\n",
       "      <td>18287.000000</td>\n",
       "    </tr>\n",
       "    <tr>\n",
       "      <th>std</th>\n",
       "      <td>218.080957</td>\n",
       "      <td>NaN</td>\n",
       "      <td>96.759765</td>\n",
       "      <td>1713.603074</td>\n",
       "    </tr>\n",
       "  </tbody>\n",
       "</table>\n",
       "</div>"
      ],
      "text/plain": [
       "            Quantity                    InvoiceDate          Price  \\\n",
       "count  541910.000000                         541910  541910.000000   \n",
       "mean        9.552234  2011-07-04 13:35:22.342307584       4.611138   \n",
       "min    -80995.000000            2010-12-01 08:26:00  -11062.060000   \n",
       "25%         1.000000            2011-03-28 11:34:00       1.250000   \n",
       "50%         3.000000            2011-07-19 17:17:00       2.080000   \n",
       "75%        10.000000            2011-10-19 11:27:00       4.130000   \n",
       "max     80995.000000            2011-12-09 12:50:00   38970.000000   \n",
       "std       218.080957                            NaN      96.759765   \n",
       "\n",
       "          CustomerID  \n",
       "count  406830.000000  \n",
       "mean    15287.684160  \n",
       "min     12346.000000  \n",
       "25%     13953.000000  \n",
       "50%     15152.000000  \n",
       "75%     16791.000000  \n",
       "max     18287.000000  \n",
       "std      1713.603074  "
      ]
     },
     "execution_count": 8,
     "metadata": {},
     "output_type": "execute_result"
    }
   ],
   "source": [
    "df.describe()"
   ]
  },
  {
   "cell_type": "markdown",
   "metadata": {},
   "source": [
    "<font color='orange'>Inconsistency Found:</font> CustomerID count is not the same as that of the Quantity"
   ]
  },
  {
   "cell_type": "markdown",
   "metadata": {},
   "source": [
    "**Resolve CustomerID count:**"
   ]
  },
  {
   "cell_type": "markdown",
   "metadata": {},
   "source": [
    "Find ratio of null CustomerIDs"
   ]
  },
  {
   "cell_type": "code",
   "execution_count": 9,
   "metadata": {},
   "outputs": [
    {
     "name": "stdout",
     "output_type": "stream",
     "text": [
      "Ratio of null customer IDs in the dataset: 24.93 %\n"
     ]
    }
   ],
   "source": [
    "#Find ratio of Null Customer ID\n",
    "rec_init = df.shape[0]\n",
    "\n",
    "ratio_null_cust_id = round(len(df.loc[df['CustomerID'].isna()]) / len(df) * 100, 2)\n",
    "print(f'Ratio of null customer IDs in the dataset: {ratio_null_cust_id} %')"
   ]
  },
  {
   "cell_type": "markdown",
   "metadata": {},
   "source": [
    "- Approximately 25% of Customer ID is (null). \n",
    "- As the focus of the model is on Customer Segmentation, (null) Customer ID is of no value to the analysis; therefore, it is imperative to drop the (null) values."
   ]
  },
  {
   "cell_type": "code",
   "execution_count": 10,
   "metadata": {},
   "outputs": [],
   "source": [
    "# Drop null rows in Customer id\n",
    "df = df.dropna(subset = ['CustomerID'])\n",
    "\n",
    "# Update Changes logs\n",
    "log_changes(-(rec_init - len(df)), 'Records with null Customer IDs dropped')"
   ]
  },
  {
   "cell_type": "code",
   "execution_count": 11,
   "metadata": {},
   "outputs": [
    {
     "name": "stdout",
     "output_type": "stream",
     "text": [
      "<class 'pandas.core.frame.DataFrame'>\n",
      "Index: 406830 entries, 0 to 541909\n",
      "Data columns (total 8 columns):\n",
      " #   Column       Non-Null Count   Dtype         \n",
      "---  ------       --------------   -----         \n",
      " 0   Invoice      406830 non-null  object        \n",
      " 1   StockCode    406830 non-null  object        \n",
      " 2   Description  406830 non-null  object        \n",
      " 3   Quantity     406830 non-null  int64         \n",
      " 4   InvoiceDate  406830 non-null  datetime64[ns]\n",
      " 5   Price        406830 non-null  float64       \n",
      " 6   CustomerID   406830 non-null  float64       \n",
      " 7   Country      406830 non-null  object        \n",
      "dtypes: datetime64[ns](1), float64(2), int64(1), object(4)\n",
      "memory usage: 27.9+ MB\n"
     ]
    }
   ],
   "source": [
    "df.info()"
   ]
  },
  {
   "cell_type": "markdown",
   "metadata": {},
   "source": [
    "<font color='orange'>Inconsitency Found:</font> Customer ID is of type float, and the decimals removed because according to the documentation: \n",
    "\n",
    "- CustomerID: Customer number. Nominal. A 5-digit integral number uniquely assigned to each customer. \n",
    "The decimals in this column should be removed."
   ]
  },
  {
   "cell_type": "markdown",
   "metadata": {},
   "source": [
    "**Resolve CustomerID data type**"
   ]
  },
  {
   "cell_type": "code",
   "execution_count": 12,
   "metadata": {},
   "outputs": [
    {
     "name": "stdout",
     "output_type": "stream",
     "text": [
      "<class 'pandas.core.frame.DataFrame'>\n",
      "Index: 406830 entries, 0 to 541909\n",
      "Data columns (total 8 columns):\n",
      " #   Column       Non-Null Count   Dtype         \n",
      "---  ------       --------------   -----         \n",
      " 0   Invoice      406830 non-null  object        \n",
      " 1   StockCode    406830 non-null  object        \n",
      " 2   Description  406830 non-null  object        \n",
      " 3   Quantity     406830 non-null  int64         \n",
      " 4   InvoiceDate  406830 non-null  datetime64[ns]\n",
      " 5   Price        406830 non-null  float64       \n",
      " 6   CustomerID   406830 non-null  int64         \n",
      " 7   Country      406830 non-null  object        \n",
      "dtypes: datetime64[ns](1), float64(1), int64(2), object(4)\n",
      "memory usage: 27.9+ MB\n"
     ]
    }
   ],
   "source": [
    "# Convert Customer ID from Float to int\n",
    "df['CustomerID'] = df['CustomerID'].astype(int)\n",
    "df.info()"
   ]
  },
  {
   "cell_type": "code",
   "execution_count": 13,
   "metadata": {},
   "outputs": [
    {
     "data": {
      "text/html": [
       "<div>\n",
       "<style scoped>\n",
       "    .dataframe tbody tr th:only-of-type {\n",
       "        vertical-align: middle;\n",
       "    }\n",
       "\n",
       "    .dataframe tbody tr th {\n",
       "        vertical-align: top;\n",
       "    }\n",
       "\n",
       "    .dataframe thead th {\n",
       "        text-align: right;\n",
       "    }\n",
       "</style>\n",
       "<table border=\"1\" class=\"dataframe\">\n",
       "  <thead>\n",
       "    <tr style=\"text-align: right;\">\n",
       "      <th></th>\n",
       "      <th>Quantity</th>\n",
       "      <th>InvoiceDate</th>\n",
       "      <th>Price</th>\n",
       "      <th>CustomerID</th>\n",
       "    </tr>\n",
       "  </thead>\n",
       "  <tbody>\n",
       "    <tr>\n",
       "      <th>count</th>\n",
       "      <td>406830.000000</td>\n",
       "      <td>406830</td>\n",
       "      <td>406830.000000</td>\n",
       "      <td>406830.000000</td>\n",
       "    </tr>\n",
       "    <tr>\n",
       "      <th>mean</th>\n",
       "      <td>12.061276</td>\n",
       "      <td>2011-07-10 16:31:30.127424512</td>\n",
       "      <td>3.460507</td>\n",
       "      <td>15287.684160</td>\n",
       "    </tr>\n",
       "    <tr>\n",
       "      <th>min</th>\n",
       "      <td>-80995.000000</td>\n",
       "      <td>2010-12-01 08:26:00</td>\n",
       "      <td>0.000000</td>\n",
       "      <td>12346.000000</td>\n",
       "    </tr>\n",
       "    <tr>\n",
       "      <th>25%</th>\n",
       "      <td>2.000000</td>\n",
       "      <td>2011-04-06 15:02:00</td>\n",
       "      <td>1.250000</td>\n",
       "      <td>13953.000000</td>\n",
       "    </tr>\n",
       "    <tr>\n",
       "      <th>50%</th>\n",
       "      <td>5.000000</td>\n",
       "      <td>2011-07-31 11:48:00</td>\n",
       "      <td>1.950000</td>\n",
       "      <td>15152.000000</td>\n",
       "    </tr>\n",
       "    <tr>\n",
       "      <th>75%</th>\n",
       "      <td>12.000000</td>\n",
       "      <td>2011-10-20 13:06:00</td>\n",
       "      <td>3.750000</td>\n",
       "      <td>16791.000000</td>\n",
       "    </tr>\n",
       "    <tr>\n",
       "      <th>max</th>\n",
       "      <td>80995.000000</td>\n",
       "      <td>2011-12-09 12:50:00</td>\n",
       "      <td>38970.000000</td>\n",
       "      <td>18287.000000</td>\n",
       "    </tr>\n",
       "    <tr>\n",
       "      <th>std</th>\n",
       "      <td>248.693065</td>\n",
       "      <td>NaN</td>\n",
       "      <td>69.315080</td>\n",
       "      <td>1713.603074</td>\n",
       "    </tr>\n",
       "  </tbody>\n",
       "</table>\n",
       "</div>"
      ],
      "text/plain": [
       "            Quantity                    InvoiceDate          Price  \\\n",
       "count  406830.000000                         406830  406830.000000   \n",
       "mean       12.061276  2011-07-10 16:31:30.127424512       3.460507   \n",
       "min    -80995.000000            2010-12-01 08:26:00       0.000000   \n",
       "25%         2.000000            2011-04-06 15:02:00       1.250000   \n",
       "50%         5.000000            2011-07-31 11:48:00       1.950000   \n",
       "75%        12.000000            2011-10-20 13:06:00       3.750000   \n",
       "max     80995.000000            2011-12-09 12:50:00   38970.000000   \n",
       "std       248.693065                            NaN      69.315080   \n",
       "\n",
       "          CustomerID  \n",
       "count  406830.000000  \n",
       "mean    15287.684160  \n",
       "min     12346.000000  \n",
       "25%     13953.000000  \n",
       "50%     15152.000000  \n",
       "75%     16791.000000  \n",
       "max     18287.000000  \n",
       "std      1713.603074  "
      ]
     },
     "execution_count": 13,
     "metadata": {},
     "output_type": "execute_result"
    }
   ],
   "source": [
    "df.describe()"
   ]
  },
  {
   "cell_type": "markdown",
   "metadata": {},
   "source": [
    "<font color='orange'>Inconsistencies Found: </font> Negative values for Quantity and Price"
   ]
  },
  {
   "cell_type": "markdown",
   "metadata": {},
   "source": [
    "**Resolve negative quantities and price**"
   ]
  },
  {
   "cell_type": "code",
   "execution_count": 14,
   "metadata": {},
   "outputs": [
    {
     "data": {
      "text/html": [
       "<div>\n",
       "<style scoped>\n",
       "    .dataframe tbody tr th:only-of-type {\n",
       "        vertical-align: middle;\n",
       "    }\n",
       "\n",
       "    .dataframe tbody tr th {\n",
       "        vertical-align: top;\n",
       "    }\n",
       "\n",
       "    .dataframe thead th {\n",
       "        text-align: right;\n",
       "    }\n",
       "</style>\n",
       "<table border=\"1\" class=\"dataframe\">\n",
       "  <thead>\n",
       "    <tr style=\"text-align: right;\">\n",
       "      <th></th>\n",
       "      <th>Invoice</th>\n",
       "      <th>StockCode</th>\n",
       "      <th>Description</th>\n",
       "      <th>Quantity</th>\n",
       "      <th>InvoiceDate</th>\n",
       "      <th>Price</th>\n",
       "      <th>CustomerID</th>\n",
       "      <th>Country</th>\n",
       "    </tr>\n",
       "  </thead>\n",
       "  <tbody>\n",
       "    <tr>\n",
       "      <th>141</th>\n",
       "      <td>C536379</td>\n",
       "      <td>D</td>\n",
       "      <td>Discount</td>\n",
       "      <td>-1</td>\n",
       "      <td>2010-12-01 09:41:00</td>\n",
       "      <td>27.50</td>\n",
       "      <td>14527</td>\n",
       "      <td>United Kingdom</td>\n",
       "    </tr>\n",
       "    <tr>\n",
       "      <th>154</th>\n",
       "      <td>C536383</td>\n",
       "      <td>35004C</td>\n",
       "      <td>SET OF 3 COLOURED  FLYING DUCKS</td>\n",
       "      <td>-1</td>\n",
       "      <td>2010-12-01 09:49:00</td>\n",
       "      <td>4.65</td>\n",
       "      <td>15311</td>\n",
       "      <td>United Kingdom</td>\n",
       "    </tr>\n",
       "    <tr>\n",
       "      <th>235</th>\n",
       "      <td>C536391</td>\n",
       "      <td>22556</td>\n",
       "      <td>PLASTERS IN TIN CIRCUS PARADE</td>\n",
       "      <td>-12</td>\n",
       "      <td>2010-12-01 10:24:00</td>\n",
       "      <td>1.65</td>\n",
       "      <td>17548</td>\n",
       "      <td>United Kingdom</td>\n",
       "    </tr>\n",
       "    <tr>\n",
       "      <th>236</th>\n",
       "      <td>C536391</td>\n",
       "      <td>21984</td>\n",
       "      <td>PACK OF 12 PINK PAISLEY TISSUES</td>\n",
       "      <td>-24</td>\n",
       "      <td>2010-12-01 10:24:00</td>\n",
       "      <td>0.29</td>\n",
       "      <td>17548</td>\n",
       "      <td>United Kingdom</td>\n",
       "    </tr>\n",
       "    <tr>\n",
       "      <th>237</th>\n",
       "      <td>C536391</td>\n",
       "      <td>21983</td>\n",
       "      <td>PACK OF 12 BLUE PAISLEY TISSUES</td>\n",
       "      <td>-24</td>\n",
       "      <td>2010-12-01 10:24:00</td>\n",
       "      <td>0.29</td>\n",
       "      <td>17548</td>\n",
       "      <td>United Kingdom</td>\n",
       "    </tr>\n",
       "  </tbody>\n",
       "</table>\n",
       "</div>"
      ],
      "text/plain": [
       "     Invoice StockCode                       Description  Quantity  \\\n",
       "141  C536379         D                          Discount        -1   \n",
       "154  C536383    35004C   SET OF 3 COLOURED  FLYING DUCKS        -1   \n",
       "235  C536391     22556    PLASTERS IN TIN CIRCUS PARADE        -12   \n",
       "236  C536391     21984  PACK OF 12 PINK PAISLEY TISSUES        -24   \n",
       "237  C536391     21983  PACK OF 12 BLUE PAISLEY TISSUES        -24   \n",
       "\n",
       "            InvoiceDate  Price  CustomerID         Country  \n",
       "141 2010-12-01 09:41:00  27.50       14527  United Kingdom  \n",
       "154 2010-12-01 09:49:00   4.65       15311  United Kingdom  \n",
       "235 2010-12-01 10:24:00   1.65       17548  United Kingdom  \n",
       "236 2010-12-01 10:24:00   0.29       17548  United Kingdom  \n",
       "237 2010-12-01 10:24:00   0.29       17548  United Kingdom  "
      ]
     },
     "execution_count": 14,
     "metadata": {},
     "output_type": "execute_result"
    }
   ],
   "source": [
    "#Inspect the negative quantities\n",
    "df.loc[df['Quantity'] < 0].head(5)"
   ]
  },
  {
   "cell_type": "markdown",
   "metadata": {},
   "source": [
    "Compare negative values. Check if all these negative quantities are from Cancelled Invoices ( Invoices with \"C\" as a prefix )"
   ]
  },
  {
   "cell_type": "code",
   "execution_count": 15,
   "metadata": {},
   "outputs": [
    {
     "name": "stdout",
     "output_type": "stream",
     "text": [
      "Negative quantities : 8905\n",
      "Cancelled Invoices: 8905\n",
      "Negative quantities with Cancelled invoices: 8905\n",
      "Positive quantities with Cancelled invoices: 0\n"
     ]
    }
   ],
   "source": [
    "#Compare negative values\n",
    "df['Invoice'] = df['Invoice'].astype(str)\n",
    "cancelled = df['Invoice'].str.contains(r'^[Cc]') \n",
    "negative = df['Quantity'] < 0\n",
    "positive = df['Quantity'] >= 0\n",
    "\n",
    "print(f'Negative quantities : {len(df.loc[df['Quantity'] < 0])}')\n",
    "print(f'Cancelled Invoices: {len(df[cancelled])}')\n",
    "print(f'Negative quantities with Cancelled invoices: {len(df[cancelled & ~positive])}' )\n",
    "print(f'Positive quantities with Cancelled invoices: {len(df[cancelled & positive])}' )"
   ]
  },
  {
   "cell_type": "markdown",
   "metadata": {},
   "source": [
    "Findings: All negative quantities are from Cancelled Invoices. \\\n",
    "Next Step: For this analysis, cancelled invoices will be dropped from the dataset"
   ]
  },
  {
   "cell_type": "code",
   "execution_count": 16,
   "metadata": {},
   "outputs": [
    {
     "name": "stdout",
     "output_type": "stream",
     "text": [
      "Number of non-negative quantities: 397925\n"
     ]
    }
   ],
   "source": [
    "# Discard negative quantities ( this includes Cancelled invoices)\n",
    "rec_init = len(df)\n",
    "df = df[df['Quantity'] > 0]\n",
    "\n",
    "log_changes(-(rec_init - len(df)), 'Negative quantities or cancelled invoices dropped')\n",
    "\n",
    "print(f'Number of non-negative quantities: {len(df)}')"
   ]
  },
  {
   "cell_type": "code",
   "execution_count": 17,
   "metadata": {},
   "outputs": [
    {
     "data": {
      "text/plain": [
       "count    397925.000000\n",
       "mean         13.021793\n",
       "std         180.419984\n",
       "min           1.000000\n",
       "25%           2.000000\n",
       "50%           6.000000\n",
       "75%          12.000000\n",
       "max       80995.000000\n",
       "Name: Quantity, dtype: float64"
      ]
     },
     "execution_count": 17,
     "metadata": {},
     "output_type": "execute_result"
    }
   ],
   "source": [
    "df['Quantity'].describe()"
   ]
  },
  {
   "cell_type": "code",
   "execution_count": 18,
   "metadata": {},
   "outputs": [
    {
     "data": {
      "text/plain": [
       "Invoice        0\n",
       "StockCode      0\n",
       "Description    0\n",
       "Quantity       0\n",
       "InvoiceDate    0\n",
       "Price          0\n",
       "CustomerID     0\n",
       "Country        0\n",
       "dtype: int64"
      ]
     },
     "execution_count": 18,
     "metadata": {},
     "output_type": "execute_result"
    }
   ],
   "source": [
    "df.isnull().sum()"
   ]
  },
  {
   "cell_type": "markdown",
   "metadata": {},
   "source": [
    "**Inspect/Resolve Invoices column**"
   ]
  },
  {
   "cell_type": "markdown",
   "metadata": {},
   "source": [
    "Check Invoices column. Per the description:\n",
    "\n",
    "- InvoiceNo: Invoice number. Nominal. A 6-digit integral number uniquely assigned to each transaction. If this code starts with the letter 'c', it indicates a cancellation. "
   ]
  },
  {
   "cell_type": "code",
   "execution_count": 19,
   "metadata": {},
   "outputs": [
    {
     "data": {
      "text/plain": [
       "0"
      ]
     },
     "execution_count": 19,
     "metadata": {},
     "output_type": "execute_result"
    }
   ],
   "source": [
    "# Check for incorrect invoices \n",
    "df['Invoice'] = df['Invoice'].astype(str)\n",
    "df[df['Invoice'].str.match(r'^\\d{5}$')].shape[0]"
   ]
  },
  {
   "cell_type": "markdown",
   "metadata": {},
   "source": [
    "**Inspect/Resolve Stock Codes column**"
   ]
  },
  {
   "cell_type": "markdown",
   "metadata": {},
   "source": [
    "Check Stock Codes. Per the description: \n",
    "- StockCode: Product (item) code. Nominal. A 5-digit integral number uniquely assigned to each distinct product. "
   ]
  },
  {
   "cell_type": "code",
   "execution_count": 20,
   "metadata": {},
   "outputs": [
    {
     "data": {
      "text/html": [
       "<div>\n",
       "<style scoped>\n",
       "    .dataframe tbody tr th:only-of-type {\n",
       "        vertical-align: middle;\n",
       "    }\n",
       "\n",
       "    .dataframe tbody tr th {\n",
       "        vertical-align: top;\n",
       "    }\n",
       "\n",
       "    .dataframe thead th {\n",
       "        text-align: right;\n",
       "    }\n",
       "</style>\n",
       "<table border=\"1\" class=\"dataframe\">\n",
       "  <thead>\n",
       "    <tr style=\"text-align: right;\">\n",
       "      <th></th>\n",
       "      <th></th>\n",
       "      <th>StockCode</th>\n",
       "    </tr>\n",
       "    <tr>\n",
       "      <th>StockCode</th>\n",
       "      <th>Description</th>\n",
       "      <th></th>\n",
       "    </tr>\n",
       "  </thead>\n",
       "  <tbody>\n",
       "    <tr>\n",
       "      <th>BANK CHARGES</th>\n",
       "      <th>Bank Charges</th>\n",
       "      <td>12</td>\n",
       "    </tr>\n",
       "    <tr>\n",
       "      <th>C2</th>\n",
       "      <th>CARRIAGE</th>\n",
       "      <td>133</td>\n",
       "    </tr>\n",
       "    <tr>\n",
       "      <th>DOT</th>\n",
       "      <th>DOTCOM POSTAGE</th>\n",
       "      <td>16</td>\n",
       "    </tr>\n",
       "    <tr>\n",
       "      <th>M</th>\n",
       "      <th>Manual</th>\n",
       "      <td>290</td>\n",
       "    </tr>\n",
       "    <tr>\n",
       "      <th>PADS</th>\n",
       "      <th>PADS TO MATCH ALL CUSHIONS</th>\n",
       "      <td>4</td>\n",
       "    </tr>\n",
       "    <tr>\n",
       "      <th>POST</th>\n",
       "      <th>POSTAGE</th>\n",
       "      <td>1100</td>\n",
       "    </tr>\n",
       "  </tbody>\n",
       "</table>\n",
       "</div>"
      ],
      "text/plain": [
       "                                         StockCode\n",
       "StockCode    Description                          \n",
       "BANK CHARGES Bank Charges                       12\n",
       "C2           CARRIAGE                          133\n",
       "DOT          DOTCOM POSTAGE                     16\n",
       "M            Manual                            290\n",
       "PADS         PADS TO MATCH ALL CUSHIONS          4\n",
       "POST         POSTAGE                          1100"
      ]
     },
     "execution_count": 20,
     "metadata": {},
     "output_type": "execute_result"
    }
   ],
   "source": [
    "# Stock Codes with non-numeric codes\n",
    "df['StockCode'] = df['StockCode'].astype(str)\n",
    "notnum = df[df['StockCode'].str.match(r'^\\D')]\n",
    "notnum['StockCode'].value_counts()\n",
    "notnum.groupby(['StockCode', 'Description']).agg({'StockCode': 'count'})"
   ]
  },
  {
   "cell_type": "markdown",
   "metadata": {},
   "source": [
    "Inspect the other values of the non-conforming stock codes for inconsitencies or irregularities"
   ]
  },
  {
   "cell_type": "code",
   "execution_count": 21,
   "metadata": {},
   "outputs": [
    {
     "data": {
      "text/html": [
       "<div>\n",
       "<style scoped>\n",
       "    .dataframe tbody tr th:only-of-type {\n",
       "        vertical-align: middle;\n",
       "    }\n",
       "\n",
       "    .dataframe tbody tr th {\n",
       "        vertical-align: top;\n",
       "    }\n",
       "\n",
       "    .dataframe thead th {\n",
       "        text-align: right;\n",
       "    }\n",
       "</style>\n",
       "<table border=\"1\" class=\"dataframe\">\n",
       "  <thead>\n",
       "    <tr style=\"text-align: right;\">\n",
       "      <th></th>\n",
       "      <th></th>\n",
       "      <th>StockCode</th>\n",
       "    </tr>\n",
       "    <tr>\n",
       "      <th>StockCode</th>\n",
       "      <th>Description</th>\n",
       "      <th></th>\n",
       "    </tr>\n",
       "  </thead>\n",
       "  <tbody>\n",
       "    <tr>\n",
       "      <th>10123C</th>\n",
       "      <th>HEARTS WRAPPING TAPE</th>\n",
       "      <td>3</td>\n",
       "    </tr>\n",
       "    <tr>\n",
       "      <th>10124A</th>\n",
       "      <th>SPOTS ON RED BOOKCOVER TAPE</th>\n",
       "      <td>5</td>\n",
       "    </tr>\n",
       "    <tr>\n",
       "      <th>10124G</th>\n",
       "      <th>ARMY CAMO BOOKCOVER TAPE</th>\n",
       "      <td>4</td>\n",
       "    </tr>\n",
       "    <tr>\n",
       "      <th>15044A</th>\n",
       "      <th>PINK PAPER PARASOL</th>\n",
       "      <td>79</td>\n",
       "    </tr>\n",
       "    <tr>\n",
       "      <th>15044B</th>\n",
       "      <th>BLUE PAPER PARASOL</th>\n",
       "      <td>48</td>\n",
       "    </tr>\n",
       "    <tr>\n",
       "      <th>...</th>\n",
       "      <th>...</th>\n",
       "      <td>...</td>\n",
       "    </tr>\n",
       "    <tr>\n",
       "      <th>90214U</th>\n",
       "      <th>LETTER \"U\" BLING KEY RING</th>\n",
       "      <td>1</td>\n",
       "    </tr>\n",
       "    <tr>\n",
       "      <th>90214V</th>\n",
       "      <th>LETTER \"V\" BLING KEY RING</th>\n",
       "      <td>3</td>\n",
       "    </tr>\n",
       "    <tr>\n",
       "      <th>90214W</th>\n",
       "      <th>LETTER \"W\" BLING KEY RING</th>\n",
       "      <td>1</td>\n",
       "    </tr>\n",
       "    <tr>\n",
       "      <th>90214Y</th>\n",
       "      <th>LETTER \"Y\" BLING KEY RING</th>\n",
       "      <td>3</td>\n",
       "    </tr>\n",
       "    <tr>\n",
       "      <th>90214Z</th>\n",
       "      <th>LETTER \"Z\" BLING KEY RING</th>\n",
       "      <td>1</td>\n",
       "    </tr>\n",
       "  </tbody>\n",
       "</table>\n",
       "<p>895 rows × 1 columns</p>\n",
       "</div>"
      ],
      "text/plain": [
       "                                       StockCode\n",
       "StockCode Description                           \n",
       "10123C    HEARTS WRAPPING TAPE                 3\n",
       "10124A    SPOTS ON RED BOOKCOVER TAPE          5\n",
       "10124G    ARMY CAMO BOOKCOVER TAPE             4\n",
       "15044A    PINK PAPER PARASOL                  79\n",
       "15044B    BLUE PAPER PARASOL                  48\n",
       "...                                          ...\n",
       "90214U    LETTER \"U\" BLING KEY RING            1\n",
       "90214V    LETTER \"V\" BLING KEY RING            3\n",
       "90214W    LETTER \"W\" BLING KEY RING            1\n",
       "90214Y    LETTER \"Y\" BLING KEY RING            3\n",
       "90214Z    LETTER \"Z\" BLING KEY RING            1\n",
       "\n",
       "[895 rows x 1 columns]"
      ]
     },
     "execution_count": 21,
     "metadata": {},
     "output_type": "execute_result"
    }
   ],
   "source": [
    "# Stock Codes with numeric codes followed by characters\n",
    "alphanum = df[df['StockCode'].str.match(r'\\d{5}\\D')]\n",
    "alphanum.groupby(['StockCode', 'Description']).agg({'StockCode': 'count'})"
   ]
  },
  {
   "cell_type": "markdown",
   "metadata": {},
   "source": [
    "Analyze both non-numeric and alphanumeric dataframes of stock codes"
   ]
  },
  {
   "cell_type": "code",
   "execution_count": 22,
   "metadata": {},
   "outputs": [
    {
     "name": "stdout",
     "output_type": "stream",
     "text": [
      "Stock Codes with Letters only: 1555\n",
      "Stock Codes with Alphanumeric characters: 33251\n"
     ]
    },
    {
     "data": {
      "text/html": [
       "<div>\n",
       "<style scoped>\n",
       "    .dataframe tbody tr th:only-of-type {\n",
       "        vertical-align: middle;\n",
       "    }\n",
       "\n",
       "    .dataframe tbody tr th {\n",
       "        vertical-align: top;\n",
       "    }\n",
       "\n",
       "    .dataframe thead th {\n",
       "        text-align: right;\n",
       "    }\n",
       "</style>\n",
       "<table border=\"1\" class=\"dataframe\">\n",
       "  <thead>\n",
       "    <tr style=\"text-align: right;\">\n",
       "      <th></th>\n",
       "      <th>Invoice</th>\n",
       "      <th>StockCode</th>\n",
       "      <th>Description</th>\n",
       "      <th>Quantity</th>\n",
       "      <th>InvoiceDate</th>\n",
       "      <th>Price</th>\n",
       "      <th>CustomerID</th>\n",
       "      <th>Country</th>\n",
       "    </tr>\n",
       "  </thead>\n",
       "  <tbody>\n",
       "    <tr>\n",
       "      <th>45</th>\n",
       "      <td>536370</td>\n",
       "      <td>POST</td>\n",
       "      <td>POSTAGE</td>\n",
       "      <td>3</td>\n",
       "      <td>2010-12-01 08:45:00</td>\n",
       "      <td>18.00</td>\n",
       "      <td>12583</td>\n",
       "      <td>France</td>\n",
       "    </tr>\n",
       "    <tr>\n",
       "      <th>386</th>\n",
       "      <td>536403</td>\n",
       "      <td>POST</td>\n",
       "      <td>POSTAGE</td>\n",
       "      <td>1</td>\n",
       "      <td>2010-12-01 11:27:00</td>\n",
       "      <td>15.00</td>\n",
       "      <td>12791</td>\n",
       "      <td>Netherlands</td>\n",
       "    </tr>\n",
       "    <tr>\n",
       "      <th>1123</th>\n",
       "      <td>536527</td>\n",
       "      <td>POST</td>\n",
       "      <td>POSTAGE</td>\n",
       "      <td>1</td>\n",
       "      <td>2010-12-01 13:04:00</td>\n",
       "      <td>18.00</td>\n",
       "      <td>12662</td>\n",
       "      <td>Germany</td>\n",
       "    </tr>\n",
       "    <tr>\n",
       "      <th>1423</th>\n",
       "      <td>536540</td>\n",
       "      <td>C2</td>\n",
       "      <td>CARRIAGE</td>\n",
       "      <td>1</td>\n",
       "      <td>2010-12-01 14:05:00</td>\n",
       "      <td>50.00</td>\n",
       "      <td>14911</td>\n",
       "      <td>EIRE</td>\n",
       "    </tr>\n",
       "    <tr>\n",
       "      <th>2239</th>\n",
       "      <td>536569</td>\n",
       "      <td>M</td>\n",
       "      <td>Manual</td>\n",
       "      <td>1</td>\n",
       "      <td>2010-12-01 15:35:00</td>\n",
       "      <td>1.25</td>\n",
       "      <td>16274</td>\n",
       "      <td>United Kingdom</td>\n",
       "    </tr>\n",
       "    <tr>\n",
       "      <th>...</th>\n",
       "      <td>...</td>\n",
       "      <td>...</td>\n",
       "      <td>...</td>\n",
       "      <td>...</td>\n",
       "      <td>...</td>\n",
       "      <td>...</td>\n",
       "      <td>...</td>\n",
       "      <td>...</td>\n",
       "    </tr>\n",
       "    <tr>\n",
       "      <th>541778</th>\n",
       "      <td>581578</td>\n",
       "      <td>84997C</td>\n",
       "      <td>CHILDRENS CUTLERY POLKADOT BLUE</td>\n",
       "      <td>8</td>\n",
       "      <td>2011-12-09 12:16:00</td>\n",
       "      <td>4.15</td>\n",
       "      <td>12713</td>\n",
       "      <td>Germany</td>\n",
       "    </tr>\n",
       "    <tr>\n",
       "      <th>541809</th>\n",
       "      <td>581579</td>\n",
       "      <td>85099C</td>\n",
       "      <td>JUMBO  BAG BAROQUE BLACK WHITE</td>\n",
       "      <td>10</td>\n",
       "      <td>2011-12-09 12:19:00</td>\n",
       "      <td>1.79</td>\n",
       "      <td>17581</td>\n",
       "      <td>United Kingdom</td>\n",
       "    </tr>\n",
       "    <tr>\n",
       "      <th>541841</th>\n",
       "      <td>581580</td>\n",
       "      <td>84993A</td>\n",
       "      <td>75 GREEN PETIT FOUR CASES</td>\n",
       "      <td>2</td>\n",
       "      <td>2011-12-09 12:20:00</td>\n",
       "      <td>0.42</td>\n",
       "      <td>12748</td>\n",
       "      <td>United Kingdom</td>\n",
       "    </tr>\n",
       "    <tr>\n",
       "      <th>541847</th>\n",
       "      <td>581580</td>\n",
       "      <td>85049A</td>\n",
       "      <td>TRADITIONAL CHRISTMAS RIBBONS</td>\n",
       "      <td>1</td>\n",
       "      <td>2011-12-09 12:20:00</td>\n",
       "      <td>1.25</td>\n",
       "      <td>12748</td>\n",
       "      <td>United Kingdom</td>\n",
       "    </tr>\n",
       "    <tr>\n",
       "      <th>541856</th>\n",
       "      <td>581580</td>\n",
       "      <td>85049E</td>\n",
       "      <td>SCANDINAVIAN REDS RIBBONS</td>\n",
       "      <td>2</td>\n",
       "      <td>2011-12-09 12:20:00</td>\n",
       "      <td>1.25</td>\n",
       "      <td>12748</td>\n",
       "      <td>United Kingdom</td>\n",
       "    </tr>\n",
       "  </tbody>\n",
       "</table>\n",
       "<p>34806 rows × 8 columns</p>\n",
       "</div>"
      ],
      "text/plain": [
       "       Invoice StockCode                      Description  Quantity  \\\n",
       "45      536370      POST                          POSTAGE         3   \n",
       "386     536403      POST                          POSTAGE         1   \n",
       "1123    536527      POST                          POSTAGE         1   \n",
       "1423    536540        C2                         CARRIAGE         1   \n",
       "2239    536569         M                           Manual         1   \n",
       "...        ...       ...                              ...       ...   \n",
       "541778  581578    84997C  CHILDRENS CUTLERY POLKADOT BLUE         8   \n",
       "541809  581579    85099C   JUMBO  BAG BAROQUE BLACK WHITE        10   \n",
       "541841  581580    84993A        75 GREEN PETIT FOUR CASES         2   \n",
       "541847  581580    85049A    TRADITIONAL CHRISTMAS RIBBONS         1   \n",
       "541856  581580    85049E        SCANDINAVIAN REDS RIBBONS         2   \n",
       "\n",
       "               InvoiceDate  Price  CustomerID         Country  \n",
       "45     2010-12-01 08:45:00  18.00       12583          France  \n",
       "386    2010-12-01 11:27:00  15.00       12791     Netherlands  \n",
       "1123   2010-12-01 13:04:00  18.00       12662         Germany  \n",
       "1423   2010-12-01 14:05:00  50.00       14911            EIRE  \n",
       "2239   2010-12-01 15:35:00   1.25       16274  United Kingdom  \n",
       "...                    ...    ...         ...             ...  \n",
       "541778 2011-12-09 12:16:00   4.15       12713         Germany  \n",
       "541809 2011-12-09 12:19:00   1.79       17581  United Kingdom  \n",
       "541841 2011-12-09 12:20:00   0.42       12748  United Kingdom  \n",
       "541847 2011-12-09 12:20:00   1.25       12748  United Kingdom  \n",
       "541856 2011-12-09 12:20:00   1.25       12748  United Kingdom  \n",
       "\n",
       "[34806 rows x 8 columns]"
      ]
     },
     "execution_count": 22,
     "metadata": {},
     "output_type": "execute_result"
    }
   ],
   "source": [
    "print(f'Stock Codes with Letters only: {len(notnum)}')\n",
    "print(f'Stock Codes with Alphanumeric characters: {len(alphanum)}')\n",
    "\n",
    "# Store stock codes that non-conforming to the format. \n",
    "nonconf = pd.concat([notnum, alphanum])\n",
    "nonconf"
   ]
  },
  {
   "cell_type": "markdown",
   "metadata": {},
   "source": [
    "Inspect the quantities with negative values in the new df, as they should be dropped."
   ]
  },
  {
   "cell_type": "code",
   "execution_count": 23,
   "metadata": {},
   "outputs": [
    {
     "data": {
      "text/plain": [
       "0"
      ]
     },
     "execution_count": 23,
     "metadata": {},
     "output_type": "execute_result"
    }
   ],
   "source": [
    "nonconf.loc[df['Quantity'] < 0].shape[0]"
   ]
  },
  {
   "cell_type": "markdown",
   "metadata": {},
   "source": [
    "For this analysis, it is assumed that all the non-conforming stock codes are *valid transactions* done manually or automatically but outside the order placement process.\\\n",
    "This is because other columns for the non-conforming stock codes have *no inconsistent values*."
   ]
  },
  {
   "cell_type": "markdown",
   "metadata": {},
   "source": [
    "**Inspect/Resolve Invoice Date column**"
   ]
  },
  {
   "cell_type": "code",
   "execution_count": 24,
   "metadata": {},
   "outputs": [
    {
     "data": {
      "text/html": [
       "<div>\n",
       "<style scoped>\n",
       "    .dataframe tbody tr th:only-of-type {\n",
       "        vertical-align: middle;\n",
       "    }\n",
       "\n",
       "    .dataframe tbody tr th {\n",
       "        vertical-align: top;\n",
       "    }\n",
       "\n",
       "    .dataframe thead th {\n",
       "        text-align: right;\n",
       "    }\n",
       "</style>\n",
       "<table border=\"1\" class=\"dataframe\">\n",
       "  <thead>\n",
       "    <tr style=\"text-align: right;\">\n",
       "      <th></th>\n",
       "      <th>Invoice</th>\n",
       "      <th>StockCode</th>\n",
       "      <th>Description</th>\n",
       "      <th>Quantity</th>\n",
       "      <th>InvoiceDate</th>\n",
       "      <th>Price</th>\n",
       "      <th>CustomerID</th>\n",
       "      <th>Country</th>\n",
       "      <th>Month</th>\n",
       "    </tr>\n",
       "  </thead>\n",
       "  <tbody>\n",
       "    <tr>\n",
       "      <th>0</th>\n",
       "      <td>536365</td>\n",
       "      <td>85123A</td>\n",
       "      <td>WHITE HANGING HEART T-LIGHT HOLDER</td>\n",
       "      <td>6</td>\n",
       "      <td>2010-12-01 08:26:00</td>\n",
       "      <td>2.55</td>\n",
       "      <td>17850</td>\n",
       "      <td>United Kingdom</td>\n",
       "      <td>12</td>\n",
       "    </tr>\n",
       "    <tr>\n",
       "      <th>1</th>\n",
       "      <td>536365</td>\n",
       "      <td>71053</td>\n",
       "      <td>WHITE METAL LANTERN</td>\n",
       "      <td>6</td>\n",
       "      <td>2010-12-01 08:26:00</td>\n",
       "      <td>3.39</td>\n",
       "      <td>17850</td>\n",
       "      <td>United Kingdom</td>\n",
       "      <td>12</td>\n",
       "    </tr>\n",
       "    <tr>\n",
       "      <th>2</th>\n",
       "      <td>536365</td>\n",
       "      <td>84406B</td>\n",
       "      <td>CREAM CUPID HEARTS COAT HANGER</td>\n",
       "      <td>8</td>\n",
       "      <td>2010-12-01 08:26:00</td>\n",
       "      <td>2.75</td>\n",
       "      <td>17850</td>\n",
       "      <td>United Kingdom</td>\n",
       "      <td>12</td>\n",
       "    </tr>\n",
       "    <tr>\n",
       "      <th>3</th>\n",
       "      <td>536365</td>\n",
       "      <td>84029G</td>\n",
       "      <td>KNITTED UNION FLAG HOT WATER BOTTLE</td>\n",
       "      <td>6</td>\n",
       "      <td>2010-12-01 08:26:00</td>\n",
       "      <td>3.39</td>\n",
       "      <td>17850</td>\n",
       "      <td>United Kingdom</td>\n",
       "      <td>12</td>\n",
       "    </tr>\n",
       "    <tr>\n",
       "      <th>4</th>\n",
       "      <td>536365</td>\n",
       "      <td>84029E</td>\n",
       "      <td>RED WOOLLY HOTTIE WHITE HEART.</td>\n",
       "      <td>6</td>\n",
       "      <td>2010-12-01 08:26:00</td>\n",
       "      <td>3.39</td>\n",
       "      <td>17850</td>\n",
       "      <td>United Kingdom</td>\n",
       "      <td>12</td>\n",
       "    </tr>\n",
       "  </tbody>\n",
       "</table>\n",
       "</div>"
      ],
      "text/plain": [
       "  Invoice StockCode                          Description  Quantity  \\\n",
       "0  536365    85123A   WHITE HANGING HEART T-LIGHT HOLDER         6   \n",
       "1  536365     71053                  WHITE METAL LANTERN         6   \n",
       "2  536365    84406B       CREAM CUPID HEARTS COAT HANGER         8   \n",
       "3  536365    84029G  KNITTED UNION FLAG HOT WATER BOTTLE         6   \n",
       "4  536365    84029E       RED WOOLLY HOTTIE WHITE HEART.         6   \n",
       "\n",
       "          InvoiceDate  Price  CustomerID         Country  Month  \n",
       "0 2010-12-01 08:26:00   2.55       17850  United Kingdom     12  \n",
       "1 2010-12-01 08:26:00   3.39       17850  United Kingdom     12  \n",
       "2 2010-12-01 08:26:00   2.75       17850  United Kingdom     12  \n",
       "3 2010-12-01 08:26:00   3.39       17850  United Kingdom     12  \n",
       "4 2010-12-01 08:26:00   3.39       17850  United Kingdom     12  "
      ]
     },
     "execution_count": 24,
     "metadata": {},
     "output_type": "execute_result"
    }
   ],
   "source": [
    "#  Create a new month column (for later use)\n",
    "df['Month'] = df['InvoiceDate'].dt.month\n",
    "df.head()"
   ]
  },
  {
   "cell_type": "markdown",
   "metadata": {},
   "source": [
    "**Inspect number of months and count of monthly transactions**"
   ]
  },
  {
   "cell_type": "code",
   "execution_count": 25,
   "metadata": {},
   "outputs": [
    {
     "data": {
      "text/plain": [
       "Month\n",
       "1     21232\n",
       "2     19928\n",
       "3     27177\n",
       "4     22644\n",
       "5     28322\n",
       "6     27185\n",
       "7     26827\n",
       "8     27013\n",
       "9     40030\n",
       "10    49557\n",
       "11    64545\n",
       "12    43465\n",
       "Name: count, dtype: int64"
      ]
     },
     "execution_count": 25,
     "metadata": {},
     "output_type": "execute_result"
    }
   ],
   "source": [
    "# Check month values for consistencies and count, as well.\n",
    "df['Month'].value_counts().sort_index()"
   ]
  },
  {
   "cell_type": "markdown",
   "metadata": {},
   "source": [
    "**Inspect/Resolve Duplicate records**"
   ]
  },
  {
   "cell_type": "code",
   "execution_count": 26,
   "metadata": {},
   "outputs": [
    {
     "name": "stdout",
     "output_type": "stream",
     "text": [
      "Duplicates rows detected?: True\n",
      "No. of duplicates to be dropped  5192\n"
     ]
    }
   ],
   "source": [
    "print('Duplicates rows detected?:', df.duplicated().any())\n",
    "print('No. of duplicates to be dropped ', len(df[df.duplicated()]))\n",
    "rec_init = len(df)\n",
    "\n",
    "# Drop duplicate records\n",
    "df = df.drop_duplicates()\n",
    "df\n",
    "\n",
    "log_changes(-(rec_init-len(df)), 'Duplicate records dropped')"
   ]
  },
  {
   "cell_type": "code",
   "execution_count": 27,
   "metadata": {},
   "outputs": [
    {
     "data": {
      "text/plain": [
       "(392733, 9)"
      ]
     },
     "execution_count": 27,
     "metadata": {},
     "output_type": "execute_result"
    }
   ],
   "source": [
    "# Display shape of new df after all changes prior to EDA\n",
    "df.shape"
   ]
  },
  {
   "cell_type": "markdown",
   "metadata": {},
   "source": [
    "# 3. EXPLORATORY DATA ANALYSIS"
   ]
  },
  {
   "cell_type": "markdown",
   "metadata": {},
   "source": [
    "## 3.1 Import Additional libraries for EDA"
   ]
  },
  {
   "cell_type": "code",
   "execution_count": 28,
   "metadata": {},
   "outputs": [],
   "source": [
    "import matplotlib.pyplot as plt\n",
    "import seaborn as sns \n",
    "import calendar as cal"
   ]
  },
  {
   "cell_type": "markdown",
   "metadata": {},
   "source": [
    "## 3.2 Explore Data"
   ]
  },
  {
   "cell_type": "code",
   "execution_count": 29,
   "metadata": {},
   "outputs": [
    {
     "data": {
      "text/html": [
       "<div>\n",
       "<style scoped>\n",
       "    .dataframe tbody tr th:only-of-type {\n",
       "        vertical-align: middle;\n",
       "    }\n",
       "\n",
       "    .dataframe tbody tr th {\n",
       "        vertical-align: top;\n",
       "    }\n",
       "\n",
       "    .dataframe thead th {\n",
       "        text-align: right;\n",
       "    }\n",
       "</style>\n",
       "<table border=\"1\" class=\"dataframe\">\n",
       "  <thead>\n",
       "    <tr style=\"text-align: right;\">\n",
       "      <th></th>\n",
       "      <th>Invoice</th>\n",
       "      <th>StockCode</th>\n",
       "      <th>Description</th>\n",
       "      <th>Quantity</th>\n",
       "      <th>InvoiceDate</th>\n",
       "      <th>Price</th>\n",
       "      <th>CustomerID</th>\n",
       "      <th>Country</th>\n",
       "      <th>Month</th>\n",
       "    </tr>\n",
       "  </thead>\n",
       "  <tbody>\n",
       "    <tr>\n",
       "      <th>0</th>\n",
       "      <td>536365</td>\n",
       "      <td>85123A</td>\n",
       "      <td>WHITE HANGING HEART T-LIGHT HOLDER</td>\n",
       "      <td>6</td>\n",
       "      <td>2010-12-01 08:26:00</td>\n",
       "      <td>2.55</td>\n",
       "      <td>17850</td>\n",
       "      <td>United Kingdom</td>\n",
       "      <td>12</td>\n",
       "    </tr>\n",
       "    <tr>\n",
       "      <th>1</th>\n",
       "      <td>536365</td>\n",
       "      <td>71053</td>\n",
       "      <td>WHITE METAL LANTERN</td>\n",
       "      <td>6</td>\n",
       "      <td>2010-12-01 08:26:00</td>\n",
       "      <td>3.39</td>\n",
       "      <td>17850</td>\n",
       "      <td>United Kingdom</td>\n",
       "      <td>12</td>\n",
       "    </tr>\n",
       "    <tr>\n",
       "      <th>2</th>\n",
       "      <td>536365</td>\n",
       "      <td>84406B</td>\n",
       "      <td>CREAM CUPID HEARTS COAT HANGER</td>\n",
       "      <td>8</td>\n",
       "      <td>2010-12-01 08:26:00</td>\n",
       "      <td>2.75</td>\n",
       "      <td>17850</td>\n",
       "      <td>United Kingdom</td>\n",
       "      <td>12</td>\n",
       "    </tr>\n",
       "    <tr>\n",
       "      <th>3</th>\n",
       "      <td>536365</td>\n",
       "      <td>84029G</td>\n",
       "      <td>KNITTED UNION FLAG HOT WATER BOTTLE</td>\n",
       "      <td>6</td>\n",
       "      <td>2010-12-01 08:26:00</td>\n",
       "      <td>3.39</td>\n",
       "      <td>17850</td>\n",
       "      <td>United Kingdom</td>\n",
       "      <td>12</td>\n",
       "    </tr>\n",
       "    <tr>\n",
       "      <th>4</th>\n",
       "      <td>536365</td>\n",
       "      <td>84029E</td>\n",
       "      <td>RED WOOLLY HOTTIE WHITE HEART.</td>\n",
       "      <td>6</td>\n",
       "      <td>2010-12-01 08:26:00</td>\n",
       "      <td>3.39</td>\n",
       "      <td>17850</td>\n",
       "      <td>United Kingdom</td>\n",
       "      <td>12</td>\n",
       "    </tr>\n",
       "  </tbody>\n",
       "</table>\n",
       "</div>"
      ],
      "text/plain": [
       "  Invoice StockCode                          Description  Quantity  \\\n",
       "0  536365    85123A   WHITE HANGING HEART T-LIGHT HOLDER         6   \n",
       "1  536365     71053                  WHITE METAL LANTERN         6   \n",
       "2  536365    84406B       CREAM CUPID HEARTS COAT HANGER         8   \n",
       "3  536365    84029G  KNITTED UNION FLAG HOT WATER BOTTLE         6   \n",
       "4  536365    84029E       RED WOOLLY HOTTIE WHITE HEART.         6   \n",
       "\n",
       "          InvoiceDate  Price  CustomerID         Country  Month  \n",
       "0 2010-12-01 08:26:00   2.55       17850  United Kingdom     12  \n",
       "1 2010-12-01 08:26:00   3.39       17850  United Kingdom     12  \n",
       "2 2010-12-01 08:26:00   2.75       17850  United Kingdom     12  \n",
       "3 2010-12-01 08:26:00   3.39       17850  United Kingdom     12  \n",
       "4 2010-12-01 08:26:00   3.39       17850  United Kingdom     12  "
      ]
     },
     "execution_count": 29,
     "metadata": {},
     "output_type": "execute_result"
    }
   ],
   "source": [
    "df.head()"
   ]
  },
  {
   "cell_type": "code",
   "execution_count": 30,
   "metadata": {},
   "outputs": [
    {
     "name": "stdout",
     "output_type": "stream",
     "text": [
      "<class 'pandas.core.frame.DataFrame'>\n",
      "Index: 392733 entries, 0 to 541909\n",
      "Data columns (total 9 columns):\n",
      " #   Column       Non-Null Count   Dtype         \n",
      "---  ------       --------------   -----         \n",
      " 0   Invoice      392733 non-null  object        \n",
      " 1   StockCode    392733 non-null  object        \n",
      " 2   Description  392733 non-null  object        \n",
      " 3   Quantity     392733 non-null  int64         \n",
      " 4   InvoiceDate  392733 non-null  datetime64[ns]\n",
      " 5   Price        392733 non-null  float64       \n",
      " 6   CustomerID   392733 non-null  int64         \n",
      " 7   Country      392733 non-null  object        \n",
      " 8   Month        392733 non-null  int32         \n",
      "dtypes: datetime64[ns](1), float64(1), int32(1), int64(2), object(4)\n",
      "memory usage: 28.5+ MB\n"
     ]
    }
   ],
   "source": [
    "df.info()"
   ]
  },
  {
   "cell_type": "markdown",
   "metadata": {},
   "source": [
    "**Dealing with Price**"
   ]
  },
  {
   "cell_type": "code",
   "execution_count": 31,
   "metadata": {},
   "outputs": [
    {
     "data": {
      "text/html": [
       "<div>\n",
       "<style scoped>\n",
       "    .dataframe tbody tr th:only-of-type {\n",
       "        vertical-align: middle;\n",
       "    }\n",
       "\n",
       "    .dataframe tbody tr th {\n",
       "        vertical-align: top;\n",
       "    }\n",
       "\n",
       "    .dataframe thead th {\n",
       "        text-align: right;\n",
       "    }\n",
       "</style>\n",
       "<table border=\"1\" class=\"dataframe\">\n",
       "  <thead>\n",
       "    <tr style=\"text-align: right;\">\n",
       "      <th></th>\n",
       "      <th>Quantity</th>\n",
       "      <th>InvoiceDate</th>\n",
       "      <th>Price</th>\n",
       "      <th>CustomerID</th>\n",
       "      <th>Month</th>\n",
       "    </tr>\n",
       "  </thead>\n",
       "  <tbody>\n",
       "    <tr>\n",
       "      <th>count</th>\n",
       "      <td>392733.000000</td>\n",
       "      <td>392733</td>\n",
       "      <td>392733.000000</td>\n",
       "      <td>392733.000000</td>\n",
       "      <td>392733.000000</td>\n",
       "    </tr>\n",
       "    <tr>\n",
       "      <th>mean</th>\n",
       "      <td>13.153687</td>\n",
       "      <td>2011-07-10 19:15:57.956932608</td>\n",
       "      <td>3.125633</td>\n",
       "      <td>15287.728182</td>\n",
       "      <td>7.601946</td>\n",
       "    </tr>\n",
       "    <tr>\n",
       "      <th>min</th>\n",
       "      <td>1.000000</td>\n",
       "      <td>2010-12-01 08:26:00</td>\n",
       "      <td>0.000000</td>\n",
       "      <td>12346.000000</td>\n",
       "      <td>1.000000</td>\n",
       "    </tr>\n",
       "    <tr>\n",
       "      <th>25%</th>\n",
       "      <td>2.000000</td>\n",
       "      <td>2011-04-07 11:12:00</td>\n",
       "      <td>1.250000</td>\n",
       "      <td>13955.000000</td>\n",
       "      <td>5.000000</td>\n",
       "    </tr>\n",
       "    <tr>\n",
       "      <th>50%</th>\n",
       "      <td>6.000000</td>\n",
       "      <td>2011-07-31 12:02:00</td>\n",
       "      <td>1.950000</td>\n",
       "      <td>15150.000000</td>\n",
       "      <td>8.000000</td>\n",
       "    </tr>\n",
       "    <tr>\n",
       "      <th>75%</th>\n",
       "      <td>12.000000</td>\n",
       "      <td>2011-10-20 12:53:00</td>\n",
       "      <td>3.750000</td>\n",
       "      <td>16791.000000</td>\n",
       "      <td>11.000000</td>\n",
       "    </tr>\n",
       "    <tr>\n",
       "      <th>max</th>\n",
       "      <td>80995.000000</td>\n",
       "      <td>2011-12-09 12:50:00</td>\n",
       "      <td>8142.750000</td>\n",
       "      <td>18287.000000</td>\n",
       "      <td>12.000000</td>\n",
       "    </tr>\n",
       "    <tr>\n",
       "      <th>std</th>\n",
       "      <td>181.588189</td>\n",
       "      <td>NaN</td>\n",
       "      <td>22.240710</td>\n",
       "      <td>1713.570644</td>\n",
       "      <td>3.415026</td>\n",
       "    </tr>\n",
       "  </tbody>\n",
       "</table>\n",
       "</div>"
      ],
      "text/plain": [
       "            Quantity                    InvoiceDate          Price  \\\n",
       "count  392733.000000                         392733  392733.000000   \n",
       "mean       13.153687  2011-07-10 19:15:57.956932608       3.125633   \n",
       "min         1.000000            2010-12-01 08:26:00       0.000000   \n",
       "25%         2.000000            2011-04-07 11:12:00       1.250000   \n",
       "50%         6.000000            2011-07-31 12:02:00       1.950000   \n",
       "75%        12.000000            2011-10-20 12:53:00       3.750000   \n",
       "max     80995.000000            2011-12-09 12:50:00    8142.750000   \n",
       "std       181.588189                            NaN      22.240710   \n",
       "\n",
       "          CustomerID          Month  \n",
       "count  392733.000000  392733.000000  \n",
       "mean    15287.728182       7.601946  \n",
       "min     12346.000000       1.000000  \n",
       "25%     13955.000000       5.000000  \n",
       "50%     15150.000000       8.000000  \n",
       "75%     16791.000000      11.000000  \n",
       "max     18287.000000      12.000000  \n",
       "std      1713.570644       3.415026  "
      ]
     },
     "execution_count": 31,
     "metadata": {},
     "output_type": "execute_result"
    }
   ],
   "source": [
    "df.describe()"
   ]
  },
  {
   "cell_type": "markdown",
   "metadata": {},
   "source": [
    "Minimum in price is 0.\\\n",
    "Remove the rows from the dataset as it will impact the monetary component in the analysis."
   ]
  },
  {
   "cell_type": "code",
   "execution_count": 32,
   "metadata": {},
   "outputs": [
    {
     "name": "stdout",
     "output_type": "stream",
     "text": [
      "0 price in the dataset after changes:  0\n"
     ]
    },
    {
     "data": {
      "text/plain": [
       "count    392693.000000\n",
       "mean          3.125952\n",
       "std          22.241820\n",
       "min           0.001000\n",
       "25%           1.250000\n",
       "50%           1.950000\n",
       "75%           3.750000\n",
       "max        8142.750000\n",
       "Name: Price, dtype: float64"
      ]
     },
     "execution_count": 32,
     "metadata": {},
     "output_type": "execute_result"
    }
   ],
   "source": [
    "df = df.query('Price > 0')\n",
    "\n",
    "print('0 price in the dataset after changes: ',  np.sum(df.Price <= 0))\n",
    "\n",
    "df['Price'].describe()"
   ]
  },
  {
   "cell_type": "markdown",
   "metadata": {},
   "source": [
    "**Inspect Invoice Date**"
   ]
  },
  {
   "cell_type": "markdown",
   "metadata": {},
   "source": [
    "Transform Date Column Type and check range."
   ]
  },
  {
   "cell_type": "code",
   "execution_count": 33,
   "metadata": {},
   "outputs": [
    {
     "name": "stdout",
     "output_type": "stream",
     "text": [
      "2010-12-01 :: 2011-12-09\n"
     ]
    }
   ],
   "source": [
    "df['InvoiceDate'] = pd.to_datetime(df['InvoiceDate']).dt.date\n",
    "df['InvoiceDate'] = pd.to_datetime(df['InvoiceDate']).dt.normalize()\n",
    "\n",
    "print(min(df['InvoiceDate'].dt.date), '::', max(df['InvoiceDate'].dt.date))"
   ]
  },
  {
   "cell_type": "markdown",
   "metadata": {},
   "source": [
    "Filter dataset to only include dates later than 2011-01-01"
   ]
  },
  {
   "cell_type": "code",
   "execution_count": 34,
   "metadata": {},
   "outputs": [],
   "source": [
    "df  = df[df['InvoiceDate'] >= '2011-01-01']\n",
    "\n",
    "log_changes(df.shape[0], 'Records under 2011 timeframe')"
   ]
  },
  {
   "cell_type": "markdown",
   "metadata": {},
   "source": [
    "**Create column - Sales**"
   ]
  },
  {
   "cell_type": "code",
   "execution_count": 35,
   "metadata": {},
   "outputs": [
    {
     "data": {
      "text/html": [
       "<div>\n",
       "<style scoped>\n",
       "    .dataframe tbody tr th:only-of-type {\n",
       "        vertical-align: middle;\n",
       "    }\n",
       "\n",
       "    .dataframe tbody tr th {\n",
       "        vertical-align: top;\n",
       "    }\n",
       "\n",
       "    .dataframe thead th {\n",
       "        text-align: right;\n",
       "    }\n",
       "</style>\n",
       "<table border=\"1\" class=\"dataframe\">\n",
       "  <thead>\n",
       "    <tr style=\"text-align: right;\">\n",
       "      <th></th>\n",
       "      <th>Invoice</th>\n",
       "      <th>StockCode</th>\n",
       "      <th>Description</th>\n",
       "      <th>Quantity</th>\n",
       "      <th>InvoiceDate</th>\n",
       "      <th>Price</th>\n",
       "      <th>CustomerID</th>\n",
       "      <th>Country</th>\n",
       "      <th>Month</th>\n",
       "      <th>Sales</th>\n",
       "    </tr>\n",
       "  </thead>\n",
       "  <tbody>\n",
       "    <tr>\n",
       "      <th>42481</th>\n",
       "      <td>539993</td>\n",
       "      <td>22386</td>\n",
       "      <td>JUMBO BAG PINK POLKADOT</td>\n",
       "      <td>10</td>\n",
       "      <td>2011-01-04</td>\n",
       "      <td>1.95</td>\n",
       "      <td>13313</td>\n",
       "      <td>United Kingdom</td>\n",
       "      <td>1</td>\n",
       "      <td>19.5</td>\n",
       "    </tr>\n",
       "    <tr>\n",
       "      <th>42482</th>\n",
       "      <td>539993</td>\n",
       "      <td>21499</td>\n",
       "      <td>BLUE POLKADOT WRAP</td>\n",
       "      <td>25</td>\n",
       "      <td>2011-01-04</td>\n",
       "      <td>0.42</td>\n",
       "      <td>13313</td>\n",
       "      <td>United Kingdom</td>\n",
       "      <td>1</td>\n",
       "      <td>10.5</td>\n",
       "    </tr>\n",
       "    <tr>\n",
       "      <th>42483</th>\n",
       "      <td>539993</td>\n",
       "      <td>21498</td>\n",
       "      <td>RED RETROSPOT WRAP</td>\n",
       "      <td>25</td>\n",
       "      <td>2011-01-04</td>\n",
       "      <td>0.42</td>\n",
       "      <td>13313</td>\n",
       "      <td>United Kingdom</td>\n",
       "      <td>1</td>\n",
       "      <td>10.5</td>\n",
       "    </tr>\n",
       "    <tr>\n",
       "      <th>42484</th>\n",
       "      <td>539993</td>\n",
       "      <td>22379</td>\n",
       "      <td>RECYCLING BAG RETROSPOT</td>\n",
       "      <td>5</td>\n",
       "      <td>2011-01-04</td>\n",
       "      <td>2.10</td>\n",
       "      <td>13313</td>\n",
       "      <td>United Kingdom</td>\n",
       "      <td>1</td>\n",
       "      <td>10.5</td>\n",
       "    </tr>\n",
       "    <tr>\n",
       "      <th>42485</th>\n",
       "      <td>539993</td>\n",
       "      <td>20718</td>\n",
       "      <td>RED RETROSPOT SHOPPER BAG</td>\n",
       "      <td>10</td>\n",
       "      <td>2011-01-04</td>\n",
       "      <td>1.25</td>\n",
       "      <td>13313</td>\n",
       "      <td>United Kingdom</td>\n",
       "      <td>1</td>\n",
       "      <td>12.5</td>\n",
       "    </tr>\n",
       "  </tbody>\n",
       "</table>\n",
       "</div>"
      ],
      "text/plain": [
       "      Invoice StockCode                Description  Quantity InvoiceDate  \\\n",
       "42481  539993     22386    JUMBO BAG PINK POLKADOT        10  2011-01-04   \n",
       "42482  539993     21499         BLUE POLKADOT WRAP        25  2011-01-04   \n",
       "42483  539993     21498        RED RETROSPOT WRAP         25  2011-01-04   \n",
       "42484  539993     22379   RECYCLING BAG RETROSPOT          5  2011-01-04   \n",
       "42485  539993     20718  RED RETROSPOT SHOPPER BAG        10  2011-01-04   \n",
       "\n",
       "       Price  CustomerID         Country  Month  Sales  \n",
       "42481   1.95       13313  United Kingdom      1   19.5  \n",
       "42482   0.42       13313  United Kingdom      1   10.5  \n",
       "42483   0.42       13313  United Kingdom      1   10.5  \n",
       "42484   2.10       13313  United Kingdom      1   10.5  \n",
       "42485   1.25       13313  United Kingdom      1   12.5  "
      ]
     },
     "execution_count": 35,
     "metadata": {},
     "output_type": "execute_result"
    }
   ],
   "source": [
    "#Create Sales column (Useful for RFM Analysis later)\n",
    "df['Sales'] = df.Quantity * df.Price\n",
    "df.head()"
   ]
  },
  {
   "cell_type": "code",
   "execution_count": 36,
   "metadata": {},
   "outputs": [
    {
     "data": {
      "text/plain": [
       "(367023, 10)"
      ]
     },
     "execution_count": 36,
     "metadata": {},
     "output_type": "execute_result"
    }
   ],
   "source": [
    "df.shape"
   ]
  },
  {
   "cell_type": "markdown",
   "metadata": {},
   "source": [
    "## 3.3 Summary Statistics"
   ]
  },
  {
   "cell_type": "code",
   "execution_count": 37,
   "metadata": {},
   "outputs": [
    {
     "data": {
      "text/html": [
       "<div>\n",
       "<style scoped>\n",
       "    .dataframe tbody tr th:only-of-type {\n",
       "        vertical-align: middle;\n",
       "    }\n",
       "\n",
       "    .dataframe tbody tr th {\n",
       "        vertical-align: top;\n",
       "    }\n",
       "\n",
       "    .dataframe thead th {\n",
       "        text-align: right;\n",
       "    }\n",
       "</style>\n",
       "<table border=\"1\" class=\"dataframe\">\n",
       "  <thead>\n",
       "    <tr style=\"text-align: right;\">\n",
       "      <th></th>\n",
       "      <th>Invoice</th>\n",
       "      <th>StockCode</th>\n",
       "      <th>Description</th>\n",
       "      <th>Quantity</th>\n",
       "      <th>InvoiceDate</th>\n",
       "      <th>Price</th>\n",
       "      <th>CustomerID</th>\n",
       "      <th>Country</th>\n",
       "      <th>Month</th>\n",
       "      <th>Sales</th>\n",
       "    </tr>\n",
       "  </thead>\n",
       "  <tbody>\n",
       "    <tr>\n",
       "      <th>count</th>\n",
       "      <td>367023</td>\n",
       "      <td>367023</td>\n",
       "      <td>367023</td>\n",
       "      <td>367023.000000</td>\n",
       "      <td>367023</td>\n",
       "      <td>367023.000000</td>\n",
       "      <td>367023.000000</td>\n",
       "      <td>367023</td>\n",
       "      <td>367023.000000</td>\n",
       "      <td>367023.000000</td>\n",
       "    </tr>\n",
       "    <tr>\n",
       "      <th>unique</th>\n",
       "      <td>17132</td>\n",
       "      <td>3596</td>\n",
       "      <td>3784</td>\n",
       "      <td>NaN</td>\n",
       "      <td>NaN</td>\n",
       "      <td>NaN</td>\n",
       "      <td>NaN</td>\n",
       "      <td>36</td>\n",
       "      <td>NaN</td>\n",
       "      <td>NaN</td>\n",
       "    </tr>\n",
       "    <tr>\n",
       "      <th>top</th>\n",
       "      <td>576339</td>\n",
       "      <td>85123A</td>\n",
       "      <td>WHITE HANGING HEART T-LIGHT HOLDER</td>\n",
       "      <td>NaN</td>\n",
       "      <td>NaN</td>\n",
       "      <td>NaN</td>\n",
       "      <td>NaN</td>\n",
       "      <td>United Kingdom</td>\n",
       "      <td>NaN</td>\n",
       "      <td>NaN</td>\n",
       "    </tr>\n",
       "    <tr>\n",
       "      <th>freq</th>\n",
       "      <td>542</td>\n",
       "      <td>1816</td>\n",
       "      <td>1809</td>\n",
       "      <td>NaN</td>\n",
       "      <td>NaN</td>\n",
       "      <td>NaN</td>\n",
       "      <td>NaN</td>\n",
       "      <td>325745</td>\n",
       "      <td>NaN</td>\n",
       "      <td>NaN</td>\n",
       "    </tr>\n",
       "    <tr>\n",
       "      <th>mean</th>\n",
       "      <td>NaN</td>\n",
       "      <td>NaN</td>\n",
       "      <td>NaN</td>\n",
       "      <td>13.189786</td>\n",
       "      <td>2011-07-25 03:02:48.816668416</td>\n",
       "      <td>3.124763</td>\n",
       "      <td>15271.672315</td>\n",
       "      <td>NaN</td>\n",
       "      <td>7.294273</td>\n",
       "      <td>22.660172</td>\n",
       "    </tr>\n",
       "    <tr>\n",
       "      <th>min</th>\n",
       "      <td>NaN</td>\n",
       "      <td>NaN</td>\n",
       "      <td>NaN</td>\n",
       "      <td>1.000000</td>\n",
       "      <td>2011-01-04 00:00:00</td>\n",
       "      <td>0.001000</td>\n",
       "      <td>12346.000000</td>\n",
       "      <td>NaN</td>\n",
       "      <td>1.000000</td>\n",
       "      <td>0.001000</td>\n",
       "    </tr>\n",
       "    <tr>\n",
       "      <th>25%</th>\n",
       "      <td>NaN</td>\n",
       "      <td>NaN</td>\n",
       "      <td>NaN</td>\n",
       "      <td>2.000000</td>\n",
       "      <td>2011-05-04 00:00:00</td>\n",
       "      <td>1.250000</td>\n",
       "      <td>13924.000000</td>\n",
       "      <td>NaN</td>\n",
       "      <td>5.000000</td>\n",
       "      <td>4.950000</td>\n",
       "    </tr>\n",
       "    <tr>\n",
       "      <th>50%</th>\n",
       "      <td>NaN</td>\n",
       "      <td>NaN</td>\n",
       "      <td>NaN</td>\n",
       "      <td>6.000000</td>\n",
       "      <td>2011-08-15 00:00:00</td>\n",
       "      <td>1.850000</td>\n",
       "      <td>15116.000000</td>\n",
       "      <td>NaN</td>\n",
       "      <td>8.000000</td>\n",
       "      <td>12.480000</td>\n",
       "    </tr>\n",
       "    <tr>\n",
       "      <th>75%</th>\n",
       "      <td>NaN</td>\n",
       "      <td>NaN</td>\n",
       "      <td>NaN</td>\n",
       "      <td>12.000000</td>\n",
       "      <td>2011-10-25 00:00:00</td>\n",
       "      <td>3.750000</td>\n",
       "      <td>16771.000000</td>\n",
       "      <td>NaN</td>\n",
       "      <td>10.000000</td>\n",
       "      <td>19.800000</td>\n",
       "    </tr>\n",
       "    <tr>\n",
       "      <th>max</th>\n",
       "      <td>NaN</td>\n",
       "      <td>NaN</td>\n",
       "      <td>NaN</td>\n",
       "      <td>80995.000000</td>\n",
       "      <td>2011-12-09 00:00:00</td>\n",
       "      <td>8142.750000</td>\n",
       "      <td>18287.000000</td>\n",
       "      <td>NaN</td>\n",
       "      <td>12.000000</td>\n",
       "      <td>168469.600000</td>\n",
       "    </tr>\n",
       "    <tr>\n",
       "      <th>std</th>\n",
       "      <td>NaN</td>\n",
       "      <td>NaN</td>\n",
       "      <td>NaN</td>\n",
       "      <td>186.294811</td>\n",
       "      <td>NaN</td>\n",
       "      <td>22.964369</td>\n",
       "      <td>1710.305357</td>\n",
       "      <td>NaN</td>\n",
       "      <td>3.321220</td>\n",
       "      <td>321.143989</td>\n",
       "    </tr>\n",
       "  </tbody>\n",
       "</table>\n",
       "</div>"
      ],
      "text/plain": [
       "       Invoice StockCode                         Description       Quantity  \\\n",
       "count   367023    367023                              367023  367023.000000   \n",
       "unique   17132      3596                                3784            NaN   \n",
       "top     576339    85123A  WHITE HANGING HEART T-LIGHT HOLDER            NaN   \n",
       "freq       542      1816                                1809            NaN   \n",
       "mean       NaN       NaN                                 NaN      13.189786   \n",
       "min        NaN       NaN                                 NaN       1.000000   \n",
       "25%        NaN       NaN                                 NaN       2.000000   \n",
       "50%        NaN       NaN                                 NaN       6.000000   \n",
       "75%        NaN       NaN                                 NaN      12.000000   \n",
       "max        NaN       NaN                                 NaN   80995.000000   \n",
       "std        NaN       NaN                                 NaN     186.294811   \n",
       "\n",
       "                          InvoiceDate          Price     CustomerID  \\\n",
       "count                          367023  367023.000000  367023.000000   \n",
       "unique                            NaN            NaN            NaN   \n",
       "top                               NaN            NaN            NaN   \n",
       "freq                              NaN            NaN            NaN   \n",
       "mean    2011-07-25 03:02:48.816668416       3.124763   15271.672315   \n",
       "min               2011-01-04 00:00:00       0.001000   12346.000000   \n",
       "25%               2011-05-04 00:00:00       1.250000   13924.000000   \n",
       "50%               2011-08-15 00:00:00       1.850000   15116.000000   \n",
       "75%               2011-10-25 00:00:00       3.750000   16771.000000   \n",
       "max               2011-12-09 00:00:00    8142.750000   18287.000000   \n",
       "std                               NaN      22.964369    1710.305357   \n",
       "\n",
       "               Country          Month          Sales  \n",
       "count           367023  367023.000000  367023.000000  \n",
       "unique              36            NaN            NaN  \n",
       "top     United Kingdom            NaN            NaN  \n",
       "freq            325745            NaN            NaN  \n",
       "mean               NaN       7.294273      22.660172  \n",
       "min                NaN       1.000000       0.001000  \n",
       "25%                NaN       5.000000       4.950000  \n",
       "50%                NaN       8.000000      12.480000  \n",
       "75%                NaN      10.000000      19.800000  \n",
       "max                NaN      12.000000  168469.600000  \n",
       "std                NaN       3.321220     321.143989  "
      ]
     },
     "execution_count": 37,
     "metadata": {},
     "output_type": "execute_result"
    }
   ],
   "source": [
    "df.describe( include='all')"
   ]
  },
  {
   "cell_type": "markdown",
   "metadata": {},
   "source": [
    "**Evaluate Categorical Variables**"
   ]
  },
  {
   "cell_type": "code",
   "execution_count": 38,
   "metadata": {},
   "outputs": [
    {
     "name": "stdout",
     "output_type": "stream",
     "text": [
      "Unique Invoices:  17132\n",
      "Unique Countries:  36\n",
      "Unique StockCodes:  3596\n",
      "Unique Customer IDs:  4219\n"
     ]
    }
   ],
   "source": [
    "\n",
    "print('Unique Invoices: ', df.Invoice.nunique())\n",
    "print('Unique Countries: ', df.Country.nunique())\n",
    "print('Unique StockCodes: ', df.StockCode.nunique())\n",
    "print('Unique Customer IDs: ', df.CustomerID.nunique())"
   ]
  },
  {
   "cell_type": "markdown",
   "metadata": {},
   "source": [
    "**Extract Monthly Data**"
   ]
  },
  {
   "cell_type": "markdown",
   "metadata": {},
   "source": [
    "Montly Sales"
   ]
  },
  {
   "cell_type": "code",
   "execution_count": 39,
   "metadata": {},
   "outputs": [
    {
     "data": {
      "text/html": [
       "<div>\n",
       "<style scoped>\n",
       "    .dataframe tbody tr th:only-of-type {\n",
       "        vertical-align: middle;\n",
       "    }\n",
       "\n",
       "    .dataframe tbody tr th {\n",
       "        vertical-align: top;\n",
       "    }\n",
       "\n",
       "    .dataframe thead th {\n",
       "        text-align: right;\n",
       "    }\n",
       "</style>\n",
       "<table border=\"1\" class=\"dataframe\">\n",
       "  <thead>\n",
       "    <tr style=\"text-align: right;\">\n",
       "      <th></th>\n",
       "      <th>Month</th>\n",
       "      <th>mean</th>\n",
       "      <th>median</th>\n",
       "      <th>sum</th>\n",
       "    </tr>\n",
       "  </thead>\n",
       "  <tbody>\n",
       "    <tr>\n",
       "      <th>0</th>\n",
       "      <td>1</td>\n",
       "      <td>27.067911</td>\n",
       "      <td>12.60</td>\n",
       "      <td>568101.310</td>\n",
       "    </tr>\n",
       "    <tr>\n",
       "      <th>1</th>\n",
       "      <td>2</td>\n",
       "      <td>22.637010</td>\n",
       "      <td>13.20</td>\n",
       "      <td>446084.920</td>\n",
       "    </tr>\n",
       "    <tr>\n",
       "      <th>2</th>\n",
       "      <td>3</td>\n",
       "      <td>22.109481</td>\n",
       "      <td>12.75</td>\n",
       "      <td>594081.760</td>\n",
       "    </tr>\n",
       "    <tr>\n",
       "      <th>3</th>\n",
       "      <td>4</td>\n",
       "      <td>20.878809</td>\n",
       "      <td>12.75</td>\n",
       "      <td>468374.331</td>\n",
       "    </tr>\n",
       "    <tr>\n",
       "      <th>4</th>\n",
       "      <td>5</td>\n",
       "      <td>24.128349</td>\n",
       "      <td>15.00</td>\n",
       "      <td>677355.150</td>\n",
       "    </tr>\n",
       "    <tr>\n",
       "      <th>5</th>\n",
       "      <td>6</td>\n",
       "      <td>24.513335</td>\n",
       "      <td>12.60</td>\n",
       "      <td>660046.050</td>\n",
       "    </tr>\n",
       "    <tr>\n",
       "      <th>6</th>\n",
       "      <td>7</td>\n",
       "      <td>22.534345</td>\n",
       "      <td>12.50</td>\n",
       "      <td>598962.901</td>\n",
       "    </tr>\n",
       "    <tr>\n",
       "      <th>7</th>\n",
       "      <td>8</td>\n",
       "      <td>24.040726</td>\n",
       "      <td>13.91</td>\n",
       "      <td>644051.040</td>\n",
       "    </tr>\n",
       "    <tr>\n",
       "      <th>8</th>\n",
       "      <td>9</td>\n",
       "      <td>23.965570</td>\n",
       "      <td>13.52</td>\n",
       "      <td>950690.202</td>\n",
       "    </tr>\n",
       "    <tr>\n",
       "      <th>9</th>\n",
       "      <td>10</td>\n",
       "      <td>21.225226</td>\n",
       "      <td>10.50</td>\n",
       "      <td>1035642.450</td>\n",
       "    </tr>\n",
       "    <tr>\n",
       "      <th>10</th>\n",
       "      <td>11</td>\n",
       "      <td>18.303660</td>\n",
       "      <td>9.90</td>\n",
       "      <td>1156205.610</td>\n",
       "    </tr>\n",
       "    <tr>\n",
       "      <th>11</th>\n",
       "      <td>12</td>\n",
       "      <td>30.375782</td>\n",
       "      <td>9.95</td>\n",
       "      <td>517208.440</td>\n",
       "    </tr>\n",
       "  </tbody>\n",
       "</table>\n",
       "</div>"
      ],
      "text/plain": [
       "    Month       mean  median          sum\n",
       "0       1  27.067911   12.60   568101.310\n",
       "1       2  22.637010   13.20   446084.920\n",
       "2       3  22.109481   12.75   594081.760\n",
       "3       4  20.878809   12.75   468374.331\n",
       "4       5  24.128349   15.00   677355.150\n",
       "5       6  24.513335   12.60   660046.050\n",
       "6       7  22.534345   12.50   598962.901\n",
       "7       8  24.040726   13.91   644051.040\n",
       "8       9  23.965570   13.52   950690.202\n",
       "9      10  21.225226   10.50  1035642.450\n",
       "10     11  18.303660    9.90  1156205.610\n",
       "11     12  30.375782    9.95   517208.440"
      ]
     },
     "execution_count": 39,
     "metadata": {},
     "output_type": "execute_result"
    }
   ],
   "source": [
    "ms = df.groupby('Month')['Sales'].agg(['mean', 'median', 'sum']).reset_index()\n",
    "ms"
   ]
  },
  {
   "cell_type": "markdown",
   "metadata": {},
   "source": [
    "Monthly Quantities"
   ]
  },
  {
   "cell_type": "code",
   "execution_count": 40,
   "metadata": {},
   "outputs": [
    {
     "data": {
      "text/html": [
       "<div>\n",
       "<style scoped>\n",
       "    .dataframe tbody tr th:only-of-type {\n",
       "        vertical-align: middle;\n",
       "    }\n",
       "\n",
       "    .dataframe tbody tr th {\n",
       "        vertical-align: top;\n",
       "    }\n",
       "\n",
       "    .dataframe thead th {\n",
       "        text-align: right;\n",
       "    }\n",
       "</style>\n",
       "<table border=\"1\" class=\"dataframe\">\n",
       "  <thead>\n",
       "    <tr style=\"text-align: right;\">\n",
       "      <th></th>\n",
       "      <th>Month</th>\n",
       "      <th>Quantity</th>\n",
       "    </tr>\n",
       "  </thead>\n",
       "  <tbody>\n",
       "    <tr>\n",
       "      <th>0</th>\n",
       "      <td>1</td>\n",
       "      <td>348473</td>\n",
       "    </tr>\n",
       "    <tr>\n",
       "      <th>1</th>\n",
       "      <td>2</td>\n",
       "      <td>265027</td>\n",
       "    </tr>\n",
       "    <tr>\n",
       "      <th>2</th>\n",
       "      <td>3</td>\n",
       "      <td>347582</td>\n",
       "    </tr>\n",
       "    <tr>\n",
       "      <th>3</th>\n",
       "      <td>4</td>\n",
       "      <td>291366</td>\n",
       "    </tr>\n",
       "    <tr>\n",
       "      <th>4</th>\n",
       "      <td>5</td>\n",
       "      <td>372864</td>\n",
       "    </tr>\n",
       "    <tr>\n",
       "      <th>5</th>\n",
       "      <td>6</td>\n",
       "      <td>363014</td>\n",
       "    </tr>\n",
       "    <tr>\n",
       "      <th>6</th>\n",
       "      <td>7</td>\n",
       "      <td>367360</td>\n",
       "    </tr>\n",
       "    <tr>\n",
       "      <th>7</th>\n",
       "      <td>8</td>\n",
       "      <td>397373</td>\n",
       "    </tr>\n",
       "    <tr>\n",
       "      <th>8</th>\n",
       "      <td>9</td>\n",
       "      <td>543652</td>\n",
       "    </tr>\n",
       "    <tr>\n",
       "      <th>9</th>\n",
       "      <td>10</td>\n",
       "      <td>591543</td>\n",
       "    </tr>\n",
       "    <tr>\n",
       "      <th>10</th>\n",
       "      <td>11</td>\n",
       "      <td>665923</td>\n",
       "    </tr>\n",
       "    <tr>\n",
       "      <th>11</th>\n",
       "      <td>12</td>\n",
       "      <td>286778</td>\n",
       "    </tr>\n",
       "  </tbody>\n",
       "</table>\n",
       "</div>"
      ],
      "text/plain": [
       "    Month  Quantity\n",
       "0       1    348473\n",
       "1       2    265027\n",
       "2       3    347582\n",
       "3       4    291366\n",
       "4       5    372864\n",
       "5       6    363014\n",
       "6       7    367360\n",
       "7       8    397373\n",
       "8       9    543652\n",
       "9      10    591543\n",
       "10     11    665923\n",
       "11     12    286778"
      ]
     },
     "execution_count": 40,
     "metadata": {},
     "output_type": "execute_result"
    }
   ],
   "source": [
    "mq = df.groupby('Month')['Quantity'].agg('sum')\n",
    "mq = mq.reset_index()\n",
    "mq"
   ]
  },
  {
   "cell_type": "markdown",
   "metadata": {},
   "source": [
    "**Visualize monthly sales and sold items**"
   ]
  },
  {
   "cell_type": "code",
   "execution_count": 41,
   "metadata": {},
   "outputs": [
    {
     "data": {
      "image/png": "[encoded data removed]",
      "text/plain": [
       "<Figure size 800x500 with 2 Axes>"
      ]
     },
     "metadata": {},
     "output_type": "display_data"
    }
   ],
   "source": [
    "sns.set_style('dark')\n",
    "plt.figure(figsize=(8,5))\n",
    "\n",
    "# Primary axis for items sold monthly\n",
    "ax = sns.barplot(data=mq, x=mq.Month, y=mq.Quantity)\n",
    "ax.set_title('Monthly Sales and Items Sold (FY2011)')\n",
    "ax.set_xticklabels([cal.month_name[i] for i in np.arange(1,13, 1)], rotation=45, size=10)\n",
    "ax.set_xlabel('')\n",
    "ax.set_ylabel('Items Sold')\n",
    "\n",
    "# Secondayy axis for month-on-month sales\n",
    "tx = ax.twinx()\n",
    "tx.plot(ms['sum'], label='Monthly Sales', color='orange', marker='s',)\n",
    "plt.legend()\n",
    "plt.tight_layout()\n",
    "plt.show()"
   ]
  },
  {
   "cell_type": "markdown",
   "metadata": {},
   "source": [
    "Investigate the steep decline in sales for the month of December, which is unusual for the amount of Sales during this time of the year."
   ]
  },
  {
   "cell_type": "code",
   "execution_count": 42,
   "metadata": {},
   "outputs": [
    {
     "name": "stdout",
     "output_type": "stream",
     "text": [
      "0.12 :: 168469.6\n"
     ]
    }
   ],
   "source": [
    "# Display range of sales values\n",
    "print(df[df.Month==12].Sales.min(), '::', df[df.Month==12].Sales.max())"
   ]
  },
  {
   "cell_type": "code",
   "execution_count": 43,
   "metadata": {},
   "outputs": [
    {
     "data": {
      "image/png": "[encoded data removed]",
      "text/plain": [
       "<Figure size 300x500 with 1 Axes>"
      ]
     },
     "metadata": {},
     "output_type": "display_data"
    }
   ],
   "source": [
    "sns.set_style('darkgrid')\n",
    "plt.figure(figsize=(3,5))\n",
    "sns.boxplot(df[df.Month == 12]['Sales'], width=0.5)\n",
    "plt.axhline(df[df.Month == 12]['Sales'].mean(), label='Mean:' + str(round(df[df.Month == 12]['Sales'].mean(),2)), linestyle=':', color='red')\n",
    "plt.title('December Sales Distribution')\n",
    "plt.legend(fontsize=7)\n",
    "plt.yscale('log')\n",
    "plt.show()"
   ]
  },
  {
   "cell_type": "code",
   "execution_count": 44,
   "metadata": {},
   "outputs": [
    {
     "data": {
      "image/png": "[encoded data removed]",
      "text/plain": [
       "<Figure size 500x300 with 1 Axes>"
      ]
     },
     "metadata": {},
     "output_type": "display_data"
    }
   ],
   "source": [
    "sns.set(font_scale=0.7, style='darkgrid')\n",
    "plt.figure(figsize=(5,3))\n",
    "sns.histplot(data=df[df.Month==12].Sales, bins=100)\n",
    "plt.yscale('log')\n",
    "plt.axvline(df[df.Month == 12]['Sales'].mean(), label='Mean:' + str(round(df[df.Month == 12]['Sales'].mean(),2)), linestyle=':', color='red')\n",
    "plt.title('December Sales Distribution')\n",
    "plt.legend()\n",
    "plt.tight_layout()\n",
    "plt.show()"
   ]
  },
  {
   "cell_type": "code",
   "execution_count": 45,
   "metadata": {},
   "outputs": [
    {
     "name": "stdout",
     "output_type": "stream",
     "text": [
      "No. of transaction (December):  17027\n",
      "No. of transactions for the year:  367023\n",
      "% of December Transactions:  4.64 %\n"
     ]
    }
   ],
   "source": [
    "print('No. of transaction (December): ', df.query('Month == 12').shape[0])\n",
    "print('No. of transactions for the year: ', df.shape[0] )\n",
    "print('% of December Transactions: ', round(len(df.query('Month == 12')) * 100 / len(df), 2), '%')"
   ]
  },
  {
   "cell_type": "markdown",
   "metadata": {},
   "source": [
    "December transactions account for less than 5% of the whole year. Check daily transactions for this month."
   ]
  },
  {
   "cell_type": "code",
   "execution_count": 46,
   "metadata": {},
   "outputs": [
    {
     "data": {
      "text/plain": [
       "Month  InvoiceDate\n",
       "12     1              2120\n",
       "       2              1939\n",
       "       4              1885\n",
       "       5              3335\n",
       "       6              2503\n",
       "       7              2135\n",
       "       8              2499\n",
       "       9               611\n",
       "Name: Invoice, dtype: int64"
      ]
     },
     "execution_count": 46,
     "metadata": {},
     "output_type": "execute_result"
    }
   ],
   "source": [
    "df.query('Month == 12').groupby([(df.Month), (df.InvoiceDate.dt.day)])['Invoice'].count()"
   ]
  },
  {
   "cell_type": "code",
   "execution_count": 47,
   "metadata": {},
   "outputs": [
    {
     "name": "stdout",
     "output_type": "stream",
     "text": [
      "Latest December Transaction:  2011-12-09\n"
     ]
    }
   ],
   "source": [
    "# Confirm the last transaction date in December. \n",
    "print('Latest December Transaction: ', df.query('Month == 12')['InvoiceDate'].dt.date.max() )"
   ]
  },
  {
   "cell_type": "markdown",
   "metadata": {},
   "source": [
    "\n",
    "The transactions in the dataset appear incomplete as it did not capture the whole transactions for the month of December 2011 (Last invoice date: Dec. 9)"
   ]
  },
  {
   "cell_type": "markdown",
   "metadata": {},
   "source": [
    "# 4 FEATURE ENGINEERING AND PRE-PROCESSING"
   ]
  },
  {
   "cell_type": "markdown",
   "metadata": {},
   "source": [
    "## 4.1 Transform features: Recency, Frequency, Monetary"
   ]
  },
  {
   "cell_type": "markdown",
   "metadata": {},
   "source": [
    "Create a new Recency column and calculate the date difference."
   ]
  },
  {
   "cell_type": "code",
   "execution_count": 48,
   "metadata": {},
   "outputs": [],
   "source": [
    "recent_invdt = df['InvoiceDate'].max() #Ideally, should be the latest day of invoice (near today's date)\n",
    "\n",
    "df_percust = df.groupby('CustomerID', as_index=False) \\\n",
    "    .agg( \n",
    "        LastPurchaseDate = ('InvoiceDate', 'max'),\n",
    "        Frequency = ('Invoice', 'nunique'),\n",
    "        Monetary = ('Sales', 'sum'))\n",
    "\n",
    "df_percust['Recency'] = (recent_invdt - df_percust['LastPurchaseDate']).dt.days\n",
    "df_percust.head()\n",
    "\n",
    "log_changes(df_percust.shape[0], 'RFM records per customer')"
   ]
  },
  {
   "cell_type": "markdown",
   "metadata": {},
   "source": [
    "## 4.2 Plot distribution of Recency, Frequency, and Monetary per Customer"
   ]
  },
  {
   "cell_type": "code",
   "execution_count": 49,
   "metadata": {},
   "outputs": [
    {
     "data": {
      "image/png": "[encoded data removed]",
      "text/plain": [
       "<Figure size 800x300 with 3 Axes>"
      ]
     },
     "metadata": {},
     "output_type": "display_data"
    }
   ],
   "source": [
    "sns.set(font_scale=0.7, style='dark')\n",
    "fig, ax= plt.subplots(1,3, figsize=(8,3))\n",
    "\n",
    "#Recency\n",
    "sns.histplot(df_percust.Recency, bins=10, color='darkseagreen', ax=ax[0])\n",
    "# ax[0].grid(False)\n",
    "ax[0].set_xlabel('Recency (Days)')\n",
    "ax[0].set_yscale('log')\n",
    "ax[0].set_title('Recency Distribution')\n",
    "\n",
    "#Frequency\n",
    "sns.histplot(df_percust.Frequency, bins=10, color='salmon', ax=ax[1])\n",
    "# ax[1].hist(df_percust.Frequency, bins=3, color='orange')\n",
    "ax[1].set_xlabel('Frequency')\n",
    "ax[1].set_title('Frequency Distribution')\n",
    "ax[1].set_yscale('log')\n",
    "\n",
    "#Monetary\n",
    "sns.histplot(df_percust.Monetary, bins=10, color='skyblue', ax=ax[2])\n",
    "ax[2].set_xlabel('Monetary (Sterling)')\n",
    "ax[2].tick_params(axis='x', labelrotation=90)\n",
    "ax[2].set_title('Monetary Distribution')\n",
    "ax[2].set_yscale('log')\n",
    "\n",
    "\n",
    "plt.tight_layout(pad=0.5)\n",
    "plt.show()"
   ]
  },
  {
   "cell_type": "code",
   "execution_count": 50,
   "metadata": {},
   "outputs": [
    {
     "data": {
      "image/png": "[encoded data removed]",
      "text/plain": [
       "<Figure size 500x300 with 3 Axes>"
      ]
     },
     "metadata": {},
     "output_type": "display_data"
    }
   ],
   "source": [
    "sns.set(font_scale=0.7, style='darkgrid')\n",
    "fig, ax= plt.subplots(1,3, figsize=(5,3))\n",
    "\n",
    "#Recency\n",
    "sns.boxplot(data=df_percust.Recency, color='darkseagreen', ax=ax[0], width=0.5)\n",
    "ax[0].set_title('Recency Boxplot')\n",
    "\n",
    "#Frequency\n",
    "sns.boxplot(data=df_percust.Frequency, color='salmon', ax=ax[1], width=0.5)\n",
    "ax[1].set_title('Frequency Boxplot')\n",
    "\n",
    "#Monetary\n",
    "sns.boxplot(data=df_percust.Monetary, color='skyblue', ax=ax[2], width=0.5)\n",
    "ax[2].set_title('Monetary Boxplot')\n",
    "ax[2].set_yscale('log')\n",
    "\n",
    "plt.tight_layout(pad=1)\n",
    "plt.show()"
   ]
  },
  {
   "cell_type": "markdown",
   "metadata": {},
   "source": [
    "There are many outliers as can be seen from the R/F/M boxplots. \\\n",
    "Since the focus of this project is on clustering, only the non-outliers will be processed by the model. \n",
    "\n",
    "It is emparative to analyze the outliers as they represent extreme behaviours by the customers, such as high spending and very frequent purchases; therefore, that step will be performed after the modeling."
   ]
  },
  {
   "cell_type": "markdown",
   "metadata": {},
   "source": [
    "## 4.3 Outlier detection and handling "
   ]
  },
  {
   "cell_type": "markdown",
   "metadata": {},
   "source": [
    "Separate outliers (big spenders and frequent spenders) from the rest of the data "
   ]
  },
  {
   "cell_type": "code",
   "execution_count": 51,
   "metadata": {},
   "outputs": [],
   "source": [
    "#Create a function for extracting outliers\n",
    "def outliers(p_df, col):\n",
    "    '''Function for computing outliers. \n",
    "    Input: (1)Dataframe, (2)column name.\n",
    "    Return: rows of outliers in a dataframe'''\n",
    "\n",
    "    q1 = p_df[col].quantile(0.25)\n",
    "    q3 = p_df[col].quantile(0.75)\n",
    "    iqr = q3 - q1\n",
    "    outlier = p_df[( p_df[col] > (q3 + 1.5*iqr)) | (p_df[col] < (q1 - 1.5*iqr)) ]\n",
    "    return outlier"
   ]
  },
  {
   "cell_type": "code",
   "execution_count": 52,
   "metadata": {},
   "outputs": [
    {
     "name": "stdout",
     "output_type": "stream",
     "text": [
      "Monetary outliers:  402\n",
      "Frequency outliers:  412\n"
     ]
    }
   ],
   "source": [
    "#Big spenders: Monetaty outliers\n",
    "df_m_outliers = outliers(df_percust, 'Monetary')\n",
    "\n",
    "#Frequent buyers: Frequency outliers\n",
    "df_f_outliers = outliers(df_percust, 'Frequency')\n",
    "\n",
    "print('Monetary outliers: ', df_m_outliers.shape[0])\n",
    "print('Frequency outliers: ', df_f_outliers.shape[0])\n",
    "\n",
    "log_changes(df_m_outliers.shape[0], 'Monetary outliers')\n",
    "log_changes(df_f_outliers.shape[0], 'Frequency outliers')"
   ]
  },
  {
   "cell_type": "markdown",
   "metadata": {},
   "source": [
    "Subset the non-outliers for subsequent processing."
   ]
  },
  {
   "cell_type": "code",
   "execution_count": 53,
   "metadata": {},
   "outputs": [
    {
     "name": "stdout",
     "output_type": "stream",
     "text": [
      "No. of Non-outlier records:  3817 from 4219 or 90.47 %\n"
     ]
    }
   ],
   "source": [
    "df = df_percust[ (~df_percust.index.isin(df_m_outliers.index)) &  (~df_percust.index.isin(df_m_outliers.index)) ]\n",
    "print(f'No. of Non-outlier records:  {df.shape[0]} from {df_percust.shape[0]} or {round(df.shape[0]*100/df_percust.shape[0],2)} %' )\n",
    "\n",
    "log_changes(df.shape[0], 'Non-outliers in RFM records for modeling')"
   ]
  },
  {
   "cell_type": "markdown",
   "metadata": {},
   "source": [
    "Visualize non-outliers based on Recency, Frequency, and Monetary"
   ]
  },
  {
   "cell_type": "code",
   "execution_count": 54,
   "metadata": {},
   "outputs": [
    {
     "data": {
      "image/png": "[encoded data removed]",
      "text/plain": [
       "<Figure size 500x300 with 3 Axes>"
      ]
     },
     "metadata": {},
     "output_type": "display_data"
    }
   ],
   "source": [
    "sns.set(font_scale=0.7, style='darkgrid')\n",
    "fig, ax = plt.subplots(1,3, figsize=(5,3))\n",
    "\n",
    "sns.boxplot(data=df.Recency, color='darkseagreen', ax=ax[0], width=0.5)\n",
    "sns.boxplot(data=df.Frequency, color='salmon', ax=ax[1], width=0.5)\n",
    "sns.boxplot(data=df.Monetary, color='skyblue', ax=ax[2], width=0.5)\n",
    "plt.yscale('log')\n",
    "\n",
    "plt.tight_layout(pad=1)\n",
    "plt.show()"
   ]
  },
  {
   "cell_type": "markdown",
   "metadata": {},
   "source": [
    "## 4.4 Scaling"
   ]
  },
  {
   "cell_type": "markdown",
   "metadata": {},
   "source": [
    "Prepare data for scaling. The columns of interest are recency, frequency, and monetary, so all other columnns the dataset are be dropped.\n"
   ]
  },
  {
   "cell_type": "code",
   "execution_count": 55,
   "metadata": {},
   "outputs": [
    {
     "data": {
      "text/html": [
       "<div>\n",
       "<style scoped>\n",
       "    .dataframe tbody tr th:only-of-type {\n",
       "        vertical-align: middle;\n",
       "    }\n",
       "\n",
       "    .dataframe tbody tr th {\n",
       "        vertical-align: top;\n",
       "    }\n",
       "\n",
       "    .dataframe thead th {\n",
       "        text-align: right;\n",
       "    }\n",
       "</style>\n",
       "<table border=\"1\" class=\"dataframe\">\n",
       "  <thead>\n",
       "    <tr style=\"text-align: right;\">\n",
       "      <th></th>\n",
       "      <th>Frequency</th>\n",
       "      <th>Monetary</th>\n",
       "      <th>Recency</th>\n",
       "    </tr>\n",
       "    <tr>\n",
       "      <th>CustomerID</th>\n",
       "      <th></th>\n",
       "      <th></th>\n",
       "      <th></th>\n",
       "    </tr>\n",
       "  </thead>\n",
       "  <tbody>\n",
       "    <tr>\n",
       "      <th>12348</th>\n",
       "      <td>3</td>\n",
       "      <td>904.44</td>\n",
       "      <td>75</td>\n",
       "    </tr>\n",
       "    <tr>\n",
       "      <th>12349</th>\n",
       "      <td>1</td>\n",
       "      <td>1757.55</td>\n",
       "      <td>18</td>\n",
       "    </tr>\n",
       "    <tr>\n",
       "      <th>12350</th>\n",
       "      <td>1</td>\n",
       "      <td>334.40</td>\n",
       "      <td>310</td>\n",
       "    </tr>\n",
       "    <tr>\n",
       "      <th>12352</th>\n",
       "      <td>8</td>\n",
       "      <td>2506.04</td>\n",
       "      <td>36</td>\n",
       "    </tr>\n",
       "    <tr>\n",
       "      <th>12353</th>\n",
       "      <td>1</td>\n",
       "      <td>89.00</td>\n",
       "      <td>204</td>\n",
       "    </tr>\n",
       "  </tbody>\n",
       "</table>\n",
       "</div>"
      ],
      "text/plain": [
       "            Frequency  Monetary  Recency\n",
       "CustomerID                              \n",
       "12348               3    904.44       75\n",
       "12349               1   1757.55       18\n",
       "12350               1    334.40      310\n",
       "12352               8   2506.04       36\n",
       "12353               1     89.00      204"
      ]
     },
     "execution_count": 55,
     "metadata": {},
     "output_type": "execute_result"
    }
   ],
   "source": [
    "df = df.drop('LastPurchaseDate', axis=1)\n",
    "df = df.set_index('CustomerID')\n",
    "\n",
    "#Back up the indices and columns\n",
    "rfm_idx = df.index\n",
    "rfm_cols = df.columns\n",
    "\n",
    "df.head()"
   ]
  },
  {
   "cell_type": "markdown",
   "metadata": {},
   "source": [
    "Scale/Standarize the data"
   ]
  },
  {
   "cell_type": "code",
   "execution_count": 56,
   "metadata": {},
   "outputs": [],
   "source": [
    "from sklearn.preprocessing import StandardScaler\n",
    "\n",
    "scaler = StandardScaler()\n",
    "rfm_scaled = scaler.fit_transform(df)\n",
    "\n",
    "df_scaled = pd.DataFrame(rfm_scaled, columns=rfm_cols, index=rfm_idx)\n",
    "df_scaled\n",
    "\n",
    "log_changes(df_scaled.shape[0], 'Scaled RFM records for modeling')"
   ]
  },
  {
   "cell_type": "markdown",
   "metadata": {},
   "source": [
    "Check if normalized. Mean ~ 0 and Standard Deviation ~ 1."
   ]
  },
  {
   "cell_type": "code",
   "execution_count": 57,
   "metadata": {},
   "outputs": [
    {
     "name": "stdout",
     "output_type": "stream",
     "text": [
      "Frequency    4.560728e-17\n",
      "Monetary    -1.489217e-17\n",
      "Recency     -2.792282e-17\n",
      "dtype: float64\n",
      "\n",
      " Frequency    1.0\n",
      "Monetary     1.0\n",
      "Recency      1.0\n",
      "dtype: float64\n"
     ]
    }
   ],
   "source": [
    "print(df_scaled.mean())\n",
    "print('\\n', df_scaled.std(ddof=0))"
   ]
  },
  {
   "cell_type": "markdown",
   "metadata": {},
   "source": [
    "Visualize the distribution after standardization"
   ]
  },
  {
   "cell_type": "code",
   "execution_count": 58,
   "metadata": {},
   "outputs": [
    {
     "data": {
      "image/png": "[encoded data removed]",
      "text/plain": [
       "<Figure size 600x300 with 3 Axes>"
      ]
     },
     "metadata": {},
     "output_type": "display_data"
    }
   ],
   "source": [
    "sns.set(font_scale=0.7, style='darkgrid')\n",
    "fig, axes = plt.subplots(nrows=1,ncols=3, figsize=(6,3), squeeze=False)\n",
    "\n",
    "for idx, col in enumerate(rfm_cols):\n",
    "\n",
    "    axes[0][idx].hist(df_scaled[col], bins=8, color='steelblue')\n",
    "    axes[0][idx].set_xlabel(col + ' Value')\n",
    "    axes[0][idx].set_ylabel('Count')\n",
    "    axes[0][idx].set_yscale('log')\n",
    "    # plt.axvline(df_rfm_col[col].mean(), size)\n",
    "    axes[0][idx].set_title('Scaled ' + col + ' Distribution')\n",
    "\n",
    "plt.tight_layout()\n",
    "plt.show()    "
   ]
  },
  {
   "cell_type": "markdown",
   "metadata": {},
   "source": [
    "Show logs"
   ]
  },
  {
   "cell_type": "code",
   "execution_count": 59,
   "metadata": {},
   "outputs": [
    {
     "data": {
      "text/html": [
       "<div>\n",
       "<style scoped>\n",
       "    .dataframe tbody tr th:only-of-type {\n",
       "        vertical-align: middle;\n",
       "    }\n",
       "\n",
       "    .dataframe tbody tr th {\n",
       "        vertical-align: top;\n",
       "    }\n",
       "\n",
       "    .dataframe thead th {\n",
       "        text-align: right;\n",
       "    }\n",
       "</style>\n",
       "<table border=\"1\" class=\"dataframe\">\n",
       "  <thead>\n",
       "    <tr style=\"text-align: right;\">\n",
       "      <th></th>\n",
       "      <th>Number</th>\n",
       "      <th>Description</th>\n",
       "    </tr>\n",
       "  </thead>\n",
       "  <tbody>\n",
       "    <tr>\n",
       "      <th>0</th>\n",
       "      <td>541910</td>\n",
       "      <td>Initial number of records</td>\n",
       "    </tr>\n",
       "    <tr>\n",
       "      <th>1</th>\n",
       "      <td>-135080</td>\n",
       "      <td>Records with null Customer IDs dropped</td>\n",
       "    </tr>\n",
       "    <tr>\n",
       "      <th>2</th>\n",
       "      <td>-8905</td>\n",
       "      <td>Negative quantities or cancelled invoices dropped</td>\n",
       "    </tr>\n",
       "    <tr>\n",
       "      <th>3</th>\n",
       "      <td>-5192</td>\n",
       "      <td>Duplicate records dropped</td>\n",
       "    </tr>\n",
       "    <tr>\n",
       "      <th>4</th>\n",
       "      <td>367023</td>\n",
       "      <td>Records under 2011 timeframe</td>\n",
       "    </tr>\n",
       "    <tr>\n",
       "      <th>5</th>\n",
       "      <td>4219</td>\n",
       "      <td>RFM records per customer</td>\n",
       "    </tr>\n",
       "    <tr>\n",
       "      <th>6</th>\n",
       "      <td>402</td>\n",
       "      <td>Monetary outliers</td>\n",
       "    </tr>\n",
       "    <tr>\n",
       "      <th>7</th>\n",
       "      <td>412</td>\n",
       "      <td>Frequency outliers</td>\n",
       "    </tr>\n",
       "    <tr>\n",
       "      <th>8</th>\n",
       "      <td>3817</td>\n",
       "      <td>Non-outliers in RFM records for modeling</td>\n",
       "    </tr>\n",
       "    <tr>\n",
       "      <th>9</th>\n",
       "      <td>3817</td>\n",
       "      <td>Scaled RFM records for modeling</td>\n",
       "    </tr>\n",
       "  </tbody>\n",
       "</table>\n",
       "</div>"
      ],
      "text/plain": [
       "    Number                                        Description\n",
       "0   541910                          Initial number of records\n",
       "1  -135080             Records with null Customer IDs dropped\n",
       "2    -8905  Negative quantities or cancelled invoices dropped\n",
       "3    -5192                          Duplicate records dropped\n",
       "4   367023                       Records under 2011 timeframe\n",
       "5     4219                           RFM records per customer\n",
       "6      402                                  Monetary outliers\n",
       "7      412                                 Frequency outliers\n",
       "8     3817           Non-outliers in RFM records for modeling\n",
       "9     3817                    Scaled RFM records for modeling"
      ]
     },
     "execution_count": 59,
     "metadata": {},
     "output_type": "execute_result"
    }
   ],
   "source": [
    "df_logs = pd.DataFrame(ChangeLogs).T\n",
    "df_logs"
   ]
  },
  {
   "cell_type": "markdown",
   "metadata": {},
   "source": [
    "# 5. MODELING"
   ]
  },
  {
   "cell_type": "markdown",
   "metadata": {},
   "source": [
    "## 5.1 Model Prerequisites"
   ]
  },
  {
   "cell_type": "markdown",
   "metadata": {},
   "source": [
    "Preferred clustering algorithms to be tested:\n",
    "- KMeans Clustering\n",
    "- Agglomerative Clustering\n",
    "- DBSCAN"
   ]
  },
  {
   "cell_type": "markdown",
   "metadata": {},
   "source": [
    "DBSCAN Pre-requisites:\n",
    "\n",
    "To determine the parameters for DBSCAN, it's essential to determine the two hyperparameters in DBSCAN (MinPts and 𝜀𝜀 ) that need to be optimized to yield good clustering results.\\\n",
    "Finding a good combination of MinPts and 𝜀𝜀 can be problematic if the density differences in the dataset are relatively large. \\\n",
    "A general rule of thumb is to set MinPts >= D+1, where D is the number of dimensions in the dataset. For most cases, a minimum value of MinPts = 3 is recommended.\\\n",
    "Create a k-distance graph to serve as a guide in selecting the appropriate epsilon value.\\\n",
    "Steps:\n",
    "1. Calculate the distance to the k-th nearest neighbor for each point.\n",
    "2. Sort and plot the distance and use the elbow method to choose the epsilon. \n",
    "\n",
    "Specific to the hyperparameter optimization, a range of values near the elbow point in the K-distance graph will be used."
   ]
  },
  {
   "cell_type": "markdown",
   "metadata": {},
   "source": []
  },
  {
   "cell_type": "code",
   "execution_count": 60,
   "metadata": {},
   "outputs": [
    {
     "data": {
      "image/png": "[encoded data removed]",
      "text/plain": [
       "<Figure size 1000x1000 with 1 Axes>"
      ]
     },
     "metadata": {},
     "output_type": "display_data"
    }
   ],
   "source": [
    "from sklearn.cluster import DBSCAN\n",
    "from sklearn.neighbors import NearestNeighbors\n",
    "\n",
    "test_k = 4\n",
    "X_scaled = df_scaled.to_numpy()\n",
    "mdl_nn = NearestNeighbors(n_neighbors=test_k)\n",
    "mdl_nn.fit(X_scaled)\n",
    "\n",
    "distances, indices = mdl_nn.kneighbors(X_scaled)\n",
    "distances = np.sort(distances[:, test_k-1])\n",
    "\n",
    "plt.figure(figsize=(10,10))\n",
    "plt.plot(distances, '-o')\n",
    "\n",
    "plt.xlabel('Points')\n",
    "plt.ylabel(f'{test_k}-th nearest neighbor distance')\n",
    "plt.yticks(np.arange(0, max(distances)+0.1, 0.1), fontsize=5)\n",
    "plt.title('K-distance Graph')\n",
    "plt.show()"
   ]
  },
  {
   "cell_type": "markdown",
   "metadata": {},
   "source": [
    "The estimated elbow point on the K-distance graph is between ***0.1 - 0.2*** "
   ]
  },
  {
   "cell_type": "markdown",
   "metadata": {},
   "source": [
    "**Import libraries**"
   ]
  },
  {
   "cell_type": "code",
   "execution_count": 61,
   "metadata": {},
   "outputs": [],
   "source": [
    "# !conda install hyperopt"
   ]
  },
  {
   "cell_type": "code",
   "execution_count": 62,
   "metadata": {},
   "outputs": [],
   "source": [
    "from matplotlib import colormaps\n",
    "from sklearn.preprocessing import StandardScaler, MinMaxScaler\n",
    "from sklearn.cluster import KMeans, AgglomerativeClustering, DBSCAN \n",
    "from sklearn.model_selection import GridSearchCV, RandomizedSearchCV\n",
    "from sklearn.metrics import silhouette_score, silhouette_samples\n",
    "from sklearn.pipeline import Pipeline\n",
    "from hyperopt import hp, tpe, rand, space_eval, fmin, Trials, STATUS_OK\n",
    "\n",
    "#Suppress warnings\n",
    "import warnings\n",
    "warnings.filterwarnings(\"ignore\")\n",
    "\n",
    "import time"
   ]
  },
  {
   "cell_type": "markdown",
   "metadata": {},
   "source": [
    "Set the random seed"
   ]
  },
  {
   "cell_type": "code",
   "execution_count": 63,
   "metadata": {},
   "outputs": [
    {
     "data": {
      "text/plain": [
       "Generator(PCG64) at 0x7F033E426F80"
      ]
     },
     "execution_count": 63,
     "metadata": {},
     "output_type": "execute_result"
    }
   ],
   "source": [
    "random_seed = 177\n",
    "np.random.seed(random_seed)\n",
    "np.random.default_rng(random_seed)"
   ]
  },
  {
   "cell_type": "code",
   "execution_count": 64,
   "metadata": {},
   "outputs": [],
   "source": [
    "X = df.to_numpy()\n",
    "X_scaled = df_scaled.to_numpy()"
   ]
  },
  {
   "cell_type": "code",
   "execution_count": 65,
   "metadata": {},
   "outputs": [
    {
     "data": {
      "text/plain": [
       "((3817, 3), (3817, 3))"
      ]
     },
     "execution_count": 65,
     "metadata": {},
     "output_type": "execute_result"
    }
   ],
   "source": [
    "X.shape, X_scaled.shape"
   ]
  },
  {
   "cell_type": "markdown",
   "metadata": {},
   "source": [
    "## 5.2 Hyperparameter Tuning"
   ]
  },
  {
   "cell_type": "markdown",
   "metadata": {},
   "source": [
    "**Define model parameters and spaces**"
   ]
  },
  {
   "cell_type": "code",
   "execution_count": 86,
   "metadata": {},
   "outputs": [],
   "source": [
    "#Dictionary for model paramaters:\n",
    "\n",
    "models = {\n",
    "    'KMeans': {\n",
    "        'model': KMeans(random_state=random_seed),\n",
    "        'params': {\n",
    "            'cluster__n_clusters': np.arange(2,11,1),\n",
    "            'cluster__init' : ['random', 'k-means++'],\n",
    "            'cluster__n_init' :  np.arange(5,11,5),\n",
    "            'cluster__max_iter': np.arange(100,1100,100),\n",
    "            'cluster__tol': [0.0001, 0.001, 0.01, 0.1],\n",
    "            'cluster__algorithm' : ['lloyd', 'elkan']\n",
    "        }\n",
    "    },\n",
    "\n",
    "    'Agglomerative': {\n",
    "        'model': AgglomerativeClustering(),\n",
    "        'params': {\n",
    "            'cluster__n_clusters': np.arange(2,11,1),\n",
    "            'cluster__metric' : [ 'euclidean', 'l1', 'l2', 'manhattan', 'cosine'], \n",
    "            'cluster__linkage': ['complete', 'average', 'single'],\n",
    "            'cluster__compute_distances' : [True, False]\n",
    "        }\n",
    "    },\n",
    "\n",
    "    'DBSCAN': {\n",
    "        'model': DBSCAN(), \n",
    "        'params': {\n",
    "            'cluster__eps': np.arange(0.1, 0.2, 0.01),\n",
    "            'cluster__min_samples' : np.arange(4,11,1), \n",
    "            'cluster__metric': ['euclidean']\n",
    "        }\n",
    "    }\n",
    "}"
   ]
  },
  {
   "cell_type": "code",
   "execution_count": 87,
   "metadata": {},
   "outputs": [],
   "source": [
    "#Spaces for KMeans required for SMBO using hyperopt\n",
    "\n",
    "km_space = {\n",
    "    'n_clusters': hp.uniformint('n_clusters', 2, 10, q=2),\n",
    "    'init' : hp.choice('init', ['random', 'k-means++']),\n",
    "    'n_init' :hp.uniformint('n_init', 5,10, q=5),\n",
    "    'max_iter': hp.uniformint('max_iter', 100, 1000, q=100),\n",
    "    'tol': hp.choice('tol', [0.0001, 0.001, 0.01, 0.1]),\n",
    "    'algorithm' : hp.choice('algorithm', ['lloyd', 'elkan'])\n",
    "}"
   ]
  },
  {
   "cell_type": "markdown",
   "metadata": {},
   "source": [
    "**Functions for Cross-Validation**"
   ]
  },
  {
   "cell_type": "code",
   "execution_count": 88,
   "metadata": {},
   "outputs": [],
   "source": [
    "# Custom function for Randomized Search and Grid Search:\n",
    "\n",
    "def f_hp_optimization(desiredcv, x_data, pipe, params, njobs, f_scoring, fold):\n",
    "    '''Custom function that runs GridSearchCV and RandomSearch CV using the estimator and parameter of choice.\n",
    "    \n",
    "    Input: \n",
    "        desiredcv - CrossValidation model (sklearn.model_selection object, i.e. RandomizedSearchCV | GridSearchCV)\n",
    "        x_data - working dataset (numpy.ndarray)\n",
    "        pipe - defined pipeline( Pipeline object )\n",
    "        params - a dictionary of the model's parameters (dict)\n",
    "        n_jobs - no of jobs (int)\n",
    "        f_scoring - scoring metric or a custom function for clustering algorithms  (func)\n",
    "        fold - cross-validation number of folds (int)\n",
    "    Return:\n",
    "        Cross-validation object fitted with data (sklearn.model_selection._search.*Randomized\\Grid* SearchCV object)\n",
    "    '''\n",
    "\n",
    "    cv = None\n",
    "    time_start = time.time()\n",
    "\n",
    "    # np.random.seed(random_seed)\n",
    "    # np.random.default_rng(random_seed)\n",
    "    \n",
    "    if desiredcv == GridSearchCV:\n",
    "\n",
    "        try:\n",
    "            cv = GridSearchCV(pipe, param_grid=params, n_jobs = njobs, scoring=f_scoring, cv=fold)  \n",
    "        except Exception as e:\n",
    "            logging.error(e)\n",
    "\n",
    "    elif desiredcv == RandomizedSearchCV:\n",
    "\n",
    "        try:\n",
    "            cv = RandomizedSearchCV(pipe,param_distributions = params, n_jobs = njobs,  scoring=f_scoring, cv=fold, random_state=random_seed )  \n",
    "        except Exception as e:\n",
    "            logging.error(e)\n",
    "            \n",
    "    if cv!= None:\n",
    "        cv.fit(x_data)\n",
    "        \n",
    "        time_end = time.time()\n",
    "        runtime = time_end - time_start\n",
    "        \n",
    "        print(f'+++ {pipe['cluster']} {desiredcv} results: +++')\n",
    "        print('Model Total running time: ', runtime)\n",
    "        print(\"Best hyperparameters: \", cv.best_params_)\n",
    "        print('Score: ', cv.best_score_)\n",
    "        \n",
    "        print('\\n')\n",
    "\n",
    "    return cv"
   ]
  },
  {
   "cell_type": "code",
   "execution_count": 89,
   "metadata": {},
   "outputs": [],
   "source": [
    "# Custom scoring functions for GridSearchCV and RandomizedSearchCV\n",
    "\n",
    "def f_silhouette_score(pipex, X):\n",
    "    return silhouette_score(X, pipex.fit_predict(X))\n",
    "\n",
    "def f_inertia_score(pipex, X):\n",
    "    return pipex['cluster'].inertia_"
   ]
  },
  {
   "cell_type": "markdown",
   "metadata": {},
   "source": [
    "**Functions for Bayesian Search**"
   ]
  },
  {
   "cell_type": "code",
   "execution_count": null,
   "metadata": {},
   "outputs": [],
   "source": [
    "# Objective functions for Bayesian Search using SMBO technique in ***hyperopt*** package for KMeans\n",
    "\n",
    "def km_f_objective(space):\n",
    "    \n",
    "    np.random.seed(random_seed)\n",
    "    # np.random.default_rng(random_seed)\n",
    "\n",
    "    kmeans = KMeans(n_clusters = space['n_clusters'], \n",
    "                    random_state = random_seed, \n",
    "                    tol= space['tol'], \n",
    "                    n_init= space['n_init'], \n",
    "                    max_iter= space['max_iter'], \n",
    "                    init= space['init'],\n",
    "                    algorithm= space['algorithm']\n",
    "                    )\n",
    "\n",
    "    clusterlabels = kmeans.fit_predict(X_scaled)\n",
    "    score = kmeans.inertia_\n",
    "     \n",
    "    return {'loss' : -(score), 'status': STATUS_OK }"
   ]
  },
  {
   "cell_type": "markdown",
   "metadata": {},
   "source": [
    "***Scoring functions for Agglomerative Clustering and DBSCAN:***\n",
    "\n",
    "Both Agglomerative clustering and DBSCAN have no explicit loss function. Agglomerative Clustering use distance metric, and DBSCAN does not necessarily divide data into spherical clusters, so inertia is not a good metric for evaluating DBSCAN and Agglomerative Clustering models.\\\n",
    "In the next section, Silhouette scores will be computed for both algorithms in CV. SMBO will be skipped for both due to the lack of loss function on both algorithms\n",
    "\n",
    "Hyperopt documentation: https://github.com/hyperopt/hyperopt/wiki/FMin"
   ]
  },
  {
   "cell_type": "markdown",
   "metadata": {},
   "source": [
    "**Nested Cross-Validation**"
   ]
  },
  {
   "cell_type": "markdown",
   "metadata": {},
   "source": [
    "This step will utilize nested cross-validation approach to determine the optimal parameters per clustering algorithm. In summary, this step will: \n",
    "1. Cycle through the 3 chosen cluster algorithms, namely: KMeans, Agglomerative Hierarchichal, and DBSCAN. \n",
    "2. For each algorithm, perform hyperparameter tuning.\n",
    ">- KMeans - GridSearchCV, RandomizedSearchCV, and SMBO\n",
    ">- Agglomerative Hierarchichal - GridSearchCV, RandomizedSearchCV\n",
    ">- DBSCAN - GridSearchCV, RandomizedSearchCV\n",
    "\n",
    "3. Apply custom scoring functions for the ffg algorithms: \n",
    ">- KMeans -  Silhouette score via custom scoring function in CVs.No scoring from SMBO as silhouette score is not a loss function.   \n",
    ">- Agglomerative Hierarchichal - Silhouette score via custom scoring function in CVs. No loss function and inertia is not applicable so SMBO is skipped.\n",
    ">- DBSCAN - Silhouette score via custom scoring function in CVs. No loss function and inertia is not applicable so SMBO is skipped."
   ]
  },
  {
   "cell_type": "code",
   "execution_count": null,
   "metadata": {},
   "outputs": [
    {
     "name": "stdout",
     "output_type": "stream",
     "text": [
      "+++ KMeans(random_state=177) <class 'sklearn.model_selection._search.RandomizedSearchCV'> results: +++\n",
      "Model Total running time:  0.8512129783630371\n",
      "Best hyperparameters:  {'cluster__tol': 0.01, 'cluster__n_init': 10, 'cluster__n_clusters': 2, 'cluster__max_iter': 800, 'cluster__init': 'k-means++', 'cluster__algorithm': 'lloyd'}\n",
      "Score:  0.5999995841737189\n",
      "\n",
      "\n",
      "----- SMBO: KMeans Clustering: -----\n",
      "100%|██████████| 100/100 [00:03<00:00, 32.32trial/s, best loss: 1434.282258168832]\n",
      "Model Total running time:  3.096801519393921\n",
      "SMBO KMeans best parameters:  {'algorithm': 1, 'init': 1, 'max_iter': 835.0, 'n_clusters': 10.0, 'n_init': 9.0, 'tol': 0}\n",
      "\n",
      "\n",
      "+++ AgglomerativeClustering() <class 'sklearn.model_selection._search.RandomizedSearchCV'> results: +++\n",
      "Model Total running time:  5.597342252731323\n",
      "Best hyperparameters:  {'cluster__n_clusters': 3, 'cluster__metric': 'l2', 'cluster__linkage': 'average', 'cluster__compute_distances': True}\n",
      "Score:  0.43170888868371726\n",
      "\n",
      "\n",
      "+++ DBSCAN() <class 'sklearn.model_selection._search.RandomizedSearchCV'> results: +++\n",
      "Model Total running time:  0.5417778491973877\n",
      "Best hyperparameters:  {'cluster__min_samples': 10, 'cluster__metric': 'euclidean', 'cluster__eps': 0.16999999999999998}\n",
      "Score:  -0.1594993561714266\n",
      "\n",
      "\n"
     ]
    }
   ],
   "source": [
    "#Core Nested Cross-Validation process\n",
    "\n",
    "results = []\n",
    "\n",
    "for model_name, model_info in models.items():\n",
    "    \n",
    "    # Define pipeline steps\n",
    "    pipeline = Pipeline(steps=[\n",
    "                    ( 'scaler', [ MinMaxScaler() if model_info['model'] == DBSCAN else StandardScaler()][0] ),\n",
    "                    ( 'cluster', model_info['model'] )])\n",
    "\n",
    "    # Run Randomized Search CV using f_hp_optimization\n",
    "    rscv = f_hp_optimization(desiredcv = RandomizedSearchCV, x_data=X, pipe=pipeline, params = model_info['params'], njobs= -1, f_scoring=f_silhouette_score, fold=10)\n",
    "    \n",
    "    # Append Randomized Search CV results\n",
    "    if rscv:\n",
    "        results.append(\n",
    "            {\n",
    "                'model' : model_name,\n",
    "                'tuning' : 'RandomizedSearchCV',\n",
    "                'best_params' : rscv.best_params_,\n",
    "                'Score' : rscv.best_score_        \n",
    "            }\n",
    "        )\n",
    "\n",
    "\n",
    "    # Run Grid Search CV using f_hp_optimization\n",
    "    gscv = f_hp_optimization(desiredcv = GridSearchCV, x_data=X, pipe=pipeline, params = model_info['params'], njobs= -1, f_scoring=f_silhouette_score, fold=10)\n",
    "   \n",
    "    # Append Grid Search CV results\n",
    "    if gscv:\n",
    "        results.append(\n",
    "            {\n",
    "                'model' : model_name,\n",
    "                'tuning' : 'GridSeachCV',\n",
    "                'best_params' : gscv.best_params_,\n",
    "                'Score' : gscv.best_score_        \n",
    "            }\n",
    "        )\n",
    "   \n",
    "\n",
    "    match model_name:\n",
    "\n",
    "        case 'KMeans':\n",
    "            print('----- SMBO: KMeans Clustering: -----')\n",
    "            model_fmin = km_f_objective\n",
    "            model_space = km_space\n",
    "\n",
    "        case 'Agglomerative':\n",
    "            continue\n",
    "\n",
    "        case 'DBSCAN':\n",
    "            continue\n",
    "\n",
    "        case _:        \n",
    "            continue\n",
    "\n",
    "    # Perform SMBO. Note: X has to be scaled inside the function\n",
    "\n",
    "    time_start = time.time()\n",
    "    smbo_best=None\n",
    "\n",
    "    trials = Trials()   \n",
    "\n",
    "    try: \n",
    "        smbo_best = fmin( fn = model_fmin, \n",
    "                            space = model_space,\n",
    "                            algo  = tpe.suggest,\n",
    "                            max_evals = 100, \n",
    "                            trials = trials,\n",
    "                            rstate = np.random.default_rng(random_seed))    \n",
    "        logging.info(f'[Nested CV Step Success] {model_name} SMBO Best Parameters: {smbo_best}')\n",
    "    \n",
    "    except Exception as e:\n",
    "        logging.error(f'[Nested CV Step ERROR]: {e}')\n",
    "\n",
    "    time_end = time.time()\n",
    "    runtime = time_end - time_start\n",
    "    print('Model Total running time: ', runtime)\n",
    "    \n",
    "    # Append SMBO results\n",
    "    if smbo_best:\n",
    "        losses = trials.losses()\n",
    "        results.append(\n",
    "            {\n",
    "            'model' : model_name,\n",
    "            'tuning' : 'SMBO',\n",
    "            'best_params' : smbo_best,\n",
    "            'Score' : np.nan\n",
    "            }\n",
    "        )\n",
    "\n",
    "        print(f'SMBO {model_name} best parameters: ', smbo_best)\n",
    "\n",
    "    print('\\n')"
   ]
  },
  {
   "cell_type": "markdown",
   "metadata": {},
   "source": [
    "**Model Selection based on model evaluation metrics**"
   ]
  },
  {
   "cell_type": "markdown",
   "metadata": {},
   "source": [
    "Tabulate Hyperparameter Tuning results"
   ]
  },
  {
   "cell_type": "code",
   "execution_count": 94,
   "metadata": {},
   "outputs": [
    {
     "data": {
      "text/html": [
       "<div>\n",
       "<style scoped>\n",
       "    .dataframe tbody tr th:only-of-type {\n",
       "        vertical-align: middle;\n",
       "    }\n",
       "\n",
       "    .dataframe tbody tr th {\n",
       "        vertical-align: top;\n",
       "    }\n",
       "\n",
       "    .dataframe thead th {\n",
       "        text-align: right;\n",
       "    }\n",
       "</style>\n",
       "<table border=\"1\" class=\"dataframe\">\n",
       "  <thead>\n",
       "    <tr style=\"text-align: right;\">\n",
       "      <th></th>\n",
       "      <th>model</th>\n",
       "      <th>tuning</th>\n",
       "      <th>best_params</th>\n",
       "      <th>Score</th>\n",
       "    </tr>\n",
       "  </thead>\n",
       "  <tbody>\n",
       "    <tr>\n",
       "      <th>0</th>\n",
       "      <td>KMeans</td>\n",
       "      <td>RandomizedSearchCV</td>\n",
       "      <td>{'cluster__tol': 0.01, 'cluster__n_init': 10, ...</td>\n",
       "      <td>0.600000</td>\n",
       "    </tr>\n",
       "    <tr>\n",
       "      <th>2</th>\n",
       "      <td>Agglomerative</td>\n",
       "      <td>RandomizedSearchCV</td>\n",
       "      <td>{'cluster__n_clusters': 3, 'cluster__metric': ...</td>\n",
       "      <td>0.431709</td>\n",
       "    </tr>\n",
       "    <tr>\n",
       "      <th>3</th>\n",
       "      <td>DBSCAN</td>\n",
       "      <td>RandomizedSearchCV</td>\n",
       "      <td>{'cluster__min_samples': 10, 'cluster__metric'...</td>\n",
       "      <td>-0.159499</td>\n",
       "    </tr>\n",
       "    <tr>\n",
       "      <th>1</th>\n",
       "      <td>KMeans</td>\n",
       "      <td>SMBO</td>\n",
       "      <td>{'algorithm': 1, 'init': 1, 'max_iter': 835.0,...</td>\n",
       "      <td>NaN</td>\n",
       "    </tr>\n",
       "  </tbody>\n",
       "</table>\n",
       "</div>"
      ],
      "text/plain": [
       "           model              tuning  \\\n",
       "0         KMeans  RandomizedSearchCV   \n",
       "2  Agglomerative  RandomizedSearchCV   \n",
       "3         DBSCAN  RandomizedSearchCV   \n",
       "1         KMeans                SMBO   \n",
       "\n",
       "                                         best_params     Score  \n",
       "0  {'cluster__tol': 0.01, 'cluster__n_init': 10, ...  0.600000  \n",
       "2  {'cluster__n_clusters': 3, 'cluster__metric': ...  0.431709  \n",
       "3  {'cluster__min_samples': 10, 'cluster__metric'... -0.159499  \n",
       "1  {'algorithm': 1, 'init': 1, 'max_iter': 835.0,...       NaN  "
      ]
     },
     "execution_count": 94,
     "metadata": {},
     "output_type": "execute_result"
    }
   ],
   "source": [
    "df_modelres = pd.DataFrame(results)\n",
    "df_modelres.sort_values(by='Score', ascending=False)"
   ]
  },
  {
   "cell_type": "markdown",
   "metadata": {},
   "source": [
    "KMeans and Agglomerative Hierarchichal clustering yielded a more promising silhouette scores. It can also be surmised that DBSCAN may not be the appropriate clustering algorithm since it has negative results which indicates that the clusters overlap more compared to other algorithms that have higher silhouette score. \n"
   ]
  },
  {
   "cell_type": "markdown",
   "metadata": {},
   "source": [
    "Compare KMeans inertia scores using GridSearch, RandomizedSearch, and SMBO\n",
    " "
   ]
  },
  {
   "cell_type": "code",
   "execution_count": null,
   "metadata": {},
   "outputs": [
    {
     "name": "stdout",
     "output_type": "stream",
     "text": [
      "+++ KMeans(random_state=RandomState(MT19937) at 0x7F03391F1240) <class 'sklearn.model_selection._search.RandomizedSearchCV'> results: +++\n",
      "Model Total running time:  0.6057608127593994\n",
      "Best hyperparameters:  {'cluster__tol': 0.1, 'cluster__n_init': 5, 'cluster__n_clusters': 2, 'cluster__max_iter': 400, 'cluster__init': 'random', 'cluster__algorithm': 'lloyd'}\n",
      "Score:  5879.801037854953\n",
      "\n",
      "\n",
      "+++ KMeans(random_state=RandomState(MT19937) at 0x7F03391F1240) <class 'sklearn.model_selection._search.GridSearchCV'> results: +++\n",
      "Model Total running time:  144.82152605056763\n",
      "Best hyperparameters:  {'cluster__algorithm': 'lloyd', 'cluster__init': 'random', 'cluster__max_iter': 100, 'cluster__n_clusters': 2, 'cluster__n_init': 5, 'cluster__tol': 0.1}\n",
      "Score:  5879.801037854953\n",
      "\n",
      "\n",
      "100%|██████████| 100/100 [00:03<00:00, 29.15trial/s, best loss: 1435.2494838475661]\n",
      "Model Total running time:  3.437861204147339\n",
      "SMBO DBSCAN best parameters:  {'algorithm': 0, 'init': 0, 'max_iter': 815.0, 'n_clusters': 10.0, 'n_init': 6.0, 'tol': 0}\n",
      "\n",
      "\n"
     ]
    }
   ],
   "source": [
    "#Re-run hyperparameter search on KMeans algorithm. This time, using inertia in the score function\n",
    "\n",
    "results = []\n",
    "\n",
    "pipeline = Pipeline(steps=[\n",
    "                    ( 'scaler', StandardScaler() ),\n",
    "                    ( 'cluster', KMeans(random_state=np.random.RandomState(random_seed) ) ) ])\n",
    "\n",
    "rscv = f_hp_optimization(desiredcv = RandomizedSearchCV, x_data=X, pipe=pipeline, params = models['KMeans']['params'], njobs= -1, f_scoring=f_inertia_score, fold=10)\n",
    "    \n",
    "# Append Randomized Search CV results\n",
    "if rscv:\n",
    "    results.append(\n",
    "        {   'model' : 'KMeans',\n",
    "            'tuning' : 'RandomizedSearchCV',\n",
    "            'best_params' : rscv.best_params_,\n",
    "            'Inertia' : rscv.best_score_ })\n",
    "\n",
    "\n",
    "gscv = f_hp_optimization(desiredcv = GridSearchCV, x_data=X, pipe=pipeline, params = models['KMeans']['params'], njobs= -1, f_scoring=f_inertia_score, fold=10)\n",
    "    \n",
    "# Append Grid Search CV results\n",
    "if gscv:\n",
    "    results.append(\n",
    "        {   'model' : 'KMeans',\n",
    "            'tuning' : 'GridSearchCV',\n",
    "            'best_params' : gscv.best_params_,\n",
    "            'Inertia' : gscv.best_score_ })\n",
    "\n",
    "\n",
    "# Perform SMBO. Note: X has to be scaled\n",
    "trials = Trials()    \n",
    "\n",
    "time_start = time.time()\n",
    "km_smbo = None\n",
    "\n",
    "try:\n",
    "    km_smbo = fmin( fn = km_f_objective, \n",
    "                            space =  km_space,\n",
    "                            algo  = tpe.suggest,\n",
    "                            max_evals = 100, \n",
    "                            trials = trials,\n",
    "                            rstate = np.random.default_rng(random_seed)    )\n",
    "    logging.info(f'[KM Parameter Optimization Success]: {km_smbo}')\n",
    "\n",
    "except Exception as e:\n",
    "    \n",
    "    logging.error(f'[KM Parameter Optimization Error]: {e}')\n",
    "\n",
    "time_end = time.time()\n",
    "runtime = time_end - time_start\n",
    "print('Model Total running time: ', runtime)\n",
    "\n",
    "if km_smbo:\n",
    "    losses = trials.losses()\n",
    "\n",
    "    # Append Randomized Search CV results\n",
    "    results.append(\n",
    "            {   'model' : 'KMeans',\n",
    "                'tuning' : 'SMBO',\n",
    "                'best_params' : km_smbo,\n",
    "                'Inertia' : abs(min(losses))})\n",
    "\n",
    "    print(f'SMBO {model_name} best parameters: ', km_smbo)\n",
    "\n",
    "print('\\n')"
   ]
  },
  {
   "cell_type": "code",
   "execution_count": 96,
   "metadata": {},
   "outputs": [
    {
     "data": {
      "text/html": [
       "<div>\n",
       "<style scoped>\n",
       "    .dataframe tbody tr th:only-of-type {\n",
       "        vertical-align: middle;\n",
       "    }\n",
       "\n",
       "    .dataframe tbody tr th {\n",
       "        vertical-align: top;\n",
       "    }\n",
       "\n",
       "    .dataframe thead th {\n",
       "        text-align: right;\n",
       "    }\n",
       "</style>\n",
       "<table border=\"1\" class=\"dataframe\">\n",
       "  <thead>\n",
       "    <tr style=\"text-align: right;\">\n",
       "      <th></th>\n",
       "      <th>model</th>\n",
       "      <th>tuning</th>\n",
       "      <th>best_params</th>\n",
       "      <th>Inertia</th>\n",
       "    </tr>\n",
       "  </thead>\n",
       "  <tbody>\n",
       "    <tr>\n",
       "      <th>0</th>\n",
       "      <td>KMeans</td>\n",
       "      <td>RandomizedSearchCV</td>\n",
       "      <td>{'cluster__tol': 0.1, 'cluster__n_init': 5, 'c...</td>\n",
       "      <td>5879.801038</td>\n",
       "    </tr>\n",
       "    <tr>\n",
       "      <th>1</th>\n",
       "      <td>KMeans</td>\n",
       "      <td>GridSearchCV</td>\n",
       "      <td>{'cluster__algorithm': 'lloyd', 'cluster__init...</td>\n",
       "      <td>5879.801038</td>\n",
       "    </tr>\n",
       "    <tr>\n",
       "      <th>2</th>\n",
       "      <td>KMeans</td>\n",
       "      <td>SMBO</td>\n",
       "      <td>{'algorithm': 0, 'init': 0, 'max_iter': 815.0,...</td>\n",
       "      <td>1435.249484</td>\n",
       "    </tr>\n",
       "  </tbody>\n",
       "</table>\n",
       "</div>"
      ],
      "text/plain": [
       "    model              tuning  \\\n",
       "0  KMeans  RandomizedSearchCV   \n",
       "1  KMeans        GridSearchCV   \n",
       "2  KMeans                SMBO   \n",
       "\n",
       "                                         best_params      Inertia  \n",
       "0  {'cluster__tol': 0.1, 'cluster__n_init': 5, 'c...  5879.801038  \n",
       "1  {'cluster__algorithm': 'lloyd', 'cluster__init...  5879.801038  \n",
       "2  {'algorithm': 0, 'init': 0, 'max_iter': 815.0,...  1435.249484  "
      ]
     },
     "execution_count": 96,
     "metadata": {},
     "output_type": "execute_result"
    }
   ],
   "source": [
    "df_inertia = pd.DataFrame(results)\n",
    "df_inertia"
   ]
  },
  {
   "cell_type": "markdown",
   "metadata": {},
   "source": [
    "**Optimal Hyperparameter selection**"
   ]
  },
  {
   "cell_type": "markdown",
   "metadata": {},
   "source": [
    "\n",
    "\n",
    "GridSearch and Random search methods are relatively inefficient compared to SMBO.\\\n",
    "SMBO works by considering the previously seen hyperparameter combinations when choosing the next set of hyperparameters to evluate. Grid and random searches, on the other hand, are completely uninformed by past evaluations and spends significant amount of time evaluating “bad” hyperparameters.\n",
    "\n"
   ]
  },
  {
   "cell_type": "code",
   "execution_count": 97,
   "metadata": {},
   "outputs": [
    {
     "name": "stdout",
     "output_type": "stream",
     "text": [
      "Chosen algorithm : KMeans\n",
      "Best parameters : {'algorithm': 'lloyd', 'init': 'random', 'max_iter': 815, 'n_clusters': 10, 'n_init': 6, 'tol': 0.0001}\n"
     ]
    }
   ],
   "source": [
    "# Manually choose SMBO parameters\n",
    "\n",
    "best_inertia = df_inertia[df_inertia.tuning == 'SMBO']\n",
    "\n",
    "model = best_inertia['model'].item()\n",
    "tuning = best_inertia['tuning'].item()\n",
    "params = best_inertia['best_params'].item()\n",
    "\n",
    "final_best_params= space_eval(km_space, km_smbo)\n",
    "\n",
    "print('Chosen algorithm :', model)\n",
    "print('Best parameters :', final_best_params )"
   ]
  },
  {
   "cell_type": "markdown",
   "metadata": {},
   "source": [
    "## 5.3 Modeling"
   ]
  },
  {
   "cell_type": "markdown",
   "metadata": {},
   "source": [
    "**KMeans Modeling**"
   ]
  },
  {
   "cell_type": "markdown",
   "metadata": {},
   "source": [
    "Create a model using KMeans and the best parameters from SMBO"
   ]
  },
  {
   "cell_type": "code",
   "execution_count": null,
   "metadata": {},
   "outputs": [
    {
     "name": "stdout",
     "output_type": "stream",
     "text": [
      "n_clusters = 2 : 6411.420300149815\n",
      "n_clusters = 3 : 3780.3960052609264\n",
      "n_clusters = 4 : 2924.8277666592103\n",
      "n_clusters = 5 : 2462.8942866049456\n",
      "n_clusters = 6 : 2147.834925499607\n",
      "n_clusters = 7 : 1911.6369124861694\n",
      "n_clusters = 8 : 1704.553654755336\n",
      "n_clusters = 9 : 1567.7705984643242\n",
      "n_clusters = 10 : 1459.3680870156172\n"
     ]
    }
   ],
   "source": [
    "k_clusters = range(2,11)\n",
    "cluster_labels = {}\n",
    "centroids = {}\n",
    "inertias = {}\n",
    "\n",
    "for k in k_clusters:\n",
    "    pipeline = Pipeline(steps=[\n",
    "                        ( 'scaler', StandardScaler() ),\n",
    "                        ( 'kmeans', KMeans() )])\n",
    "    \n",
    "    pipeline.set_params(kmeans__tol = final_best_params['tol'], \n",
    "                        kmeans__n_init = final_best_params['n_init'], \n",
    "                        kmeans__n_clusters = k, \n",
    "                        kmeans__max_iter = final_best_params['max_iter'],  \n",
    "                        kmeans__init = final_best_params['init'], \n",
    "                        kmeans__algorithm = final_best_params['algorithm'],\n",
    "                        kmeans__random_state = np.random.RandomState(random_seed))\n",
    "    \n",
    "    cluster_label = pipeline.fit_predict(X)\n",
    "\n",
    "    #Save labels, centroids, and inertias\n",
    "    cluster_labels[k] = cluster_label\n",
    "    centroids[k] = pipeline['kmeans'].cluster_centers_\n",
    "\n",
    "    inertias[k] = pipeline['kmeans'].inertia_\n",
    "\n",
    "# Display inertias per k clusters\n",
    "for k in k_clusters:\n",
    "    print(f'n_clusters = {k} : {inertias[k]}')"
   ]
  },
  {
   "cell_type": "markdown",
   "metadata": {},
   "source": [
    "There is no direct way to determine the optimal # of Ks from the training loss itself; loss continue to decrease for larger numbers of centers (as any given point's distance to the centers becomes lesser as they are closer). \n",
    "\n",
    "An Inertia Plot is useful for plotting the loss (inertia) versus the number of clusters."
   ]
  },
  {
   "cell_type": "markdown",
   "metadata": {},
   "source": [
    "**Inertia Plot: Selecting the best K- clusters**"
   ]
  },
  {
   "cell_type": "code",
   "execution_count": null,
   "metadata": {},
   "outputs": [
    {
     "data": {
      "image/png": "[encoded data removed]",
      "text/plain": [
       "<Figure size 640x480 with 1 Axes>"
      ]
     },
     "metadata": {},
     "output_type": "display_data"
    }
   ],
   "source": [
    "plt.plot(k_clusters, inertias.values(), '-o')\n",
    "plt.show()"
   ]
  },
  {
   "cell_type": "markdown",
   "metadata": {},
   "source": [
    "Based on the Inertia plot, the knee point is most likely at n_clusters = 3 or 4.\\\n",
    "To further help in deciding the optimal n_clusters, the following silhouette analysis will focus on n_clusters = 2 to 5. "
   ]
  },
  {
   "cell_type": "markdown",
   "metadata": {},
   "source": [
    "**Silhouette Plot**"
   ]
  },
  {
   "cell_type": "code",
   "execution_count": null,
   "metadata": {},
   "outputs": [
    {
     "data": {
      "image/png": "[encoded data removed]",
      "text/plain": [
       "<Figure size 1000x1000 with 4 Axes>"
      ]
     },
     "metadata": {},
     "output_type": "display_data"
    }
   ],
   "source": [
    "fig, ax1 = plt.subplots(2,2, figsize=(10,10))\n",
    "avg_silhouette_scores = []\n",
    "avg_per_k = {}\n",
    "\n",
    "for i, k in enumerate(k_clusters[0:4]):\n",
    "\n",
    "    xctr = yctr = 0\n",
    "    if i%2 != 0:\n",
    "        yctr = 1\n",
    "    if i>=2:\n",
    "        xctr = 1\n",
    "    \n",
    "    # The silhouette coefficient can range from -1, 1 \n",
    "    ax1[xctr][yctr].set_xlim([-0.25, 1])\n",
    "    ax1[xctr][yctr].set_ylim([-1, len(X_scaled) + (k + 1) * 10])\n",
    "\n",
    "    np.random.seed(random_seed)\n",
    "    np.random.default_rng(random_seed)\n",
    "    clusterer = KMeans(n_clusters=k, \n",
    "                       random_state=np.random.RandomState(random_seed), \n",
    "                       n_init = final_best_params['n_init'],\n",
    "                       max_iter=final_best_params['max_iter'], \n",
    "                       init = final_best_params['init'],\n",
    "                       tol = final_best_params['tol'],\n",
    "                       algorithm = final_best_params['algorithm'])\n",
    "    \n",
    "    cl_labels = clusterer.fit_predict(X_scaled)\n",
    "\n",
    "  \n",
    "    silhouette_avg  = silhouette_score(X_scaled, cl_labels)\n",
    "    avg_silhouette_scores.append(silhouette_avg)\n",
    "    avg_per_k[k] = silhouette_avg\n",
    "    \n",
    "    sample_silhouette_values = silhouette_samples(X_scaled, cl_labels)\n",
    "\n",
    "    y_lower = 10\n",
    "    for i in range(k):\n",
    "        ith_cluster_silhouette_values = \\\n",
    "            sample_silhouette_values[cl_labels == i]\n",
    "\n",
    "        ith_cluster_silhouette_values.sort()\n",
    "    \n",
    "        size_cluster_i = ith_cluster_silhouette_values.shape[0] \n",
    "        y_upper = y_lower + size_cluster_i\n",
    "\n",
    "        cmap = colormaps.get_cmap('Spectral')\n",
    "        color = cmap(float(i) / k)\n",
    "        ax1[xctr][yctr].fill_betweenx(np.arange(y_lower, y_upper),\n",
    "                          0, ith_cluster_silhouette_values,\n",
    "                          facecolor=color, edgecolor=color, alpha=0.7)\n",
    "\n",
    "        ax1[xctr][yctr].text(-0.05, y_lower + 0.5 * size_cluster_i, str(i))\n",
    "\n",
    "        y_lower = y_upper + 10  # 10 for the 0 samples\n",
    "\n",
    "   \n",
    "    ax1[xctr][yctr].set_title(\"Silhouette analysis for KMeans with n_clusters = %d\" % k, fontsize=8, fontweight='bold')\n",
    "    ax1[xctr][yctr].set_xlabel(\"Silhouette coefficients\", fontsize=8)\n",
    "    ax1[xctr][yctr].set_ylabel(\"Cluster label\",  fontsize=8)\n",
    "\n",
    "\n",
    "    ax1[xctr][yctr].axvline(x=silhouette_avg, color=\"red\", linestyle=\"--\")\n",
    "    ax1[xctr][yctr].set_yticks([])  # Clear the yaxis labels / ticks\n",
    "    ax1[xctr][yctr].set_xticks([ -0.2, 0, 0.2, 0.4, 0.6, 0.8, 1])\n",
    "    plt.legend()\n",
    "    plt.tight_layout()\n",
    "    plt.suptitle(\"Silhouette analysis for KMeans with various clusters.\",\n",
    "                 fontsize=12, fontweight='bold')\n",
    "\n",
    "    "
   ]
  },
  {
   "cell_type": "markdown",
   "metadata": {},
   "source": [
    "Between n_clusters=3 and n_clusters=4, the former has lower negative silhouette coefficient values, and the cluster label heights is even better compared to the latter.\\\n",
    "The optimal number of clusters for this dataset using KMeans algorithm is 3. \n"
   ]
  },
  {
   "cell_type": "markdown",
   "metadata": {},
   "source": [
    "**Create a new column, Cluster**"
   ]
  },
  {
   "cell_type": "code",
   "execution_count": null,
   "metadata": {},
   "outputs": [
    {
     "data": {
      "text/plain": [
       "Cluster\n",
       "0    2116\n",
       "2     944\n",
       "1     757\n",
       "Name: count, dtype: int64"
      ]
     },
     "execution_count": 80,
     "metadata": {},
     "output_type": "execute_result"
    }
   ],
   "source": [
    "df_clustered = df.copy(deep=True)\n",
    "df_clustered['Cluster'] = cluster_labels[3]\n",
    "df_clustered['Cluster'].value_counts()"
   ]
  },
  {
   "cell_type": "markdown",
   "metadata": {},
   "source": [
    "# 6 Customer Segmentation Analysis"
   ]
  },
  {
   "cell_type": "markdown",
   "metadata": {},
   "source": [
    "## 6.1 Clusters' color designation"
   ]
  },
  {
   "cell_type": "code",
   "execution_count": null,
   "metadata": {},
   "outputs": [],
   "source": [
    "km_colors = { 0: '#fd4848',  #red\n",
    "                1: '#69c641',  #green          \n",
    "                2: '#4196c6',  #blue \n",
    "                3: '#fda848',  #orange\n",
    "                }\n",
    "\n",
    "km_colormap =  df_clustered['Cluster'].map(km_colors) "
   ]
  },
  {
   "cell_type": "markdown",
   "metadata": {},
   "source": [
    "## 6.2 Cluster Distribution"
   ]
  },
  {
   "cell_type": "code",
   "execution_count": null,
   "metadata": {},
   "outputs": [
    {
     "data": {
      "image/png": "[encoded data removed]",
      "text/plain": [
       "<Figure size 1000x1000 with 3 Axes>"
      ]
     },
     "metadata": {},
     "output_type": "display_data"
    }
   ],
   "source": [
    "rfm_cols = df_clustered.columns.to_list()\n",
    "rfm_cols.remove('Cluster')\n",
    "rfm_cols\n",
    "\n",
    "plt.figure(figsize=(10,10))\n",
    "\n",
    "for idx, col in enumerate(rfm_cols):\n",
    "\n",
    "    plt.subplot(3, 1, idx+1)\n",
    "    sns.violinplot(x=df_clustered['Cluster'], y=df_clustered[col], hue=df_clustered['Cluster']) #palette=km_colors\n",
    "\n",
    "plt.tight_layout()"
   ]
  },
  {
   "cell_type": "markdown",
   "metadata": {},
   "source": [
    "## 6.3 Cluster Analysis"
   ]
  },
  {
   "cell_type": "markdown",
   "metadata": {},
   "source": [
    "\n",
    "Cluster 1: <b>Moderate</b>\n",
    "\n",
    "- Moderately frequent buyers that are not necessarily high spenders, and haven't purchased recently. \n"
   ]
  },
  {
   "cell_type": "markdown",
   "metadata": {},
   "source": [
    "Cluster 2: <b>Loyal</b>\n",
    "\n",
    "- Frequent shoppers who are high spenders, although no recent purchases."
   ]
  },
  {
   "cell_type": "markdown",
   "metadata": {},
   "source": [
    "\n",
    "Cluster 0: <b>Recent</b>\n",
    "\n",
    "\n",
    "- Less frequent buyers who are low-spenders but made recent purchases.\n"
   ]
  },
  {
   "cell_type": "code",
   "execution_count": null,
   "metadata": {},
   "outputs": [
    {
     "data": {
      "text/plain": [
       "Cluster\n",
       "0    2116\n",
       "2     944\n",
       "1     757\n",
       "Name: count, dtype: int64"
      ]
     },
     "execution_count": 84,
     "metadata": {},
     "output_type": "execute_result"
    }
   ],
   "source": [
    "# Check breakdown of the clustering results\n",
    "df_clustered['Cluster'].value_counts()"
   ]
  },
  {
   "cell_type": "markdown",
   "metadata": {},
   "source": [
    "Map the assigned customer segment label to the cluster numbers in the dataset"
   ]
  },
  {
   "cell_type": "code",
   "execution_count": null,
   "metadata": {},
   "outputs": [
    {
     "data": {
      "text/plain": [
       "Cluster\n",
       "Moderate    2116\n",
       "Recent       944\n",
       "Loyal        757\n",
       "Name: count, dtype: int64"
      ]
     },
     "execution_count": 85,
     "metadata": {},
     "output_type": "execute_result"
    }
   ],
   "source": [
    "cluster_mapping = {\n",
    "    0: 'Moderate', \n",
    "    1: 'Loyal',\n",
    "    2: 'Recent'\n",
    "}\n",
    "\n",
    "df_clustered['Cluster'] = df_clustered.Cluster.map(cluster_mapping)\n",
    "df_clustered.Cluster.value_counts()"
   ]
  },
  {
   "cell_type": "code",
   "execution_count": null,
   "metadata": {},
   "outputs": [
    {
     "data": {
      "text/html": [
       "<div>\n",
       "<style scoped>\n",
       "    .dataframe tbody tr th:only-of-type {\n",
       "        vertical-align: middle;\n",
       "    }\n",
       "\n",
       "    .dataframe tbody tr th {\n",
       "        vertical-align: top;\n",
       "    }\n",
       "\n",
       "    .dataframe thead th {\n",
       "        text-align: right;\n",
       "    }\n",
       "</style>\n",
       "<table border=\"1\" class=\"dataframe\">\n",
       "  <thead>\n",
       "    <tr style=\"text-align: right;\">\n",
       "      <th></th>\n",
       "      <th>Frequency</th>\n",
       "      <th>Monetary</th>\n",
       "      <th>Recency</th>\n",
       "      <th>Cluster</th>\n",
       "    </tr>\n",
       "    <tr>\n",
       "      <th>CustomerID</th>\n",
       "      <th></th>\n",
       "      <th></th>\n",
       "      <th></th>\n",
       "      <th></th>\n",
       "    </tr>\n",
       "  </thead>\n",
       "  <tbody>\n",
       "    <tr>\n",
       "      <th>12348</th>\n",
       "      <td>3</td>\n",
       "      <td>904.44</td>\n",
       "      <td>75</td>\n",
       "      <td>Moderate</td>\n",
       "    </tr>\n",
       "    <tr>\n",
       "      <th>12349</th>\n",
       "      <td>1</td>\n",
       "      <td>1757.55</td>\n",
       "      <td>18</td>\n",
       "      <td>Moderate</td>\n",
       "    </tr>\n",
       "    <tr>\n",
       "      <th>12350</th>\n",
       "      <td>1</td>\n",
       "      <td>334.40</td>\n",
       "      <td>310</td>\n",
       "      <td>Recent</td>\n",
       "    </tr>\n",
       "    <tr>\n",
       "      <th>12352</th>\n",
       "      <td>8</td>\n",
       "      <td>2506.04</td>\n",
       "      <td>36</td>\n",
       "      <td>Loyal</td>\n",
       "    </tr>\n",
       "    <tr>\n",
       "      <th>12353</th>\n",
       "      <td>1</td>\n",
       "      <td>89.00</td>\n",
       "      <td>204</td>\n",
       "      <td>Recent</td>\n",
       "    </tr>\n",
       "  </tbody>\n",
       "</table>\n",
       "</div>"
      ],
      "text/plain": [
       "            Frequency  Monetary  Recency   Cluster\n",
       "CustomerID                                        \n",
       "12348               3    904.44       75  Moderate\n",
       "12349               1   1757.55       18  Moderate\n",
       "12350               1    334.40      310    Recent\n",
       "12352               8   2506.04       36     Loyal\n",
       "12353               1     89.00      204    Recent"
      ]
     },
     "execution_count": 86,
     "metadata": {},
     "output_type": "execute_result"
    }
   ],
   "source": [
    "df_clustered.head()"
   ]
  },
  {
   "cell_type": "markdown",
   "metadata": {},
   "source": [
    "# 7 Outliers Analysis"
   ]
  },
  {
   "cell_type": "markdown",
   "metadata": {},
   "source": [
    "## 7.1 Assigning Cluster Labels"
   ]
  },
  {
   "cell_type": "markdown",
   "metadata": {},
   "source": [
    "Before analyzing the outliers, assign cluster labels to the customers that were previously assigned clusters."
   ]
  },
  {
   "cell_type": "code",
   "execution_count": null,
   "metadata": {},
   "outputs": [
    {
     "data": {
      "text/plain": [
       "(402, 412)"
      ]
     },
     "execution_count": 87,
     "metadata": {},
     "output_type": "execute_result"
    }
   ],
   "source": [
    "df_m_outliers.shape[0], df_f_outliers.shape[0]"
   ]
  },
  {
   "cell_type": "markdown",
   "metadata": {},
   "source": [
    "Outliers will be designated as follows:\n",
    ">  - Monetary outliers : High-Spenders Customers\n",
    ">  - Frequency outliers : Frequent Customers\n",
    ">  - Both Monetary and Frequency outliers : VIPs "
   ]
  },
  {
   "cell_type": "code",
   "execution_count": null,
   "metadata": {},
   "outputs": [],
   "source": [
    "df_vips = df_m_outliers.reset_index().merge(df_f_outliers, how='inner').set_index('index')\n",
    "df_high_spenders = df_m_outliers.drop(df_vips.index)\n",
    "df_frequent = df_f_outliers.drop(df_vips.index)\n",
    "\n",
    "df_vips.drop('LastPurchaseDate', axis=1, inplace=True)\n",
    "df_vips.set_index('CustomerID', inplace=True)\n",
    "df_vips['Cluster'] = 'VIPs'\n",
    "\n",
    "df_high_spenders.drop('LastPurchaseDate', axis=1, inplace=True)\n",
    "df_high_spenders.set_index('CustomerID', inplace=True)\n",
    "df_high_spenders['Cluster'] = 'High Spenders'\n",
    "\n",
    "df_frequent.drop('LastPurchaseDate', axis=1, inplace=True)\n",
    "df_frequent.set_index('CustomerID', inplace=True)\n",
    "df_frequent['Cluster'] = 'Frequent'"
   ]
  },
  {
   "cell_type": "markdown",
   "metadata": {},
   "source": [
    "***Combining different data***"
   ]
  },
  {
   "cell_type": "code",
   "execution_count": null,
   "metadata": {},
   "outputs": [
    {
     "data": {
      "text/html": [
       "<div>\n",
       "<style scoped>\n",
       "    .dataframe tbody tr th:only-of-type {\n",
       "        vertical-align: middle;\n",
       "    }\n",
       "\n",
       "    .dataframe tbody tr th {\n",
       "        vertical-align: top;\n",
       "    }\n",
       "\n",
       "    .dataframe thead th {\n",
       "        text-align: right;\n",
       "    }\n",
       "</style>\n",
       "<table border=\"1\" class=\"dataframe\">\n",
       "  <thead>\n",
       "    <tr style=\"text-align: right;\">\n",
       "      <th></th>\n",
       "      <th>Frequency</th>\n",
       "      <th>Monetary</th>\n",
       "      <th>Recency</th>\n",
       "      <th>Cluster</th>\n",
       "    </tr>\n",
       "    <tr>\n",
       "      <th>CustomerID</th>\n",
       "      <th></th>\n",
       "      <th></th>\n",
       "      <th></th>\n",
       "      <th></th>\n",
       "    </tr>\n",
       "  </thead>\n",
       "  <tbody>\n",
       "    <tr>\n",
       "      <th>12348</th>\n",
       "      <td>3</td>\n",
       "      <td>904.44</td>\n",
       "      <td>75</td>\n",
       "      <td>Moderate</td>\n",
       "    </tr>\n",
       "    <tr>\n",
       "      <th>12349</th>\n",
       "      <td>1</td>\n",
       "      <td>1757.55</td>\n",
       "      <td>18</td>\n",
       "      <td>Moderate</td>\n",
       "    </tr>\n",
       "    <tr>\n",
       "      <th>12350</th>\n",
       "      <td>1</td>\n",
       "      <td>334.40</td>\n",
       "      <td>310</td>\n",
       "      <td>Recent</td>\n",
       "    </tr>\n",
       "    <tr>\n",
       "      <th>12352</th>\n",
       "      <td>8</td>\n",
       "      <td>2506.04</td>\n",
       "      <td>36</td>\n",
       "      <td>Loyal</td>\n",
       "    </tr>\n",
       "    <tr>\n",
       "      <th>12353</th>\n",
       "      <td>1</td>\n",
       "      <td>89.00</td>\n",
       "      <td>204</td>\n",
       "      <td>Recent</td>\n",
       "    </tr>\n",
       "  </tbody>\n",
       "</table>\n",
       "</div>"
      ],
      "text/plain": [
       "            Frequency  Monetary  Recency   Cluster\n",
       "CustomerID                                        \n",
       "12348               3    904.44       75  Moderate\n",
       "12349               1   1757.55       18  Moderate\n",
       "12350               1    334.40      310    Recent\n",
       "12352               8   2506.04       36     Loyal\n",
       "12353               1     89.00      204    Recent"
      ]
     },
     "execution_count": 92,
     "metadata": {},
     "output_type": "execute_result"
    }
   ],
   "source": [
    "df_all = pd.concat([df_clustered, df_vips, df_high_spenders, df_frequent])\n",
    "df_all.head()"
   ]
  },
  {
   "cell_type": "markdown",
   "metadata": {},
   "source": [
    "# 8 Visualizing Customer Segmentation"
   ]
  },
  {
   "cell_type": "code",
   "execution_count": null,
   "metadata": {},
   "outputs": [],
   "source": [
    "df_groupings = pd.DataFrame(df_all.Cluster.value_counts())\n",
    "df_groupings.reset_index(inplace=True)"
   ]
  },
  {
   "cell_type": "code",
   "execution_count": null,
   "metadata": {},
   "outputs": [
    {
     "data": {
      "image/png": "[encoded data removed]",
      "text/plain": [
       "<Figure size 640x480 with 1 Axes>"
      ]
     },
     "metadata": {},
     "output_type": "display_data"
    }
   ],
   "source": [
    "palette = {\n",
    "                'Recent' : '#69c641',    \n",
    "                'Moderate': '#fda848',   \n",
    "                'Loyal':  '#fd4848' ,  \n",
    "                'VIPs':   '#4196c6',\n",
    "                'Frequent': '#04b1b9',      \n",
    "                'High Spenders': '#7a4aa2'       \n",
    "}\n",
    "\n",
    "\n",
    "sns.barplot( data=df_groupings, x='Cluster', y='count', palette = palette)\n",
    "plt.tight_layout()\n",
    "plt.show()"
   ]
  },
  {
   "cell_type": "markdown",
   "metadata": {},
   "source": [
    "# 9 Customer Segmentation Analysis and Recommendations"
   ]
  },
  {
   "cell_type": "markdown",
   "metadata": {},
   "source": [
    "<font color='#fda848'><b>Moderate</b></font>\n",
    "\n",
    "- Moderately frequent buyers that are not necessarily high spenders, and haven't purchased recently. \n",
    "\n",
    "Recommendation: \n",
    "1. Offer subscription on frequently bought items (whenever applicable)\n",
    "2. Recommend \"Frequently bought together\" items\n",
    "3. Implement customer retention and loyalty programs"
   ]
  },
  {
   "cell_type": "markdown",
   "metadata": {},
   "source": [
    "<font color='#69c641'><b>Recent</b></font>\n",
    "\n",
    "\n",
    "- Less frequent buyers who are low-spenders but made recent purchases.\n",
    "\n",
    "Recommendations:\n",
    "1. Identify recently purhcased products and run targeted \"similar products\" ad recommendations\n",
    "2. Encourage to purchase more by offering incentives, vouchers, discounts, and bundle deals. \n",
    "3. Enhance customer experience and services"
   ]
  },
  {
   "cell_type": "markdown",
   "metadata": {},
   "source": [
    "<font color='#fd4848'><b>Loyal</b></font>\n",
    "\n",
    "- Frequent shoppers who are high spenders, although no recent purchases.\n",
    "\n",
    "Recommendations:\n",
    "1. Re-engage by implementing rewards and loyalty programs, and exclusive perks\n",
    "2. Run targeted ads for trending items and top items sold \n",
    "3. Offer subscription on frequently bought items (whenever applicable)"
   ]
  },
  {
   "cell_type": "markdown",
   "metadata": {},
   "source": [
    "<font color='#4196c6'><b>VIPs</b></font>\n",
    "\n",
    "- High value, frequent buyers. \n",
    "\n",
    "Recommendations:\n",
    "1. Offer exclusive perks, and vouchers\n",
    "2. Pamper and enhance shopping experience by offering expedited or free shipping (whenever applicable)"
   ]
  },
  {
   "cell_type": "markdown",
   "metadata": {},
   "source": [
    "<font color='#04b1b9'><b>Frequent</b></font>\n",
    "\n",
    "- Very frequent buyers. \n",
    "\n",
    "Recommendations:\n",
    "1. Offer subscription on frequently bought items (whenever applicable)\n",
    "2. Implement customer retention and loyalty programs\n",
    "3. Offer expedited or free shipping vouchers (whenever applicable)"
   ]
  },
  {
   "cell_type": "markdown",
   "metadata": {},
   "source": [
    "<font color='#7a4aa2'><b>High Spenders</b></font>\n",
    "\n",
    "- High-spending buyers.\n",
    "\n",
    "Recommendation: \n",
    "1. Implement customer retention and loyalty programs\n",
    "2. Offer discounts on bulk purchases or reaching certain amount (whenever applicable)\n",
    "3. Enhance customer experience and services"
   ]
  }
 ],
 "metadata": {
  "kernelspec": {
   "display_name": "ds-retail-env",
   "language": "python",
   "name": "python3"
  },
  "language_info": {
   "codemirror_mode": {
    "name": "ipython",
    "version": 3
   },
   "file_extension": ".py",
   "mimetype": "text/x-python",
   "name": "python",
   "nbconvert_exporter": "python",
   "pygments_lexer": "ipython3",
   "version": "3.12.7"
  }
 },
 "nbformat": 4,
 "nbformat_minor": 2
}
